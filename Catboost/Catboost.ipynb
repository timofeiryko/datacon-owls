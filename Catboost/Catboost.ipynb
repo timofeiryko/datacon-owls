{
 "cells":[
  {
   "cell_type":"markdown",
   "source":[
    "# Imports and set up"
   ],
   "attachments":{},
   "metadata":{
    "datalore":{
     "node_id":"scjmX9UWGnQ4ZtzUGDCZj0",
     "type":"MD",
     "hide_input_from_viewers":true,
     "hide_output_from_viewers":true
    }
   }
  },
  {
   "cell_type":"code",
   "source":[
    "%%capture\n",
    "! pip install catboost optuna shap-hypetune"
   ],
   "execution_count":1,
   "outputs":[],
   "metadata":{
    "datalore":{
     "node_id":"z2m32FxZ8A16TtCOCxdrPe",
     "type":"CODE",
     "hide_input_from_viewers":true,
     "hide_output_from_viewers":true
    }
   }
  },
  {
   "cell_type":"code",
   "source":[
    "import numpy as np\n",
    "import pandas as pd\n",
    "import statsmodels.api as sm\n",
    "\n",
    "import seaborn as sns\n",
    "import matplotlib.pyplot as plt\n",
    "\n",
    "from sklearn.base import BaseEstimator, TransformerMixin\n",
    "from sklearn.pipeline import Pipeline\n",
    "from sklearn.compose import ColumnTransformer\n",
    "from sklearn.preprocessing import OneHotEncoder, LabelEncoder, StandardScaler\n",
    "from sklearn.model_selection import train_test_split, cross_val_score, StratifiedKFold, KFold\n",
    "from catboost import CatBoostClassifier, CatBoostRegressor, Pool\n",
    "from sklearn.metrics import f1_score, roc_auc_score, confusion_matrix\n",
    "\n",
    "import optuna"
   ],
   "execution_count":2,
   "outputs":[],
   "metadata":{
    "datalore":{
     "node_id":"MjVpm4ZauCTaC1AEAo3XeD",
     "type":"CODE",
     "hide_input_from_viewers":true,
     "hide_output_from_viewers":true
    }
   }
  },
  {
   "cell_type":"code",
   "source":[
    "SEED = 42"
   ],
   "execution_count":3,
   "outputs":[],
   "metadata":{
    "datalore":{
     "node_id":"vK4WZgxvPQo4fR2N2y8KTq",
     "type":"CODE",
     "hide_input_from_viewers":true,
     "hide_output_from_viewers":true
    }
   }
  },
  {
   "cell_type":"code",
   "source":[
    "BIOPPYTHON_FEATURE_NAMES = [\n",
    "    'molecular_weight',\n",
    "    'aromaticity',\n",
    "    'instability_index',\n",
    "    'isoelectric_point',\n",
    "    'helix_fraction',\n",
    "    'turn_fraction',\n",
    "    'sheet_fraction',\n",
    "    'molar_extinction_coefficient_reduced',\n",
    "    'molar_extinction_coefficient_oxidized',\n",
    "    'gravy',\n",
    "    'charge_at_ph'\n",
    "]"
   ],
   "execution_count":4,
   "outputs":[],
   "metadata":{
    "datalore":{
     "node_id":"ObJ45jEvABo2VXQgN0fZZp",
     "type":"CODE",
     "hide_input_from_viewers":true,
     "hide_output_from_viewers":true
    }
   }
  },
  {
   "cell_type":"markdown",
   "source":[
    "# Classification"
   ],
   "attachments":{},
   "metadata":{
    "datalore":{
     "node_id":"FErh26vgjH9NCDyOCGyLOb",
     "type":"MD",
     "hide_input_from_viewers":true,
     "hide_output_from_viewers":true
    }
   }
  },
  {
   "cell_type":"code",
   "source":[
    "binary_prepocessed = pd.read_csv('\/data\/notebook_files\/binary_preprocessed.csv')"
   ],
   "execution_count":5,
   "outputs":[],
   "metadata":{
    "datalore":{
     "node_id":"uAgSaW8fP5y987lMdslB2p",
     "type":"CODE",
     "hide_input_from_viewers":true,
     "hide_output_from_viewers":true
    }
   }
  },
  {
   "cell_type":"code",
   "source":[
    "binary_basic_features = pd.read_csv('\/data\/notebook_files\/binary_basic_features_.csv')"
   ],
   "execution_count":6,
   "outputs":[],
   "metadata":{
    "datalore":{
     "node_id":"z1Pr2xAWLwPswSUxnCD2F3",
     "type":"CODE",
     "hide_input_from_viewers":true,
     "hide_output_from_viewers":true
    }
   }
  },
  {
   "cell_type":"code",
   "source":[
    "full_binary_df_with_aa = pd.concat([\n",
    "    binary_prepocessed.reset_index().drop(columns='index') ,\n",
    "    binary_basic_features[BIOPPYTHON_FEATURE_NAMES + ['sequence_len']].reset_index().drop(columns='index') \n",
    "], axis=1, ignore_index=False)\n",
    "\n",
    "full_binary_df_with_aa = full_binary_df_with_aa.loc[:,~full_binary_df_with_aa.columns.duplicated()]\n",
    "\n",
    "full_binary_df_with_aa"
   ],
   "execution_count":7,
   "outputs":[
    {
     "data":{
      "text\/html":[
       "<div>\n",
       "<style scoped>\n",
       "    .dataframe tbody tr th:only-of-type {\n",
       "        vertical-align: middle;\n",
       "    }\n",
       "\n",
       "    .dataframe tbody tr th {\n",
       "        vertical-align: top;\n",
       "    }\n",
       "\n",
       "    .dataframe thead th {\n",
       "        text-align: right;\n",
       "    }\n",
       "<\/style>\n",
       "<table border=\"1\" class=\"dataframe\">\n",
       "  <thead>\n",
       "    <tr style=\"text-align: right;\">\n",
       "      <th><\/th>\n",
       "      <th>Unnamed: 0<\/th>\n",
       "      <th>uptake_type<\/th>\n",
       "      <th>sequence<\/th>\n",
       "      <th>biotin_o<\/th>\n",
       "      <th>molecular_weight<\/th>\n",
       "      <th>aromaticity<\/th>\n",
       "      <th>instability_index<\/th>\n",
       "      <th>isoelectric_point<\/th>\n",
       "      <th>helix_fraction<\/th>\n",
       "      <th>turn_fraction<\/th>\n",
       "      <th>sheet_fraction<\/th>\n",
       "      <th>molar_extinction_coefficient_reduced<\/th>\n",
       "      <th>molar_extinction_coefficient_oxidized<\/th>\n",
       "      <th>gravy<\/th>\n",
       "      <th>charge_at_ph<\/th>\n",
       "      <th>sequence_len<\/th>\n",
       "    <\/tr>\n",
       "  <\/thead>\n",
       "  <tbody>\n",
       "    <tr>\n",
       "      <th>0<\/th>\n",
       "      <td>0<\/td>\n",
       "      <td>0<\/td>\n",
       "      <td>GTRTDSREDEI<\/td>\n",
       "      <td>0<\/td>\n",
       "      <td>1278.2835<\/td>\n",
       "      <td>0.000000<\/td>\n",
       "      <td>71.409091<\/td>\n",
       "      <td>4.316717<\/td>\n",
       "      <td>0.181818<\/td>\n",
       "      <td>0.363636<\/td>\n",
       "      <td>0.272727<\/td>\n",
       "      <td>0<\/td>\n",
       "      <td>0<\/td>\n",
       "      <td>-1.918182<\/td>\n",
       "      <td>-2.232056<\/td>\n",
       "      <td>11<\/td>\n",
       "    <\/tr>\n",
       "    <tr>\n",
       "      <th>1<\/th>\n",
       "      <td>1<\/td>\n",
       "      <td>0<\/td>\n",
       "      <td>VLPAWQGYHPM<\/td>\n",
       "      <td>0<\/td>\n",
       "      <td>1298.5111<\/td>\n",
       "      <td>0.181818<\/td>\n",
       "      <td>38.136364<\/td>\n",
       "      <td>6.710264<\/td>\n",
       "      <td>0.272727<\/td>\n",
       "      <td>0.272727<\/td>\n",
       "      <td>0.363636<\/td>\n",
       "      <td>6990<\/td>\n",
       "      <td>6990<\/td>\n",
       "      <td>-0.072727<\/td>\n",
       "      <td>-0.179836<\/td>\n",
       "      <td>11<\/td>\n",
       "    <\/tr>\n",
       "    <tr>\n",
       "      <th>2<\/th>\n",
       "      <td>2<\/td>\n",
       "      <td>0<\/td>\n",
       "      <td>AQPLWGLLSFLPL<\/td>\n",
       "      <td>0<\/td>\n",
       "      <td>1454.7531<\/td>\n",
       "      <td>0.153846<\/td>\n",
       "      <td>49.100000<\/td>\n",
       "      <td>5.570017<\/td>\n",
       "      <td>0.461538<\/td>\n",
       "      <td>0.307692<\/td>\n",
       "      <td>0.538462<\/td>\n",
       "      <td>5500<\/td>\n",
       "      <td>5500<\/td>\n",
       "      <td>1.138462<\/td>\n",
       "      <td>-0.204125<\/td>\n",
       "      <td>13<\/td>\n",
       "    <\/tr>\n",
       "    <tr>\n",
       "      <th>3<\/th>\n",
       "      <td>3<\/td>\n",
       "      <td>0<\/td>\n",
       "      <td>LPLESGNCAPF<\/td>\n",
       "      <td>0<\/td>\n",
       "      <td>1147.3007<\/td>\n",
       "      <td>0.090909<\/td>\n",
       "      <td>68.790909<\/td>\n",
       "      <td>4.050028<\/td>\n",
       "      <td>0.363636<\/td>\n",
       "      <td>0.454545<\/td>\n",
       "      <td>0.272727<\/td>\n",
       "      <td>0<\/td>\n",
       "      <td>0<\/td>\n",
       "      <td>0.300000<\/td>\n",
       "      <td>-1.246989<\/td>\n",
       "      <td>11<\/td>\n",
       "    <\/tr>\n",
       "    <tr>\n",
       "      <th>4<\/th>\n",
       "      <td>4<\/td>\n",
       "      <td>0<\/td>\n",
       "      <td>LFWLGWLGML<\/td>\n",
       "      <td>0<\/td>\n",
       "      <td>1235.5379<\/td>\n",
       "      <td>0.300000<\/td>\n",
       "      <td>46.020000<\/td>\n",
       "      <td>5.525000<\/td>\n",
       "      <td>0.500000<\/td>\n",
       "      <td>0.200000<\/td>\n",
       "      <td>0.700000<\/td>\n",
       "      <td>11000<\/td>\n",
       "      <td>11000<\/td>\n",
       "      <td>1.730000<\/td>\n",
       "      <td>-0.239898<\/td>\n",
       "      <td>10<\/td>\n",
       "    <\/tr>\n",
       "    <tr>\n",
       "      <th>...<\/th>\n",
       "      <td>...<\/td>\n",
       "      <td>...<\/td>\n",
       "      <td>...<\/td>\n",
       "      <td>...<\/td>\n",
       "      <td>...<\/td>\n",
       "      <td>...<\/td>\n",
       "      <td>...<\/td>\n",
       "      <td>...<\/td>\n",
       "      <td>...<\/td>\n",
       "      <td>...<\/td>\n",
       "      <td>...<\/td>\n",
       "      <td>...<\/td>\n",
       "      <td>...<\/td>\n",
       "      <td>...<\/td>\n",
       "      <td>...<\/td>\n",
       "      <td>...<\/td>\n",
       "    <\/tr>\n",
       "    <tr>\n",
       "      <th>3116<\/th>\n",
       "      <td>1559<\/td>\n",
       "      <td>1<\/td>\n",
       "      <td>KRRIRRERNKMAAAKSRNRRRELTDTGC<\/td>\n",
       "      <td>0<\/td>\n",
       "      <td>3429.9483<\/td>\n",
       "      <td>0.000000<\/td>\n",
       "      <td>134.914286<\/td>\n",
       "      <td>11.910421<\/td>\n",
       "      <td>0.357143<\/td>\n",
       "      <td>0.178571<\/td>\n",
       "      <td>0.142857<\/td>\n",
       "      <td>0<\/td>\n",
       "      <td>0<\/td>\n",
       "      <td>-1.935714<\/td>\n",
       "      <td>8.753855<\/td>\n",
       "      <td>28<\/td>\n",
       "    <\/tr>\n",
       "    <tr>\n",
       "      <th>3117<\/th>\n",
       "      <td>1560<\/td>\n",
       "      <td>1<\/td>\n",
       "      <td>WLRRIKAWLRRIKALNRQLGVAA<\/td>\n",
       "      <td>0<\/td>\n",
       "      <td>2789.3795<\/td>\n",
       "      <td>0.086957<\/td>\n",
       "      <td>87.843478<\/td>\n",
       "      <td>11.999968<\/td>\n",
       "      <td>0.434783<\/td>\n",
       "      <td>0.086957<\/td>\n",
       "      <td>0.391304<\/td>\n",
       "      <td>11000<\/td>\n",
       "      <td>11000<\/td>\n",
       "      <td>-0.169565<\/td>\n",
       "      <td>6.758054<\/td>\n",
       "      <td>23<\/td>\n",
       "    <\/tr>\n",
       "    <tr>\n",
       "      <th>3118<\/th>\n",
       "      <td>1561<\/td>\n",
       "      <td>1<\/td>\n",
       "      <td>GRKKRRQRRRPP<\/td>\n",
       "      <td>0<\/td>\n",
       "      <td>1590.8850<\/td>\n",
       "      <td>0.000000<\/td>\n",
       "      <td>227.683333<\/td>\n",
       "      <td>11.999968<\/td>\n",
       "      <td>0.166667<\/td>\n",
       "      <td>0.250000<\/td>\n",
       "      <td>0.000000<\/td>\n",
       "      <td>0<\/td>\n",
       "      <td>0<\/td>\n",
       "      <td>-3.491667<\/td>\n",
       "      <td>7.758044<\/td>\n",
       "      <td>12<\/td>\n",
       "    <\/tr>\n",
       "    <tr>\n",
       "      <th>3119<\/th>\n",
       "      <td>1562<\/td>\n",
       "      <td>1<\/td>\n",
       "      <td>RRRRRRRRR<\/td>\n",
       "      <td>0<\/td>\n",
       "      <td>1423.6866<\/td>\n",
       "      <td>0.000000<\/td>\n",
       "      <td>518.044444<\/td>\n",
       "      <td>11.999968<\/td>\n",
       "      <td>0.000000<\/td>\n",
       "      <td>0.000000<\/td>\n",
       "      <td>0.000000<\/td>\n",
       "      <td>0<\/td>\n",
       "      <td>0<\/td>\n",
       "      <td>-4.500000<\/td>\n",
       "      <td>8.760012<\/td>\n",
       "      <td>9<\/td>\n",
       "    <\/tr>\n",
       "    <tr>\n",
       "      <th>3120<\/th>\n",
       "      <td>1563<\/td>\n",
       "      <td>1<\/td>\n",
       "      <td>RRRRRRRR<\/td>\n",
       "      <td>0<\/td>\n",
       "      <td>1267.5009<\/td>\n",
       "      <td>0.000000<\/td>\n",
       "      <td>509.950000<\/td>\n",
       "      <td>11.999968<\/td>\n",
       "      <td>0.000000<\/td>\n",
       "      <td>0.000000<\/td>\n",
       "      <td>0.000000<\/td>\n",
       "      <td>0<\/td>\n",
       "      <td>0<\/td>\n",
       "      <td>-4.500000<\/td>\n",
       "      <td>7.760022<\/td>\n",
       "      <td>8<\/td>\n",
       "    <\/tr>\n",
       "  <\/tbody>\n",
       "<\/table>\n",
       "<p>3121 rows × 16 columns<\/p>\n",
       "<\/div>"
      ]
     },
     "metadata":{},
     "output_type":"display_data"
    }
   ],
   "metadata":{
    "datalore":{
     "node_id":"Q9ic6qU67HgbvLyGgzUEGU",
     "type":"CODE",
     "hide_input_from_viewers":true,
     "hide_output_from_viewers":true
    }
   }
  },
  {
   "cell_type":"code",
   "source":[
    "full_binary_df_with_aa = full_binary_df_with_aa.drop(columns=['Unnamed: 0'])"
   ],
   "execution_count":8,
   "outputs":[],
   "metadata":{
    "datalore":{
     "node_id":"eVB2JWgICYSRKCGfrpyNbi",
     "type":"CODE",
     "hide_input_from_viewers":true,
     "hide_output_from_viewers":true
    }
   }
  },
  {
   "cell_type":"code",
   "source":[
    "def add_aa_percentages(df, aa_list, seq_col_name = 'sequence'):\n",
    "    \"\"\"\n",
    "    Adds columns to the DataFrame with the percentage of each specified amino acid in the sequence.\n",
    "\n",
    "    Parameters:\n",
    "    df (pd.DataFrame): DataFrame containing the sequences.\n",
    "    aa_list (list of str): List of amino acids to compute percentages for.\n",
    "\n",
    "    Returns:\n",
    "    pd.DataFrame: DataFrame with additional columns for each amino acid percentage.\n",
    "    \"\"\"\n",
    "    for aa in aa_list:\n",
    "        df[aa + '_percentage'] = df[seq_col_name].apply(lambda x: x.count(aa) \/ len(x) * 100 if len(x) > 0 else 0)\n",
    "    return df"
   ],
   "execution_count":9,
   "outputs":[],
   "metadata":{
    "datalore":{
     "node_id":"yi0ObL0mxEk8N7U0NwWwvG",
     "type":"CODE",
     "hide_input_from_viewers":true,
     "hide_output_from_viewers":true
    }
   }
  },
  {
   "cell_type":"code",
   "source":[
    "amino_acids = ['R', 'K', 'S', 'E']"
   ],
   "execution_count":10,
   "outputs":[],
   "metadata":{
    "datalore":{
     "node_id":"JV9zjMxoYZQC0CT3A0obKB",
     "type":"CODE",
     "hide_input_from_viewers":true,
     "hide_output_from_viewers":true
    }
   }
  },
  {
   "cell_type":"code",
   "source":[
    "add_aa_percentages(full_binary_df_with_aa, amino_acids)"
   ],
   "execution_count":11,
   "outputs":[
    {
     "data":{
      "text\/html":[
       "<div>\n",
       "<style scoped>\n",
       "    .dataframe tbody tr th:only-of-type {\n",
       "        vertical-align: middle;\n",
       "    }\n",
       "\n",
       "    .dataframe tbody tr th {\n",
       "        vertical-align: top;\n",
       "    }\n",
       "\n",
       "    .dataframe thead th {\n",
       "        text-align: right;\n",
       "    }\n",
       "<\/style>\n",
       "<table border=\"1\" class=\"dataframe\">\n",
       "  <thead>\n",
       "    <tr style=\"text-align: right;\">\n",
       "      <th><\/th>\n",
       "      <th>uptake_type<\/th>\n",
       "      <th>sequence<\/th>\n",
       "      <th>biotin_o<\/th>\n",
       "      <th>molecular_weight<\/th>\n",
       "      <th>aromaticity<\/th>\n",
       "      <th>instability_index<\/th>\n",
       "      <th>isoelectric_point<\/th>\n",
       "      <th>helix_fraction<\/th>\n",
       "      <th>turn_fraction<\/th>\n",
       "      <th>sheet_fraction<\/th>\n",
       "      <th>molar_extinction_coefficient_reduced<\/th>\n",
       "      <th>molar_extinction_coefficient_oxidized<\/th>\n",
       "      <th>gravy<\/th>\n",
       "      <th>charge_at_ph<\/th>\n",
       "      <th>sequence_len<\/th>\n",
       "      <th>R_percentage<\/th>\n",
       "      <th>K_percentage<\/th>\n",
       "      <th>S_percentage<\/th>\n",
       "      <th>E_percentage<\/th>\n",
       "    <\/tr>\n",
       "  <\/thead>\n",
       "  <tbody>\n",
       "    <tr>\n",
       "      <th>0<\/th>\n",
       "      <td>0<\/td>\n",
       "      <td>GTRTDSREDEI<\/td>\n",
       "      <td>0<\/td>\n",
       "      <td>1278.2835<\/td>\n",
       "      <td>0.000000<\/td>\n",
       "      <td>71.409091<\/td>\n",
       "      <td>4.316717<\/td>\n",
       "      <td>0.181818<\/td>\n",
       "      <td>0.363636<\/td>\n",
       "      <td>0.272727<\/td>\n",
       "      <td>0<\/td>\n",
       "      <td>0<\/td>\n",
       "      <td>-1.918182<\/td>\n",
       "      <td>-2.232056<\/td>\n",
       "      <td>11<\/td>\n",
       "      <td>18.181818<\/td>\n",
       "      <td>0.000000<\/td>\n",
       "      <td>9.090909<\/td>\n",
       "      <td>18.181818<\/td>\n",
       "    <\/tr>\n",
       "    <tr>\n",
       "      <th>1<\/th>\n",
       "      <td>0<\/td>\n",
       "      <td>VLPAWQGYHPM<\/td>\n",
       "      <td>0<\/td>\n",
       "      <td>1298.5111<\/td>\n",
       "      <td>0.181818<\/td>\n",
       "      <td>38.136364<\/td>\n",
       "      <td>6.710264<\/td>\n",
       "      <td>0.272727<\/td>\n",
       "      <td>0.272727<\/td>\n",
       "      <td>0.363636<\/td>\n",
       "      <td>6990<\/td>\n",
       "      <td>6990<\/td>\n",
       "      <td>-0.072727<\/td>\n",
       "      <td>-0.179836<\/td>\n",
       "      <td>11<\/td>\n",
       "      <td>0.000000<\/td>\n",
       "      <td>0.000000<\/td>\n",
       "      <td>0.000000<\/td>\n",
       "      <td>0.000000<\/td>\n",
       "    <\/tr>\n",
       "    <tr>\n",
       "      <th>2<\/th>\n",
       "      <td>0<\/td>\n",
       "      <td>AQPLWGLLSFLPL<\/td>\n",
       "      <td>0<\/td>\n",
       "      <td>1454.7531<\/td>\n",
       "      <td>0.153846<\/td>\n",
       "      <td>49.100000<\/td>\n",
       "      <td>5.570017<\/td>\n",
       "      <td>0.461538<\/td>\n",
       "      <td>0.307692<\/td>\n",
       "      <td>0.538462<\/td>\n",
       "      <td>5500<\/td>\n",
       "      <td>5500<\/td>\n",
       "      <td>1.138462<\/td>\n",
       "      <td>-0.204125<\/td>\n",
       "      <td>13<\/td>\n",
       "      <td>0.000000<\/td>\n",
       "      <td>0.000000<\/td>\n",
       "      <td>7.692308<\/td>\n",
       "      <td>0.000000<\/td>\n",
       "    <\/tr>\n",
       "    <tr>\n",
       "      <th>3<\/th>\n",
       "      <td>0<\/td>\n",
       "      <td>LPLESGNCAPF<\/td>\n",
       "      <td>0<\/td>\n",
       "      <td>1147.3007<\/td>\n",
       "      <td>0.090909<\/td>\n",
       "      <td>68.790909<\/td>\n",
       "      <td>4.050028<\/td>\n",
       "      <td>0.363636<\/td>\n",
       "      <td>0.454545<\/td>\n",
       "      <td>0.272727<\/td>\n",
       "      <td>0<\/td>\n",
       "      <td>0<\/td>\n",
       "      <td>0.300000<\/td>\n",
       "      <td>-1.246989<\/td>\n",
       "      <td>11<\/td>\n",
       "      <td>0.000000<\/td>\n",
       "      <td>0.000000<\/td>\n",
       "      <td>9.090909<\/td>\n",
       "      <td>9.090909<\/td>\n",
       "    <\/tr>\n",
       "    <tr>\n",
       "      <th>4<\/th>\n",
       "      <td>0<\/td>\n",
       "      <td>LFWLGWLGML<\/td>\n",
       "      <td>0<\/td>\n",
       "      <td>1235.5379<\/td>\n",
       "      <td>0.300000<\/td>\n",
       "      <td>46.020000<\/td>\n",
       "      <td>5.525000<\/td>\n",
       "      <td>0.500000<\/td>\n",
       "      <td>0.200000<\/td>\n",
       "      <td>0.700000<\/td>\n",
       "      <td>11000<\/td>\n",
       "      <td>11000<\/td>\n",
       "      <td>1.730000<\/td>\n",
       "      <td>-0.239898<\/td>\n",
       "      <td>10<\/td>\n",
       "      <td>0.000000<\/td>\n",
       "      <td>0.000000<\/td>\n",
       "      <td>0.000000<\/td>\n",
       "      <td>0.000000<\/td>\n",
       "    <\/tr>\n",
       "    <tr>\n",
       "      <th>...<\/th>\n",
       "      <td>...<\/td>\n",
       "      <td>...<\/td>\n",
       "      <td>...<\/td>\n",
       "      <td>...<\/td>\n",
       "      <td>...<\/td>\n",
       "      <td>...<\/td>\n",
       "      <td>...<\/td>\n",
       "      <td>...<\/td>\n",
       "      <td>...<\/td>\n",
       "      <td>...<\/td>\n",
       "      <td>...<\/td>\n",
       "      <td>...<\/td>\n",
       "      <td>...<\/td>\n",
       "      <td>...<\/td>\n",
       "      <td>...<\/td>\n",
       "      <td>...<\/td>\n",
       "      <td>...<\/td>\n",
       "      <td>...<\/td>\n",
       "      <td>...<\/td>\n",
       "    <\/tr>\n",
       "    <tr>\n",
       "      <th>3116<\/th>\n",
       "      <td>1<\/td>\n",
       "      <td>KRRIRRERNKMAAAKSRNRRRELTDTGC<\/td>\n",
       "      <td>0<\/td>\n",
       "      <td>3429.9483<\/td>\n",
       "      <td>0.000000<\/td>\n",
       "      <td>134.914286<\/td>\n",
       "      <td>11.910421<\/td>\n",
       "      <td>0.357143<\/td>\n",
       "      <td>0.178571<\/td>\n",
       "      <td>0.142857<\/td>\n",
       "      <td>0<\/td>\n",
       "      <td>0<\/td>\n",
       "      <td>-1.935714<\/td>\n",
       "      <td>8.753855<\/td>\n",
       "      <td>28<\/td>\n",
       "      <td>32.142857<\/td>\n",
       "      <td>10.714286<\/td>\n",
       "      <td>3.571429<\/td>\n",
       "      <td>7.142857<\/td>\n",
       "    <\/tr>\n",
       "    <tr>\n",
       "      <th>3117<\/th>\n",
       "      <td>1<\/td>\n",
       "      <td>WLRRIKAWLRRIKALNRQLGVAA<\/td>\n",
       "      <td>0<\/td>\n",
       "      <td>2789.3795<\/td>\n",
       "      <td>0.086957<\/td>\n",
       "      <td>87.843478<\/td>\n",
       "      <td>11.999968<\/td>\n",
       "      <td>0.434783<\/td>\n",
       "      <td>0.086957<\/td>\n",
       "      <td>0.391304<\/td>\n",
       "      <td>11000<\/td>\n",
       "      <td>11000<\/td>\n",
       "      <td>-0.169565<\/td>\n",
       "      <td>6.758054<\/td>\n",
       "      <td>23<\/td>\n",
       "      <td>21.739130<\/td>\n",
       "      <td>8.695652<\/td>\n",
       "      <td>0.000000<\/td>\n",
       "      <td>0.000000<\/td>\n",
       "    <\/tr>\n",
       "    <tr>\n",
       "      <th>3118<\/th>\n",
       "      <td>1<\/td>\n",
       "      <td>GRKKRRQRRRPP<\/td>\n",
       "      <td>0<\/td>\n",
       "      <td>1590.8850<\/td>\n",
       "      <td>0.000000<\/td>\n",
       "      <td>227.683333<\/td>\n",
       "      <td>11.999968<\/td>\n",
       "      <td>0.166667<\/td>\n",
       "      <td>0.250000<\/td>\n",
       "      <td>0.000000<\/td>\n",
       "      <td>0<\/td>\n",
       "      <td>0<\/td>\n",
       "      <td>-3.491667<\/td>\n",
       "      <td>7.758044<\/td>\n",
       "      <td>12<\/td>\n",
       "      <td>50.000000<\/td>\n",
       "      <td>16.666667<\/td>\n",
       "      <td>0.000000<\/td>\n",
       "      <td>0.000000<\/td>\n",
       "    <\/tr>\n",
       "    <tr>\n",
       "      <th>3119<\/th>\n",
       "      <td>1<\/td>\n",
       "      <td>RRRRRRRRR<\/td>\n",
       "      <td>0<\/td>\n",
       "      <td>1423.6866<\/td>\n",
       "      <td>0.000000<\/td>\n",
       "      <td>518.044444<\/td>\n",
       "      <td>11.999968<\/td>\n",
       "      <td>0.000000<\/td>\n",
       "      <td>0.000000<\/td>\n",
       "      <td>0.000000<\/td>\n",
       "      <td>0<\/td>\n",
       "      <td>0<\/td>\n",
       "      <td>-4.500000<\/td>\n",
       "      <td>8.760012<\/td>\n",
       "      <td>9<\/td>\n",
       "      <td>100.000000<\/td>\n",
       "      <td>0.000000<\/td>\n",
       "      <td>0.000000<\/td>\n",
       "      <td>0.000000<\/td>\n",
       "    <\/tr>\n",
       "    <tr>\n",
       "      <th>3120<\/th>\n",
       "      <td>1<\/td>\n",
       "      <td>RRRRRRRR<\/td>\n",
       "      <td>0<\/td>\n",
       "      <td>1267.5009<\/td>\n",
       "      <td>0.000000<\/td>\n",
       "      <td>509.950000<\/td>\n",
       "      <td>11.999968<\/td>\n",
       "      <td>0.000000<\/td>\n",
       "      <td>0.000000<\/td>\n",
       "      <td>0.000000<\/td>\n",
       "      <td>0<\/td>\n",
       "      <td>0<\/td>\n",
       "      <td>-4.500000<\/td>\n",
       "      <td>7.760022<\/td>\n",
       "      <td>8<\/td>\n",
       "      <td>100.000000<\/td>\n",
       "      <td>0.000000<\/td>\n",
       "      <td>0.000000<\/td>\n",
       "      <td>0.000000<\/td>\n",
       "    <\/tr>\n",
       "  <\/tbody>\n",
       "<\/table>\n",
       "<p>3121 rows × 19 columns<\/p>\n",
       "<\/div>"
      ]
     },
     "metadata":{},
     "output_type":"display_data"
    }
   ],
   "metadata":{
    "datalore":{
     "node_id":"2vrcb3fVJ0jUTt29CH56dG",
     "type":"CODE",
     "hide_input_from_viewers":true,
     "hide_output_from_viewers":true
    }
   }
  },
  {
   "cell_type":"code",
   "source":[
    "full_binary_df_with_aa.sequence_len.hist()"
   ],
   "execution_count":12,
   "outputs":[
    {
     "data":{
      "text\/plain":[
       "<Axes: >"
      ]
     },
     "metadata":{},
     "output_type":"display_data"
    },
    {
     "data":{
      "image\/png":"[encoded data removed]"
     },
     "metadata":{
      "image\/png":{}
     },
     "output_type":"display_data"
    }
   ],
   "metadata":{
    "datalore":{
     "node_id":"xgWRWSVGOr9jDuwgRlqHME",
     "type":"CODE",
     "hide_input_from_viewers":true,
     "hide_output_from_viewers":true
    }
   }
  },
  {
   "cell_type":"code",
   "source":[
    "MAX_LEN = 40"
   ],
   "execution_count":13,
   "outputs":[],
   "metadata":{
    "datalore":{
     "node_id":"eqYBhvYekdcfZE4ocwbIH3",
     "type":"CODE",
     "hide_input_from_viewers":true,
     "hide_output_from_viewers":true
    }
   }
  },
  {
   "cell_type":"code",
   "source":[
    "# Custom transformer to extract amino acids at each position\n",
    "class SequencePositionTransformer(BaseEstimator, TransformerMixin):\n",
    "    def __init__(self, max_len=40):\n",
    "        self.max_len = max_len\n",
    "    \n",
    "    def fit(self, X, y=None):\n",
    "        return self\n",
    "    \n",
    "    def transform(self, X):\n",
    "        X_transformed = []\n",
    "        for seq in X:\n",
    "            if len(seq) > self.max_len:\n",
    "                seq = seq[:self.max_len]  # Truncate sequences longer than max_len\n",
    "            seq_padded = seq.ljust(self.max_len, 'X')  # Pad sequences shorter than max_len with 'X' (to represent no amino acid)\n",
    "            X_transformed.append(list(seq_padded))\n",
    "        return X_transformed\n",
    "    \n",
    "# Define the ColumnTransformer\n",
    "preprocessor = ColumnTransformer(\n",
    "    transformers=[\n",
    "        ('seq', Pipeline(steps=[\n",
    "            ('seq_pos', SequencePositionTransformer(max_len=MAX_LEN)),\n",
    "            ('onehot', OneHotEncoder(handle_unknown='ignore', sparse_output=False))\n",
    "        ]), 'sequence')\n",
    "    ],\n",
    "    remainder='passthrough'  # Pass through other columns without transformation\n",
    ")"
   ],
   "execution_count":14,
   "outputs":[],
   "metadata":{
    "datalore":{
     "node_id":"xW9sN51NTSBPfyRHCV7lOH",
     "type":"CODE",
     "hide_input_from_viewers":true,
     "hide_output_from_viewers":true
    }
   }
  },
  {
   "cell_type":"code",
   "source":[
    "# # Custom transformer to extract amino acids at each position\n",
    "# class SequencePositionTransformer(BaseEstimator, TransformerMixin):\n",
    "#     def __init__(self, max_len=40):\n",
    "#         self.max_len = max_len\n",
    "    \n",
    "#     def fit(self, X, y=None):\n",
    "#         return self\n",
    "    \n",
    "#     def transform(self, X):\n",
    "#         X_transformed = []\n",
    "#         for seq in X:\n",
    "#             if len(seq) > self.max_len:\n",
    "#                 seq = seq[:self.max_len]  # Truncate sequences longer than max_len\n",
    "#             seq_padded = seq.ljust(self.max_len, 'X')  # Pad sequences shorter than max_len with 'X' (to represent no amino acid)\n",
    "#             X_transformed.append(list(seq_padded))\n",
    "#         return X_transformed\n",
    "    \n",
    "# # Define the ColumnTransformer\n",
    "# preprocessor = ColumnTransformer(\n",
    "#     transformers=[\n",
    "#         ('seq', Pipeline(steps=[\n",
    "#             ('seq_pos', SequencePositionTransformer(max_len=MAX_LEN)),\n",
    "#             ('onehot', OneHotEncoder(handle_unknown='ignore', sparse_output=False, categories='auto'))  # Use 'auto' for automatic category inference\n",
    "#         ]), 'sequence'),\n",
    "#         ('remainder', 'passthrough')\n",
    "#     ],\n",
    "#     remainder='passthrough'  # Pass through other columns without transformation\n",
    "# )"
   ],
   "execution_count":20,
   "outputs":[],
   "metadata":{
    "datalore":{
     "node_id":"COQZq6rdWM0oEQGCb8iFMW",
     "type":"CODE",
     "hide_input_from_viewers":true,
     "hide_output_from_viewers":true
    }
   }
  },
  {
   "cell_type":"code",
   "source":[
    "# Encode the target variable\n",
    "label_encoder = LabelEncoder()\n",
    "full_binary_df_with_aa['uptake_type'] = label_encoder.fit_transform(full_binary_df_with_aa['uptake_type'])\n",
    "\n",
    "# Define the features and target\n",
    "X = full_binary_df_with_aa.drop(columns=['uptake_type'])\n",
    "y = full_binary_df_with_aa['uptake_type']\n",
    "\n",
    "# Split the data into training and test sets\n",
    "X_train, X_test, y_train, y_test = train_test_split(X, y, test_size=0.2, random_state=SEED)\n",
    "\n",
    "# Create the pipeline\n",
    "pipeline = Pipeline(steps=[\n",
    "    ('preprocessor', preprocessor),\n",
    "    ('classifier', CatBoostClassifier(silent=True, random_seed=SEED))\n",
    "])"
   ],
   "execution_count":21,
   "outputs":[],
   "metadata":{
    "datalore":{
     "node_id":"RNwkHksEir0pQKrT8gZYwL",
     "type":"CODE",
     "hide_input_from_viewers":true,
     "hide_output_from_viewers":true
    }
   }
  },
  {
   "cell_type":"code",
   "source":[
    "# Fit the model\n",
    "pipeline.fit(X_train, y_train)"
   ],
   "execution_count":19,
   "outputs":[
    {
     "ename":"ValueError",
     "evalue":"ValueError: not enough values to unpack (expected 3, got 2)",
     "traceback":[
      "\u001b[0;31m---------------------------------------------------------------------------",
      "Traceback (most recent call last)",
      "    at line 2 in <module>",
      "    at line 401 in fit(self, X, y, **fit_params)",
      "    at line 359 in _fit(self, X, y, **fit_params_steps)",
      "    at line 312 in __call__(self, *args, **kwargs)",
      "    at line 893 in _fit_transform_one(transformer, X, y, weight, message_clsname, message, **fit_params)",
      "    at line 140 in wrapped(self, X, *args, **kwargs)",
      "    at line 723 in fit_transform(self, X, y)",
      "    at line 398 in _validate_transformers(self)",
      "ValueError: not enough values to unpack (expected 3, got 2)"
     ],
     "output_type":"error"
    }
   ],
   "metadata":{
    "datalore":{
     "node_id":"eqbxirx9enmt9uK6wPKW14",
     "type":"CODE",
     "hide_input_from_viewers":true,
     "hide_output_from_viewers":true
    }
   }
  },
  {
   "cell_type":"code",
   "source":[
    "# Make predictions\n",
    "y_pred = pipeline.predict(X_test)\n",
    "y_proba = pipeline.predict_proba(X_test)[:, 1]\n",
    "\n",
    "# Evaluate the model\n",
    "f1 = f1_score(y_test, y_pred)\n",
    "auc = roc_auc_score(y_test, y_proba)\n",
    "\n",
    "print(f'F1 Score: {f1}')\n",
    "print(f'AUC: {auc}')"
   ],
   "execution_count":131,
   "outputs":[
    {
     "name":"stdout",
     "text":[
      "F1 Score: 0.8869257950530036\n",
      "AUC: 0.9556316104158505\n"
     ],
     "output_type":"stream"
    }
   ],
   "metadata":{
    "datalore":{
     "node_id":"l4NxnjSw2LbLk6MCDYNFf5",
     "type":"CODE",
     "hide_input_from_viewers":true,
     "hide_output_from_viewers":true
    }
   }
  },
  {
   "cell_type":"code",
   "source":[
    "cfm = confusion_matrix(y_pred,y_test)\n",
    "sns.heatmap(cfm, annot=True, cmap=\"Blues\", fmt='g')\n",
    "plt.show()"
   ],
   "execution_count":132,
   "outputs":[
    {
     "data":{
      "image\/png":"[encoded data removed]"
     },
     "metadata":{
      "image\/png":{}
     },
     "output_type":"display_data"
    }
   ],
   "metadata":{
    "datalore":{
     "node_id":"cplYdP7LRwUGT8Nf4GpmGk",
     "type":"CODE",
     "hide_input_from_viewers":true,
     "hide_output_from_viewers":true
    }
   }
  },
  {
   "cell_type":"code",
   "source":[
    "def objective(trial):\n",
    "    # Define hyperparameters to tune\n",
    "    params = {\n",
    "        \"iterations\": 500,\n",
    "        \"learning_rate\": trial.suggest_float(\"learning_rate\", 1e-3, 0.1, log=True),\n",
    "        \"depth\": trial.suggest_int(\"depth\", 1, 10),\n",
    "        \"subsample\": trial.suggest_float(\"subsample\", 0.05, 1.0),\n",
    "        \"colsample_bylevel\": trial.suggest_float(\"colsample_bylevel\", 0.05, 1.0),\n",
    "        \"min_data_in_leaf\": trial.suggest_int(\"min_data_in_leaf\", 1, 100),\n",
    "    }\n",
    "\n",
    "    # Create the pipeline with tuned CatBoostClassifier\n",
    "    pipeline = Pipeline(steps=[\n",
    "        ('preprocessor', preprocessor),\n",
    "        ('classifier', CatBoostClassifier(**params, silent=True))\n",
    "    ])\n",
    "\n",
    "    # Cross-validation\n",
    "    cv = StratifiedKFold(n_splits=5, shuffle=True, random_state=42)\n",
    "    auc_scores = cross_val_score(pipeline, X, y, cv=cv, scoring='roc_auc')\n",
    "\n",
    "    # Return the average AUC across all folds\n",
    "    return np.mean(auc_scores)"
   ],
   "execution_count":133,
   "outputs":[],
   "metadata":{
    "datalore":{
     "node_id":"LDLQ5K2RdbduCJCGVPXE33",
     "type":"CODE",
     "hide_input_from_viewers":true,
     "hide_output_from_viewers":true
    }
   }
  },
  {
   "cell_type":"code",
   "source":[
    "# Run optimization\n",
    "study = optuna.create_study(direction='maximize')\n",
    "study.optimize(objective, n_trials=20)\n",
    "\n",
    "# Print best hyperparameters and AUC\n",
    "print('Best hyperparameters:', study.best_params)\n",
    "print('Best AUC:', study.best_value)"
   ],
   "execution_count":134,
   "outputs":[
    {
     "name":"stdout",
     "text":[
      "Best hyperparameters: {'learning_rate': 0.0524623963482218, 'depth': 10, 'subsample': 0.4224345083351122, 'colsample_bylevel': 0.6244444267172016, 'min_data_in_leaf': 58}\n",
      "Best AUC: 0.9711825567768347\n"
     ],
     "output_type":"stream"
    },
    {
     "name":"stderr",
     "text":[
      "[I 2024-07-22 18:54:32,258] A new study created in memory with name: no-name-fc85d08e-e11c-4504-bb69-ceec3ce02a97\n",
      "[I 2024-07-22 18:54:49,257] Trial 0 finished with value: 0.958085052584224 and parameters: {'learning_rate': 0.014597203824188339, 'depth': 6, 'subsample': 0.14887629965845545, 'colsample_bylevel': 0.786037433359786, 'min_data_in_leaf': 82}. Best is trial 0 with value: 0.958085052584224.\n",
      "[I 2024-07-22 18:55:39,656] Trial 1 finished with value: 0.9445759442565536 and parameters: {'learning_rate': 0.0015470271723114542, 'depth': 9, 'subsample': 0.21113092258408872, 'colsample_bylevel': 0.3863732352303563, 'min_data_in_leaf': 2}. Best is trial 0 with value: 0.958085052584224.\n",
      "[I 2024-07-22 18:56:38,283] Trial 2 finished with value: 0.9455514291359564 and parameters: {'learning_rate': 0.0011063277277986773, 'depth': 10, 'subsample': 0.29096048602323354, 'colsample_bylevel': 0.5028494931566964, 'min_data_in_leaf': 26}. Best is trial 0 with value: 0.958085052584224.\n",
      "[I 2024-07-22 18:56:52,544] Trial 3 finished with value: 0.9673257948881165 and parameters: {'learning_rate': 0.06727639761446595, 'depth': 6, 'subsample': 0.05458478930519594, 'colsample_bylevel': 0.14191109432710414, 'min_data_in_leaf': 18}. Best is trial 3 with value: 0.9673257948881165.\n",
      "[I 2024-07-22 18:57:29,241] Trial 4 finished with value: 0.9450543858569341 and parameters: {'learning_rate': 0.0016394467728394258, 'depth': 8, 'subsample': 0.76233791478236, 'colsample_bylevel': 0.9626854353713797, 'min_data_in_leaf': 93}. Best is trial 3 with value: 0.9673257948881165.\n",
      "[I 2024-07-22 18:57:42,988] Trial 5 finished with value: 0.9607918235494484 and parameters: {'learning_rate': 0.029059243784114962, 'depth': 4, 'subsample': 0.8076501953281413, 'colsample_bylevel': 0.9454302476797043, 'min_data_in_leaf': 27}. Best is trial 3 with value: 0.9673257948881165.\n",
      "[I 2024-07-22 18:57:53,953] Trial 6 finished with value: 0.9338794849500831 and parameters: {'learning_rate': 0.0053996134159385875, 'depth': 2, 'subsample': 0.34220501065404274, 'colsample_bylevel': 0.7078251613147944, 'min_data_in_leaf': 67}. Best is trial 3 with value: 0.9673257948881165.\n",
      "[I 2024-07-22 18:58:41,823] Trial 7 finished with value: 0.9620300655556037 and parameters: {'learning_rate': 0.009390560396776394, 'depth': 9, 'subsample': 0.7264710278866983, 'colsample_bylevel': 0.3134144640944479, 'min_data_in_leaf': 3}. Best is trial 3 with value: 0.9673257948881165.\n",
      "[I 2024-07-22 18:58:54,516] Trial 8 finished with value: 0.9293527695737278 and parameters: {'learning_rate': 0.0012085528743022952, 'depth': 4, 'subsample': 0.8147895157461369, 'colsample_bylevel': 0.2650136016245466, 'min_data_in_leaf': 62}. Best is trial 3 with value: 0.9673257948881165.\n",
      "[I 2024-07-22 18:59:25,341] Trial 9 finished with value: 0.9708865210597273 and parameters: {'learning_rate': 0.09548929756443508, 'depth': 8, 'subsample': 0.9326821071937055, 'colsample_bylevel': 0.3028924847175054, 'min_data_in_leaf': 18}. Best is trial 9 with value: 0.9708865210597273.\n",
      "[I 2024-07-22 18:59:35,236] Trial 10 finished with value: 0.9512309949309049 and parameters: {'learning_rate': 0.09433474515874751, 'depth': 1, 'subsample': 0.9869908261019291, 'colsample_bylevel': 0.0800444927868739, 'min_data_in_leaf': 45}. Best is trial 9 with value: 0.9708865210597273.\n",
      "[I 2024-07-22 18:59:50,459] Trial 11 finished with value: 0.9702893613867005 and parameters: {'learning_rate': 0.08603295360686596, 'depth': 7, 'subsample': 0.4817948497420039, 'colsample_bylevel': 0.053811783243301436, 'min_data_in_leaf': 25}. Best is trial 9 with value: 0.9708865210597273.\n",
      "[I 2024-07-22 19:00:06,420] Trial 12 finished with value: 0.9681784575500233 and parameters: {'learning_rate': 0.04166106195620943, 'depth': 7, 'subsample': 0.5112019523675182, 'colsample_bylevel': 0.053274090354284376, 'min_data_in_leaf': 43}. Best is trial 9 with value: 0.9708865210597273.\n",
      "[I 2024-07-22 19:00:25,376] Trial 13 finished with value: 0.9690986491798774 and parameters: {'learning_rate': 0.036768081339016746, 'depth': 7, 'subsample': 0.5362193206872836, 'colsample_bylevel': 0.20945304541816265, 'min_data_in_leaf': 20}. Best is trial 9 with value: 0.9708865210597273.\n",
      "[I 2024-07-22 19:00:38,132] Trial 14 finished with value: 0.9668038379548654 and parameters: {'learning_rate': 0.09375917679534045, 'depth': 4, 'subsample': 0.5157875493422371, 'colsample_bylevel': 0.43008198348814686, 'min_data_in_leaf': 36}. Best is trial 9 with value: 0.9708865210597273.\n",
      "[I 2024-07-22 19:01:05,224] Trial 15 finished with value: 0.9653451661540764 and parameters: {'learning_rate': 0.019016754980340833, 'depth': 8, 'subsample': 0.9832405911170511, 'colsample_bylevel': 0.18508223999770693, 'min_data_in_leaf': 12}. Best is trial 9 with value: 0.9708865210597273.\n",
      "[I 2024-07-22 19:02:09,708] Trial 16 finished with value: 0.9711825567768347 and parameters: {'learning_rate': 0.0524623963482218, 'depth': 10, 'subsample': 0.4224345083351122, 'colsample_bylevel': 0.6244444267172016, 'min_data_in_leaf': 58}. Best is trial 16 with value: 0.9711825567768347.\n",
      "[I 2024-07-22 19:05:23,858] Trial 17 finished with value: 0.9586349809700156 and parameters: {'learning_rate': 0.004518260813438827, 'depth': 10, 'subsample': 0.35867548492803686, 'colsample_bylevel': 0.6536950337204517, 'min_data_in_leaf': 62}. Best is trial 16 with value: 0.9711825567768347.\n",
      "[I 2024-07-22 19:08:46,134] Trial 18 finished with value: 0.9708580378208106 and parameters: {'learning_rate': 0.05230697866031126, 'depth': 9, 'subsample': 0.6323892827279792, 'colsample_bylevel': 0.5984169085128315, 'min_data_in_leaf': 56}. Best is trial 16 with value: 0.9711825567768347.\n",
      "[I 2024-07-22 19:13:20,978] Trial 19 finished with value: 0.9700411247366901 and parameters: {'learning_rate': 0.024097028882946663, 'depth': 10, 'subsample': 0.8940822543540679, 'colsample_bylevel': 0.8158194019253027, 'min_data_in_leaf': 74}. Best is trial 16 with value: 0.9711825567768347.\n"
     ],
     "output_type":"stream"
    }
   ],
   "metadata":{
    "datalore":{
     "node_id":"Syi1OrIk2AFhl7y6Y2S47C",
     "type":"CODE",
     "hide_input_from_viewers":true,
     "hide_output_from_viewers":true
    }
   }
  },
  {
   "cell_type":"code",
   "source":[
    "BEST_PARAMS = {\n",
    "    'learning_rate': 0.0524623963482218,\n",
    "    'depth': 10,\n",
    "    'subsample': 0.4224345083351122,\n",
    "    'colsample_bylevel': 0.6244444267172016,\n",
    "    'min_data_in_leaf': 58\n",
    "}"
   ],
   "execution_count":17,
   "outputs":[],
   "metadata":{
    "datalore":{
     "node_id":"kUOD0ZfAO1aGK498Tf0HVT",
     "type":"CODE",
     "hide_input_from_viewers":true,
     "hide_output_from_viewers":true
    }
   }
  },
  {
   "cell_type":"code",
   "source":[
    "# Train the final model with the best hyperparameters\n",
    "best_params = BEST_PARAMS\n",
    "final_model = Pipeline(steps=[\n",
    "    ('preprocessor', preprocessor),\n",
    "    ('classifier', CatBoostClassifier(**best_params, silent=True))\n",
    "])\n",
    "final_model.fit(X_train, y_train)\n",
    "\n",
    "# Evaluate the final model on the test set\n",
    "y_pred = final_model.predict(X_test)\n",
    "y_proba = final_model.predict_proba(X_test)[:, 1]\n",
    "f1 = f1_score(y_test, y_pred)\n",
    "auc = roc_auc_score(y_test, y_proba)\n",
    "\n",
    "print(f'Final F1 Score: {f1}')\n",
    "print(f'Final AUC: {auc}')"
   ],
   "execution_count":18,
   "outputs":[
    {
     "name":"stdout",
     "text":[
      "Final F1 Score: 0.9065255731922399\n",
      "Final AUC: 0.9610230295033297\n"
     ],
     "output_type":"stream"
    }
   ],
   "metadata":{
    "datalore":{
     "node_id":"0FUc2oz417KLG97fAgHETn",
     "type":"CODE",
     "hide_input_from_viewers":true,
     "hide_output_from_viewers":true
    }
   }
  },
  {
   "cell_type":"code",
   "source":[
    "cfm = confusion_matrix(y_pred,y_test)\n",
    "sns.heatmap(cfm, annot=True, cmap=\"Blues\", fmt='g')\n",
    "plt.show()"
   ],
   "execution_count":30,
   "outputs":[
    {
     "data":{
      "image\/png":"[encoded data removed]"
     },
     "metadata":{
      "image\/png":{}
     },
     "output_type":"display_data"
    }
   ],
   "metadata":{
    "datalore":{
     "node_id":"PSKtreeQrDFF529o7RW2mC",
     "type":"CODE",
     "hide_input_from_viewers":true,
     "hide_output_from_viewers":true
    }
   }
  },
  {
   "cell_type":"code",
   "source":[
    "final_model"
   ],
   "execution_count":23,
   "outputs":[
    {
     "data":{
      "text\/html":[
       "<style>#sk-container-id-3 {color: black;background-color: white;}#sk-container-id-3 pre{padding: 0;}#sk-container-id-3 div.sk-toggleable {background-color: white;}#sk-container-id-3 label.sk-toggleable__label {cursor: pointer;display: block;width: 100%;margin-bottom: 0;padding: 0.3em;box-sizing: border-box;text-align: center;}#sk-container-id-3 label.sk-toggleable__label-arrow:before {content: \"▸\";float: left;margin-right: 0.25em;color: #696969;}#sk-container-id-3 label.sk-toggleable__label-arrow:hover:before {color: black;}#sk-container-id-3 div.sk-estimator:hover label.sk-toggleable__label-arrow:before {color: black;}#sk-container-id-3 div.sk-toggleable__content {max-height: 0;max-width: 0;overflow: hidden;text-align: left;background-color: #f0f8ff;}#sk-container-id-3 div.sk-toggleable__content pre {margin: 0.2em;color: black;border-radius: 0.25em;background-color: #f0f8ff;}#sk-container-id-3 input.sk-toggleable__control:checked~div.sk-toggleable__content {max-height: 200px;max-width: 100%;overflow: auto;}#sk-container-id-3 input.sk-toggleable__control:checked~label.sk-toggleable__label-arrow:before {content: \"▾\";}#sk-container-id-3 div.sk-estimator input.sk-toggleable__control:checked~label.sk-toggleable__label {background-color: #d4ebff;}#sk-container-id-3 div.sk-label input.sk-toggleable__control:checked~label.sk-toggleable__label {background-color: #d4ebff;}#sk-container-id-3 input.sk-hidden--visually {border: 0;clip: rect(1px 1px 1px 1px);clip: rect(1px, 1px, 1px, 1px);height: 1px;margin: -1px;overflow: hidden;padding: 0;position: absolute;width: 1px;}#sk-container-id-3 div.sk-estimator {font-family: monospace;background-color: #f0f8ff;border: 1px dotted black;border-radius: 0.25em;box-sizing: border-box;margin-bottom: 0.5em;}#sk-container-id-3 div.sk-estimator:hover {background-color: #d4ebff;}#sk-container-id-3 div.sk-parallel-item::after {content: \"\";width: 100%;border-bottom: 1px solid gray;flex-grow: 1;}#sk-container-id-3 div.sk-label:hover label.sk-toggleable__label {background-color: #d4ebff;}#sk-container-id-3 div.sk-serial::before {content: \"\";position: absolute;border-left: 1px solid gray;box-sizing: border-box;top: 0;bottom: 0;left: 50%;z-index: 0;}#sk-container-id-3 div.sk-serial {display: flex;flex-direction: column;align-items: center;background-color: white;padding-right: 0.2em;padding-left: 0.2em;position: relative;}#sk-container-id-3 div.sk-item {position: relative;z-index: 1;}#sk-container-id-3 div.sk-parallel {display: flex;align-items: stretch;justify-content: center;background-color: white;position: relative;}#sk-container-id-3 div.sk-item::before, #sk-container-id-3 div.sk-parallel-item::before {content: \"\";position: absolute;border-left: 1px solid gray;box-sizing: border-box;top: 0;bottom: 0;left: 50%;z-index: -1;}#sk-container-id-3 div.sk-parallel-item {display: flex;flex-direction: column;z-index: 1;position: relative;background-color: white;}#sk-container-id-3 div.sk-parallel-item:first-child::after {align-self: flex-end;width: 50%;}#sk-container-id-3 div.sk-parallel-item:last-child::after {align-self: flex-start;width: 50%;}#sk-container-id-3 div.sk-parallel-item:only-child::after {width: 0;}#sk-container-id-3 div.sk-dashed-wrapped {border: 1px dashed gray;margin: 0 0.4em 0.5em 0.4em;box-sizing: border-box;padding-bottom: 0.4em;background-color: white;}#sk-container-id-3 div.sk-label label {font-family: monospace;font-weight: bold;display: inline-block;line-height: 1.2em;}#sk-container-id-3 div.sk-label-container {text-align: center;}#sk-container-id-3 div.sk-container {\/* jupyter's `normalize.less` sets `[hidden] { display: none; }` but bootstrap.min.css set `[hidden] { display: none !important; }` so we also need the `!important` here to be able to override the default hidden behavior on the sphinx rendered scikit-learn.org. See: https:\/\/github.com\/scikit-learn\/scikit-learn\/issues\/21755 *\/display: inline-block !important;position: relative;}#sk-container-id-3 div.sk-text-repr-fallback {display: none;}<\/style><div id=\"sk-container-id-3\" class=\"sk-top-container\"><div class=\"sk-text-repr-fallback\"><pre>Pipeline(steps=[(&#x27;preprocessor&#x27;,\n",
       "                 ColumnTransformer(remainder=&#x27;passthrough&#x27;,\n",
       "                                   transformers=[(&#x27;seq&#x27;,\n",
       "                                                  Pipeline(steps=[(&#x27;seq_pos&#x27;,\n",
       "                                                                   SequencePositionTransformer()),\n",
       "                                                                  (&#x27;onehot&#x27;,\n",
       "                                                                   OneHotEncoder(handle_unknown=&#x27;ignore&#x27;,\n",
       "                                                                                 sparse_output=False))]),\n",
       "                                                  &#x27;sequence&#x27;)])),\n",
       "                (&#x27;classifier&#x27;,\n",
       "                 &lt;catboost.core.CatBoostClassifier object at 0x7f03497d6e20&gt;)])<\/pre><b>In a Jupyter environment, please rerun this cell to show the HTML representation or trust the notebook. <br \/>On GitHub, the HTML representation is unable to render, please try loading this page with nbviewer.org.<\/b><\/div><div class=\"sk-container\" hidden><div class=\"sk-item sk-dashed-wrapped\"><div class=\"sk-label-container\"><div class=\"sk-label sk-toggleable\"><input class=\"sk-toggleable__control sk-hidden--visually\" id=\"sk-estimator-id-17\" type=\"checkbox\" ><label for=\"sk-estimator-id-17\" class=\"sk-toggleable__label sk-toggleable__label-arrow\">Pipeline<\/label><div class=\"sk-toggleable__content\"><pre>Pipeline(steps=[(&#x27;preprocessor&#x27;,\n",
       "                 ColumnTransformer(remainder=&#x27;passthrough&#x27;,\n",
       "                                   transformers=[(&#x27;seq&#x27;,\n",
       "                                                  Pipeline(steps=[(&#x27;seq_pos&#x27;,\n",
       "                                                                   SequencePositionTransformer()),\n",
       "                                                                  (&#x27;onehot&#x27;,\n",
       "                                                                   OneHotEncoder(handle_unknown=&#x27;ignore&#x27;,\n",
       "                                                                                 sparse_output=False))]),\n",
       "                                                  &#x27;sequence&#x27;)])),\n",
       "                (&#x27;classifier&#x27;,\n",
       "                 &lt;catboost.core.CatBoostClassifier object at 0x7f03497d6e20&gt;)])<\/pre><\/div><\/div><\/div><div class=\"sk-serial\"><div class=\"sk-item sk-dashed-wrapped\"><div class=\"sk-label-container\"><div class=\"sk-label sk-toggleable\"><input class=\"sk-toggleable__control sk-hidden--visually\" id=\"sk-estimator-id-18\" type=\"checkbox\" ><label for=\"sk-estimator-id-18\" class=\"sk-toggleable__label sk-toggleable__label-arrow\">preprocessor: ColumnTransformer<\/label><div class=\"sk-toggleable__content\"><pre>ColumnTransformer(remainder=&#x27;passthrough&#x27;,\n",
       "                  transformers=[(&#x27;seq&#x27;,\n",
       "                                 Pipeline(steps=[(&#x27;seq_pos&#x27;,\n",
       "                                                  SequencePositionTransformer()),\n",
       "                                                 (&#x27;onehot&#x27;,\n",
       "                                                  OneHotEncoder(handle_unknown=&#x27;ignore&#x27;,\n",
       "                                                                sparse_output=False))]),\n",
       "                                 &#x27;sequence&#x27;)])<\/pre><\/div><\/div><\/div><div class=\"sk-parallel\"><div class=\"sk-parallel-item\"><div class=\"sk-item\"><div class=\"sk-label-container\"><div class=\"sk-label sk-toggleable\"><input class=\"sk-toggleable__control sk-hidden--visually\" id=\"sk-estimator-id-19\" type=\"checkbox\" ><label for=\"sk-estimator-id-19\" class=\"sk-toggleable__label sk-toggleable__label-arrow\">seq<\/label><div class=\"sk-toggleable__content\"><pre>sequence<\/pre><\/div><\/div><\/div><div class=\"sk-serial\"><div class=\"sk-item\"><div class=\"sk-serial\"><div class=\"sk-item\"><div class=\"sk-estimator sk-toggleable\"><input class=\"sk-toggleable__control sk-hidden--visually\" id=\"sk-estimator-id-20\" type=\"checkbox\" ><label for=\"sk-estimator-id-20\" class=\"sk-toggleable__label sk-toggleable__label-arrow\">SequencePositionTransformer<\/label><div class=\"sk-toggleable__content\"><pre>SequencePositionTransformer()<\/pre><\/div><\/div><\/div><div class=\"sk-item\"><div class=\"sk-estimator sk-toggleable\"><input class=\"sk-toggleable__control sk-hidden--visually\" id=\"sk-estimator-id-21\" type=\"checkbox\" ><label for=\"sk-estimator-id-21\" class=\"sk-toggleable__label sk-toggleable__label-arrow\">OneHotEncoder<\/label><div class=\"sk-toggleable__content\"><pre>OneHotEncoder(handle_unknown=&#x27;ignore&#x27;, sparse_output=False)<\/pre><\/div><\/div><\/div><\/div><\/div><\/div><\/div><\/div><div class=\"sk-parallel-item\"><div class=\"sk-item\"><div class=\"sk-label-container\"><div class=\"sk-label sk-toggleable\"><input class=\"sk-toggleable__control sk-hidden--visually\" id=\"sk-estimator-id-22\" type=\"checkbox\" ><label for=\"sk-estimator-id-22\" class=\"sk-toggleable__label sk-toggleable__label-arrow\">remainder<\/label><div class=\"sk-toggleable__content\"><pre>[&#x27;biotin_o&#x27;, &#x27;molecular_weight&#x27;, &#x27;aromaticity&#x27;, &#x27;instability_index&#x27;, &#x27;isoelectric_point&#x27;, &#x27;helix_fraction&#x27;, &#x27;turn_fraction&#x27;, &#x27;sheet_fraction&#x27;, &#x27;molar_extinction_coefficient_reduced&#x27;, &#x27;molar_extinction_coefficient_oxidized&#x27;, &#x27;gravy&#x27;, &#x27;charge_at_ph&#x27;, &#x27;sequence_len&#x27;, &#x27;R_percentage&#x27;, &#x27;K_percentage&#x27;, &#x27;S_percentage&#x27;, &#x27;E_percentage&#x27;]<\/pre><\/div><\/div><\/div><div class=\"sk-serial\"><div class=\"sk-item\"><div class=\"sk-estimator sk-toggleable\"><input class=\"sk-toggleable__control sk-hidden--visually\" id=\"sk-estimator-id-23\" type=\"checkbox\" ><label for=\"sk-estimator-id-23\" class=\"sk-toggleable__label sk-toggleable__label-arrow\">passthrough<\/label><div class=\"sk-toggleable__content\"><pre>passthrough<\/pre><\/div><\/div><\/div><\/div><\/div><\/div><\/div><\/div><div class=\"sk-item\"><div class=\"sk-estimator sk-toggleable\"><input class=\"sk-toggleable__control sk-hidden--visually\" id=\"sk-estimator-id-24\" type=\"checkbox\" ><label for=\"sk-estimator-id-24\" class=\"sk-toggleable__label sk-toggleable__label-arrow\">CatBoostClassifier<\/label><div class=\"sk-toggleable__content\"><pre>&lt;catboost.core.CatBoostClassifier object at 0x7f03497d6e20&gt;<\/pre><\/div><\/div><\/div><\/div><\/div><\/div><\/div>"
      ]
     },
     "metadata":{},
     "output_type":"display_data"
    }
   ],
   "metadata":{
    "datalore":{
     "node_id":"OnXv8EMZZWd5MxlrXtc1Rm",
     "type":"CODE",
     "hide_input_from_viewers":true,
     "hide_output_from_viewers":true
    }
   }
  },
  {
   "cell_type":"markdown",
   "source":[
    "# Feauture importance"
   ],
   "attachments":{},
   "metadata":{
    "datalore":{
     "node_id":"sCm9tjtpIph1GPI83qBm0v",
     "type":"MD",
     "hide_input_from_viewers":true,
     "hide_output_from_viewers":true
    }
   }
  },
  {
   "cell_type":"code",
   "source":[
    "import shap"
   ],
   "execution_count":24,
   "outputs":[],
   "metadata":{
    "datalore":{
     "node_id":"6vO3wLu2hNvC94uCoAwZrc",
     "type":"CODE",
     "hide_input_from_viewers":true,
     "hide_output_from_viewers":true
    }
   }
  },
  {
   "cell_type":"code",
   "source":[
    "final_model"
   ],
   "execution_count":25,
   "outputs":[
    {
     "data":{
      "text\/html":[
       "<style>#sk-container-id-4 {color: black;background-color: white;}#sk-container-id-4 pre{padding: 0;}#sk-container-id-4 div.sk-toggleable {background-color: white;}#sk-container-id-4 label.sk-toggleable__label {cursor: pointer;display: block;width: 100%;margin-bottom: 0;padding: 0.3em;box-sizing: border-box;text-align: center;}#sk-container-id-4 label.sk-toggleable__label-arrow:before {content: \"▸\";float: left;margin-right: 0.25em;color: #696969;}#sk-container-id-4 label.sk-toggleable__label-arrow:hover:before {color: black;}#sk-container-id-4 div.sk-estimator:hover label.sk-toggleable__label-arrow:before {color: black;}#sk-container-id-4 div.sk-toggleable__content {max-height: 0;max-width: 0;overflow: hidden;text-align: left;background-color: #f0f8ff;}#sk-container-id-4 div.sk-toggleable__content pre {margin: 0.2em;color: black;border-radius: 0.25em;background-color: #f0f8ff;}#sk-container-id-4 input.sk-toggleable__control:checked~div.sk-toggleable__content {max-height: 200px;max-width: 100%;overflow: auto;}#sk-container-id-4 input.sk-toggleable__control:checked~label.sk-toggleable__label-arrow:before {content: \"▾\";}#sk-container-id-4 div.sk-estimator input.sk-toggleable__control:checked~label.sk-toggleable__label {background-color: #d4ebff;}#sk-container-id-4 div.sk-label input.sk-toggleable__control:checked~label.sk-toggleable__label {background-color: #d4ebff;}#sk-container-id-4 input.sk-hidden--visually {border: 0;clip: rect(1px 1px 1px 1px);clip: rect(1px, 1px, 1px, 1px);height: 1px;margin: -1px;overflow: hidden;padding: 0;position: absolute;width: 1px;}#sk-container-id-4 div.sk-estimator {font-family: monospace;background-color: #f0f8ff;border: 1px dotted black;border-radius: 0.25em;box-sizing: border-box;margin-bottom: 0.5em;}#sk-container-id-4 div.sk-estimator:hover {background-color: #d4ebff;}#sk-container-id-4 div.sk-parallel-item::after {content: \"\";width: 100%;border-bottom: 1px solid gray;flex-grow: 1;}#sk-container-id-4 div.sk-label:hover label.sk-toggleable__label {background-color: #d4ebff;}#sk-container-id-4 div.sk-serial::before {content: \"\";position: absolute;border-left: 1px solid gray;box-sizing: border-box;top: 0;bottom: 0;left: 50%;z-index: 0;}#sk-container-id-4 div.sk-serial {display: flex;flex-direction: column;align-items: center;background-color: white;padding-right: 0.2em;padding-left: 0.2em;position: relative;}#sk-container-id-4 div.sk-item {position: relative;z-index: 1;}#sk-container-id-4 div.sk-parallel {display: flex;align-items: stretch;justify-content: center;background-color: white;position: relative;}#sk-container-id-4 div.sk-item::before, #sk-container-id-4 div.sk-parallel-item::before {content: \"\";position: absolute;border-left: 1px solid gray;box-sizing: border-box;top: 0;bottom: 0;left: 50%;z-index: -1;}#sk-container-id-4 div.sk-parallel-item {display: flex;flex-direction: column;z-index: 1;position: relative;background-color: white;}#sk-container-id-4 div.sk-parallel-item:first-child::after {align-self: flex-end;width: 50%;}#sk-container-id-4 div.sk-parallel-item:last-child::after {align-self: flex-start;width: 50%;}#sk-container-id-4 div.sk-parallel-item:only-child::after {width: 0;}#sk-container-id-4 div.sk-dashed-wrapped {border: 1px dashed gray;margin: 0 0.4em 0.5em 0.4em;box-sizing: border-box;padding-bottom: 0.4em;background-color: white;}#sk-container-id-4 div.sk-label label {font-family: monospace;font-weight: bold;display: inline-block;line-height: 1.2em;}#sk-container-id-4 div.sk-label-container {text-align: center;}#sk-container-id-4 div.sk-container {\/* jupyter's `normalize.less` sets `[hidden] { display: none; }` but bootstrap.min.css set `[hidden] { display: none !important; }` so we also need the `!important` here to be able to override the default hidden behavior on the sphinx rendered scikit-learn.org. See: https:\/\/github.com\/scikit-learn\/scikit-learn\/issues\/21755 *\/display: inline-block !important;position: relative;}#sk-container-id-4 div.sk-text-repr-fallback {display: none;}<\/style><div id=\"sk-container-id-4\" class=\"sk-top-container\"><div class=\"sk-text-repr-fallback\"><pre>Pipeline(steps=[(&#x27;preprocessor&#x27;,\n",
       "                 ColumnTransformer(remainder=&#x27;passthrough&#x27;,\n",
       "                                   transformers=[(&#x27;seq&#x27;,\n",
       "                                                  Pipeline(steps=[(&#x27;seq_pos&#x27;,\n",
       "                                                                   SequencePositionTransformer()),\n",
       "                                                                  (&#x27;onehot&#x27;,\n",
       "                                                                   OneHotEncoder(handle_unknown=&#x27;ignore&#x27;,\n",
       "                                                                                 sparse_output=False))]),\n",
       "                                                  &#x27;sequence&#x27;)])),\n",
       "                (&#x27;classifier&#x27;,\n",
       "                 &lt;catboost.core.CatBoostClassifier object at 0x7f03497d6e20&gt;)])<\/pre><b>In a Jupyter environment, please rerun this cell to show the HTML representation or trust the notebook. <br \/>On GitHub, the HTML representation is unable to render, please try loading this page with nbviewer.org.<\/b><\/div><div class=\"sk-container\" hidden><div class=\"sk-item sk-dashed-wrapped\"><div class=\"sk-label-container\"><div class=\"sk-label sk-toggleable\"><input class=\"sk-toggleable__control sk-hidden--visually\" id=\"sk-estimator-id-25\" type=\"checkbox\" ><label for=\"sk-estimator-id-25\" class=\"sk-toggleable__label sk-toggleable__label-arrow\">Pipeline<\/label><div class=\"sk-toggleable__content\"><pre>Pipeline(steps=[(&#x27;preprocessor&#x27;,\n",
       "                 ColumnTransformer(remainder=&#x27;passthrough&#x27;,\n",
       "                                   transformers=[(&#x27;seq&#x27;,\n",
       "                                                  Pipeline(steps=[(&#x27;seq_pos&#x27;,\n",
       "                                                                   SequencePositionTransformer()),\n",
       "                                                                  (&#x27;onehot&#x27;,\n",
       "                                                                   OneHotEncoder(handle_unknown=&#x27;ignore&#x27;,\n",
       "                                                                                 sparse_output=False))]),\n",
       "                                                  &#x27;sequence&#x27;)])),\n",
       "                (&#x27;classifier&#x27;,\n",
       "                 &lt;catboost.core.CatBoostClassifier object at 0x7f03497d6e20&gt;)])<\/pre><\/div><\/div><\/div><div class=\"sk-serial\"><div class=\"sk-item sk-dashed-wrapped\"><div class=\"sk-label-container\"><div class=\"sk-label sk-toggleable\"><input class=\"sk-toggleable__control sk-hidden--visually\" id=\"sk-estimator-id-26\" type=\"checkbox\" ><label for=\"sk-estimator-id-26\" class=\"sk-toggleable__label sk-toggleable__label-arrow\">preprocessor: ColumnTransformer<\/label><div class=\"sk-toggleable__content\"><pre>ColumnTransformer(remainder=&#x27;passthrough&#x27;,\n",
       "                  transformers=[(&#x27;seq&#x27;,\n",
       "                                 Pipeline(steps=[(&#x27;seq_pos&#x27;,\n",
       "                                                  SequencePositionTransformer()),\n",
       "                                                 (&#x27;onehot&#x27;,\n",
       "                                                  OneHotEncoder(handle_unknown=&#x27;ignore&#x27;,\n",
       "                                                                sparse_output=False))]),\n",
       "                                 &#x27;sequence&#x27;)])<\/pre><\/div><\/div><\/div><div class=\"sk-parallel\"><div class=\"sk-parallel-item\"><div class=\"sk-item\"><div class=\"sk-label-container\"><div class=\"sk-label sk-toggleable\"><input class=\"sk-toggleable__control sk-hidden--visually\" id=\"sk-estimator-id-27\" type=\"checkbox\" ><label for=\"sk-estimator-id-27\" class=\"sk-toggleable__label sk-toggleable__label-arrow\">seq<\/label><div class=\"sk-toggleable__content\"><pre>sequence<\/pre><\/div><\/div><\/div><div class=\"sk-serial\"><div class=\"sk-item\"><div class=\"sk-serial\"><div class=\"sk-item\"><div class=\"sk-estimator sk-toggleable\"><input class=\"sk-toggleable__control sk-hidden--visually\" id=\"sk-estimator-id-28\" type=\"checkbox\" ><label for=\"sk-estimator-id-28\" class=\"sk-toggleable__label sk-toggleable__label-arrow\">SequencePositionTransformer<\/label><div class=\"sk-toggleable__content\"><pre>SequencePositionTransformer()<\/pre><\/div><\/div><\/div><div class=\"sk-item\"><div class=\"sk-estimator sk-toggleable\"><input class=\"sk-toggleable__control sk-hidden--visually\" id=\"sk-estimator-id-29\" type=\"checkbox\" ><label for=\"sk-estimator-id-29\" class=\"sk-toggleable__label sk-toggleable__label-arrow\">OneHotEncoder<\/label><div class=\"sk-toggleable__content\"><pre>OneHotEncoder(handle_unknown=&#x27;ignore&#x27;, sparse_output=False)<\/pre><\/div><\/div><\/div><\/div><\/div><\/div><\/div><\/div><div class=\"sk-parallel-item\"><div class=\"sk-item\"><div class=\"sk-label-container\"><div class=\"sk-label sk-toggleable\"><input class=\"sk-toggleable__control sk-hidden--visually\" id=\"sk-estimator-id-30\" type=\"checkbox\" ><label for=\"sk-estimator-id-30\" class=\"sk-toggleable__label sk-toggleable__label-arrow\">remainder<\/label><div class=\"sk-toggleable__content\"><pre>[&#x27;biotin_o&#x27;, &#x27;molecular_weight&#x27;, &#x27;aromaticity&#x27;, &#x27;instability_index&#x27;, &#x27;isoelectric_point&#x27;, &#x27;helix_fraction&#x27;, &#x27;turn_fraction&#x27;, &#x27;sheet_fraction&#x27;, &#x27;molar_extinction_coefficient_reduced&#x27;, &#x27;molar_extinction_coefficient_oxidized&#x27;, &#x27;gravy&#x27;, &#x27;charge_at_ph&#x27;, &#x27;sequence_len&#x27;, &#x27;R_percentage&#x27;, &#x27;K_percentage&#x27;, &#x27;S_percentage&#x27;, &#x27;E_percentage&#x27;]<\/pre><\/div><\/div><\/div><div class=\"sk-serial\"><div class=\"sk-item\"><div class=\"sk-estimator sk-toggleable\"><input class=\"sk-toggleable__control sk-hidden--visually\" id=\"sk-estimator-id-31\" type=\"checkbox\" ><label for=\"sk-estimator-id-31\" class=\"sk-toggleable__label sk-toggleable__label-arrow\">passthrough<\/label><div class=\"sk-toggleable__content\"><pre>passthrough<\/pre><\/div><\/div><\/div><\/div><\/div><\/div><\/div><\/div><div class=\"sk-item\"><div class=\"sk-estimator sk-toggleable\"><input class=\"sk-toggleable__control sk-hidden--visually\" id=\"sk-estimator-id-32\" type=\"checkbox\" ><label for=\"sk-estimator-id-32\" class=\"sk-toggleable__label sk-toggleable__label-arrow\">CatBoostClassifier<\/label><div class=\"sk-toggleable__content\"><pre>&lt;catboost.core.CatBoostClassifier object at 0x7f03497d6e20&gt;<\/pre><\/div><\/div><\/div><\/div><\/div><\/div><\/div>"
      ]
     },
     "metadata":{},
     "output_type":"display_data"
    }
   ],
   "metadata":{
    "datalore":{
     "node_id":"HkKhdrkUFW283cS7bF5L0d",
     "type":"CODE",
     "hide_input_from_viewers":true,
     "hide_output_from_viewers":true
    }
   }
  },
  {
   "cell_type":"code",
   "source":[
    "# Extract the classifier from the pipeline\n",
    "classifier = final_model.named_steps['classifier']\n",
    "\n",
    "# Preprocess the training data using the pipeline's preprocessor\n",
    "X_train_preprocessed = final_model.named_steps['preprocessor'].transform(X_train)\n",
    "\n",
    "# Initialize the SHAP explainer with the extracted classifier\n",
    "explainer = shap.Explainer(classifier, X_train_preprocessed)\n",
    "\n",
    "# Calculate SHAP values\n",
    "shap_values = explainer(X_train_preprocessed)"
   ],
   "execution_count":null,
   "outputs":[
    {
     "name":"stderr",
     "text":[
      "\r  3%|=                   | 75\/2496 [00:11<05:55]       \r  3%|=                   | 82\/2496 [00:12<05:53]       \r  4%|=                   | 89\/2496 [00:13<05:51]       \r  4%|=                   | 96\/2496 [00:14<05:50]       \r  4%|=                   | 104\/2496 [00:15<05:45]       \r  4%|=                   | 110\/2496 [00:16<05:47]       \r  5%|=                   | 116\/2496 [00:17<05:48]       \r  5%|=                   | 122\/2496 [00:18<05:50]       \r  5%|=                   | 128\/2496 [00:19<05:51]       \r  5%|=                   | 134\/2496 [00:20<05:52]       \r  6%|=                   | 140\/2496 [00:21<05:53]       \r  6%|=                   | 147\/2496 [00:22<05:51]       \r  6%|=                   | 153\/2496 [00:23<05:52]       \r  6%|=                   | 160\/2496 [00:24<05:50]       \r  7%|=                   | 167\/2496 [00:25<05:48]       \r  7%|=                   | 174\/2496 [00:26<05:46]       \r  7%|=                   | 181\/2496 [00:27<05:45]       \r  8%|==                  | 188\/2496 [00:28<05:43]       \r  8%|==                  | 196\/2496 [00:29<05:40]       \r  8%|==                  | 203\/2496 [00:30<05:38]       \r  8%|==                  | 210\/2496 [00:31<05:37]       \r  9%|==                  | 217\/2496 [00:32<05:36]       \r  9%|==                  | 224\/2496 [00:33<05:34]       \r  9%|==                  | 232\/2496 [00:34<05:31]       \r 10%|==                  | 239\/2496 [00:35<05:30]       \r 10%|==                  | 246\/2496 [00:36<05:29]       \r 10%|==                  | 253\/2496 [00:37<05:28]       \r 10%|==                  | 261\/2496 [00:38<05:25]       \r 11%|==                  | 269\/2496 [00:39<05:22]       \r 11%|==                  | 276\/2496 [00:40<05:21]       \r 11%|==                  | 283\/2496 [00:41<05:20]       \r 12%|==                  | 290\/2496 [00:42<05:19]       \r 12%|==                  | 297\/2496 [00:43<05:18]       \r 12%|==                  | 304\/2496 [00:44<05:17]       \r 12%|===                 | 312\/2496 [00:45<05:15]       \r 13%|===                 | 320\/2496 [00:46<05:12]       \r 13%|===                 | 327\/2496 [00:47<05:11]       \r 13%|===                 | 335\/2496 [00:48<05:09]       \r 14%|===                 | 342\/2496 [00:49<05:08]       \r 14%|===                 | 349\/2496 [00:50<05:07]       \r 14%|===                 | 357\/2496 [00:51<05:05]       \r 15%|===                 | 364\/2496 [00:52<05:04]       \r 15%|===                 | 372\/2496 [00:53<05:02]       \r 15%|===                 | 380\/2496 [00:54<05:00]       \r 16%|===                 | 387\/2496 [00:55<04:59]       \r 16%|===                 | 394\/2496 [00:56<04:58]       \r 16%|===                 | 401\/2496 [00:57<04:57]       \r 16%|===                 | 409\/2496 [00:58<04:55]       \r 17%|===                 | 417\/2496 [00:59<04:54]       \r 17%|===                 | 424\/2496 [01:00<04:53]       \r 17%|===                 | 432\/2496 [01:01<04:51]       \r 18%|====                | 439\/2496 [01:02<04:50]       \r 18%|====                | 446\/2496 [01:03<04:49]       \r 18%|====                | 453\/2496 [01:04<04:48]       \r 18%|====                | 460\/2496 [01:05<04:47]       \r 19%|====                | 467\/2496 [01:06<04:46]       \r 19%|====                | 474\/2496 [01:07<04:45]       \r 19%|====                | 481\/2496 [01:08<04:44]       \r 20%|====                | 489\/2496 [01:09<04:43]       \r 20%|====                | 496\/2496 [01:10<04:42]       \r 20%|====                | 503\/2496 [01:11<04:41]       \r 20%|====                | 511\/2496 [01:12<04:39]       \r 21%|====                | 518\/2496 [01:13<04:38]       \r 21%|====                | 525\/2496 [01:14<04:37]       \r 21%|====                | 532\/2496 [01:15<04:36]       \r 22%|====                | 539\/2496 [01:16<04:35]       \r 22%|====                | 547\/2496 [01:17<04:34]       \r 22%|====                | 554\/2496 [01:18<04:33]       \r 22%|====                | 561\/2496 [01:19<04:32]       \r 23%|=====               | 568\/2496 [01:20<04:31]       \r 23%|=====               | 575\/2496 [01:21<04:30]       \r 23%|=====               | 583\/2496 [01:22<04:29]       \r 24%|=====               | 590\/2496 [01:23<04:28]       \r 24%|=====               | 597\/2496 [01:24<04:27]       \r 24%|=====               | 604\/2496 [01:25<04:26]       \r 24%|=====               | 611\/2496 [01:26<04:25]       \r 25%|=====               | 618\/2496 [01:27<04:24]       \r 25%|=====               | 626\/2496 [01:28<04:22]       \r 25%|=====               | 633\/2496 [01:29<04:21]       \r 26%|=====               | 641\/2496 [01:30<04:20]       \r 26%|=====               | 648\/2496 [01:31<04:19]       \r 26%|=====               | 656\/2496 [01:32<04:18]       \r 27%|=====               | 664\/2496 [01:33<04:16]       \r 27%|=====               | 671\/2496 [01:34<04:15]       \r 27%|=====               | 678\/2496 [01:35<04:14]       \r 27%|=====               | 685\/2496 [01:36<04:13]       \r 28%|======              | 693\/2496 [01:37<04:12]       \r 28%|======              | 700\/2496 [01:38<04:11]       \r 28%|======              | 707\/2496 [01:39<04:10]       \r 29%|======              | 714\/2496 [01:40<04:09]       \r 29%|======              | 722\/2496 [01:41<04:08]       \r 29%|======              | 729\/2496 [01:42<04:07]       \r 30%|======              | 737\/2496 [01:43<04:05]       \r 30%|======              | 744\/2496 [01:44<04:04]       \r 30%|======              | 751\/2496 [01:45<04:03]       \r 30%|======              | 758\/2496 [01:46<04:03]       \r 31%|======              | 766\/2496 [01:47<04:01]       \r 31%|======              | 773\/2496 [01:48<04:00]       \r 31%|======              | 780\/2496 [01:49<03:59]       \r 32%|======              | 788\/2496 [01:50<03:58]       \r 32%|======              | 796\/2496 [01:51<03:57]       \r 32%|======              | 803\/2496 [01:52<03:56]       \r 32%|======              | 811\/2496 [01:53<03:54]       \r 33%|=======             | 819\/2496 [01:54<03:53]       \r 33%|=======             | 826\/2496 [01:55<03:52]       \r 33%|=======             | 833\/2496 [01:56<03:51]       \r 34%|=======             | 841\/2496 [01:57<03:50]       \r 34%|=======             | 848\/2496 [01:58<03:49]       \r 34%|=======             | 856\/2496 [01:59<03:47]       \r 35%|=======             | 863\/2496 [02:00<03:47]       \r 35%|=======             | 870\/2496 [02:01<03:46]       \r 35%|=======             | 877\/2496 [02:02<03:45]       \r 35%|=======             | 884\/2496 [02:03<03:44]       \r 36%|=======             | 892\/2496 [02:04<03:42]       \r 36%|=======             | 898\/2496 [02:05<03:42]       \r 36%|=======             | 904\/2496 [02:06<03:41]       \r 36%|=======             | 910\/2496 [02:07<03:41]       \r 37%|=======             | 916\/2496 [02:08<03:40]       \r 37%|=======             | 923\/2496 [02:09<03:39]       \r 37%|=======             | 930\/2496 [02:10<03:38]       \r 38%|========            | 936\/2496 [02:11<03:38]       \r 38%|========            | 943\/2496 [02:12<03:37]       \r 38%|========            | 949\/2496 [02:13<03:36]       \r 38%|========            | 954\/2496 [02:14<03:36]       \r 38%|========            | 960\/2496 [02:15<03:36]       \r 39%|========            | 966\/2496 [02:16<03:35]       \r 39%|========            | 972\/2496 [02:17<03:34]       \r 39%|========            | 979\/2496 [02:18<03:33]       \r 39%|========            | 985\/2496 [02:19<03:33]       \r 40%|========            | 992\/2496 [02:20<03:32]       \r 40%|========            | 998\/2496 [02:21<03:31]       \r 40%|========            | 1004\/2496 [02:22<03:31]       \r 41%|========            | 1011\/2496 [02:23<03:30]       \r 41%|========            | 1018\/2496 [02:24<03:29]       \r 41%|========            | 1024\/2496 [02:25<03:28]       \r 41%|========            | 1031\/2496 [02:26<03:27]       \r 42%|========            | 1038\/2496 [02:27<03:26]       \r 42%|========            | 1045\/2496 [02:28<03:25]       \r 42%|========            | 1052\/2496 [02:29<03:24]       \r 42%|========            | 1058\/2496 [02:30<03:23]       \r 43%|=========           | 1064\/2496 [02:31<03:23]       \r 43%|=========           | 1070\/2496 [02:32<03:22]       \r 43%|=========           | 1077\/2496 [02:33<03:21]       \r 43%|=========           | 1084\/2496 [02:34<03:20]       \r 44%|=========           | 1091\/2496 [02:35<03:19]       \r 44%|=========           | 1096\/2496 [02:36<03:19]       \r 44%|=========           | 1102\/2496 [02:37<03:18]       \r 44%|=========           | 1106\/2496 [02:38<03:18]       \r 45%|=========           | 1111\/2496 [02:39<03:18]       \r 45%|=========           | 1116\/2496 [02:40<03:17]       \r 45%|=========           | 1121\/2496 [02:41<03:17]       \r 45%|=========           | 1128\/2496 [02:42<03:16]       \r 45%|=========           | 1134\/2496 [02:43<03:15]       \r 46%|=========           | 1141\/2496 [02:44<03:14]       \r 46%|=========           | 1147\/2496 [02:45<03:14]       \r 46%|=========           | 1154\/2496 [02:46<03:13]       \r 46%|=========           | 1160\/2496 [02:47<03:12]       \r 47%|=========           | 1167\/2496 [02:48<03:11]       \r 47%|=========           | 1173\/2496 [02:49<03:10]       \r 47%|=========           | 1180\/2496 [02:50<03:09]       \r 48%|==========          | 1187\/2496 [02:51<03:08]       \r 48%|==========          | 1194\/2496 [02:52<03:07]       \r 48%|==========          | 1201\/2496 [02:53<03:06]       \r 48%|==========          | 1208\/2496 [02:54<03:05]       \r 49%|==========          | 1214\/2496 [02:55<03:04]       \r 49%|==========          | 1221\/2496 [02:56<03:03]       \r 49%|==========          | 1228\/2496 [02:57<03:02]       \r 49%|==========          | 1235\/2496 [02:58<03:01]       \r 50%|==========          | 1242\/2496 [02:59<03:00]       \r 50%|==========          | 1249\/2496 [03:00<02:59]       \r 50%|==========          | 1255\/2496 [03:01<02:58]       \r 51%|==========          | 1263\/2496 [03:02<02:57]       \r 51%|==========          | 1270\/2496 [03:03<02:56]       \r 51%|==========          | 1276\/2496 [03:04<02:55]       \r 51%|==========          | 1283\/2496 [03:05<02:54]       \r 52%|==========          | 1290\/2496 [03:06<02:53]       \r 52%|==========          | 1297\/2496 [03:07<02:52]       \r 52%|==========          | 1304\/2496 [03:08<02:51]       \r 53%|===========         | 1311\/2496 [03:09<02:50]       \r 53%|===========         | 1318\/2496 [03:10<02:49]       \r 53%|===========         | 1325\/2496 [03:11<02:48]       \r 53%|===========         | 1333\/2496 [03:12<02:47]       \r 54%|===========         | 1341\/2496 [03:13<02:46]       \r 54%|===========         | 1349\/2496 [03:14<02:44]       \r 54%|===========         | 1356\/2496 [03:15<02:43]       \r 55%|===========         | 1370\/2496 [03:17<02:41]       \r 55%|===========         | 1377\/2496 [03:18<02:40]       \r 55%|===========         | 1384\/2496 [03:19<02:39]       \r 56%|===========         | 1391\/2496 [03:20<02:38]       \r 56%|===========         | 1398\/2496 [03:21<02:37]       \r 56%|===========         | 1405\/2496 [03:22<02:36]       \r 57%|===========         | 1413\/2496 [03:23<02:35]       \r 57%|===========         | 1419\/2496 [03:24<02:34]       \r 57%|===========         | 1426\/2496 [03:25<02:33]       \r 57%|===========         | 1432\/2496 [03:26<02:33]       \r 58%|============        | 1438\/2496 [03:27<02:32]       \r 58%|============        | 1444\/2496 [03:28<02:31]       \r 58%|============        | 1450\/2496 [03:29<02:30]       \r 58%|============        | 1456\/2496 [03:30<02:30]       \r 59%|============        | 1462\/2496 [03:31<02:29]       \r 59%|============        | 1468\/2496 [03:32<02:28]       "
     ],
     "output_type":"stream"
    }
   ],
   "metadata":{
    "datalore":{
     "node_id":"tmdFSP53xOqSZE9dEWeY9B",
     "type":"CODE",
     "hide_input_from_viewers":true,
     "hide_output_from_viewers":true
    }
   }
  },
  {
   "cell_type":"code",
   "source":[
    "# Preprocess the training data using the pipeline's preprocessor\n",
    "X_train_preprocessed = final_model.named_steps['preprocessor'].transform(X_train)\n",
    "\n",
    "# Initialize the SHAP explainer with the extracted classifier\n",
    "explainer = shap.Explainer(classifier, X_train_preprocessed)\n",
    "\n",
    "# Calculate SHAP values\n",
    "shap_values = explainer(X_train_preprocessed)\n",
    "\n",
    "# Plot summary plot\n",
    "shap.summary_plot(shap_values, X_train_preprocessed, plot_type=\"bar\")\n",
    "\n",
    "# Detailed feature importance plot\n",
    "shap.summary_plot(shap_values, X_train_preprocessed)"
   ],
   "execution_count":null,
   "outputs":[],
   "metadata":{
    "datalore":{
     "node_id":"vyatP57KP1iJSSrpB6vS2B",
     "type":"CODE",
     "hide_input_from_viewers":true,
     "hide_output_from_viewers":true
    }
   }
  },
  {
   "cell_type":"markdown",
   "source":[
    "# Genetic alghoritm"
   ],
   "attachments":{},
   "metadata":{
    "datalore":{
     "node_id":"bvnEXvfBQOmHHRyi2tToTf",
     "type":"MD",
     "hide_input_from_viewers":true,
     "hide_output_from_viewers":true
    }
   }
  },
  {
   "cell_type":"code",
   "source":[
    "!pip install biopython"
   ],
   "execution_count":26,
   "outputs":[
    {
     "name":"stdout",
     "text":[
      "Collecting biopython\r\n",
      "  Downloading biopython-1.83-cp38-cp38-manylinux_2_17_x86_64.manylinux2014_x86_64.whl (3.1 MB)\r\n",
      "\u001b[?25l     \u001b[90m━━━━━━━━━━━━━━━━━━━━━━━━━━━━━━━━━━━━━━━━\u001b[0m \u001b[32m0.0\/3.1 MB\u001b[0m \u001b[31m?\u001b[0m eta \u001b[36m-:--:--\u001b[0m\r\u001b[2K     \u001b[91m━━━━━━━━━━━━━━━━━━━━━━━━━━━━\u001b[0m\u001b[90m╺\u001b[0m\u001b[90m━━━━━━━━━━━\u001b[0m \u001b[32m2.2\/3.1 MB\u001b[0m \u001b[31m64.2 MB\/s\u001b[0m eta \u001b[36m0:00:01\u001b[0m\r\u001b[2K     \u001b[90m━━━━━━━━━━━━━━━━━━━━━━━━━━━━━━━━━━━━━━━━\u001b[0m \u001b[32m3.1\/3.1 MB\u001b[0m \u001b[31m47.2 MB\/s\u001b[0m eta \u001b[36m0:00:00\u001b[0m\r\n",
      "\u001b[?25hRequirement already satisfied: numpy in \/opt\/python\/envs\/default\/lib\/python3.8\/site-packages (from biopython) (1.24.3)\r\n",
      "Installing collected packages: biopython\r\n",
      "Successfully installed biopython-1.83\r\n",
      "\r\n",
      "\u001b[1m[\u001b[0m\u001b[34;49mnotice\u001b[0m\u001b[1;39;49m]\u001b[0m\u001b[39;49m A new release of pip is available: \u001b[0m\u001b[31;49m23.1.2\u001b[0m\u001b[39;49m -> \u001b[0m\u001b[32;49m24.1.2\u001b[0m\r\n",
      "\u001b[1m[\u001b[0m\u001b[34;49mnotice\u001b[0m\u001b[1;39;49m]\u001b[0m\u001b[39;49m To update, run: \u001b[0m\u001b[32;49mpip install --upgrade pip\u001b[0m\r\n"
     ],
     "output_type":"stream"
    }
   ],
   "metadata":{
    "datalore":{
     "node_id":"ImFDU8ukNALxnqA4gYP2wC",
     "type":"CODE",
     "hide_input_from_viewers":true,
     "hide_output_from_viewers":true
    }
   }
  },
  {
   "cell_type":"code",
   "source":[
    "from Bio.SeqUtils.ProtParam import ProteinAnalysis\n",
    "import random"
   ],
   "execution_count":29,
   "outputs":[],
   "metadata":{
    "datalore":{
     "node_id":"rBAAx00NttKxaOZZSIhMAE",
     "type":"CODE",
     "hide_input_from_viewers":true,
     "hide_output_from_viewers":true
    }
   }
  },
  {
   "cell_type":"code",
   "source":[
    "# Constants (we can tune them)\n",
    "AMINO_ACIDS = 'ACDEFGHIKLMNPQRSTVWY'\n",
    "POPULATION_SIZE = 50\n",
    "SEQUENCE_LENGTH = 20 # This parameter user can change\n",
    "NUM_GENERATIONS = 50\n",
    "TOURNAMENT_SIZE = 5\n",
    "MUTATION_RATE = 0.1\n",
    "\n",
    "pipeline = final_model"
   ],
   "execution_count":30,
   "outputs":[],
   "metadata":{
    "datalore":{
     "node_id":"jSjXU6LT92FrsReOJeRxq7",
     "type":"CODE",
     "hide_input_from_viewers":true,
     "hide_output_from_viewers":true
    }
   }
  },
  {
   "cell_type":"code",
   "source":[
    "# import pandas as pd\n",
    "# import numpy as np\n",
    "# import re\n",
    "# from sklearn.base import BaseEstimator, TransformerMixin\n",
    "# from sklearn.pipeline import Pipeline\n",
    "# from sklearn.compose import ColumnTransformer\n",
    "# from sklearn.preprocessing import FunctionTransformer\n",
    "# from Bio.SeqUtils.ProtParam import ProteinAnalysis\n",
    "# from catboost import CatBoostClassifier\n",
    "\n",
    "# # Custom Transformer to find and add categorical features\n",
    "# class CategoricalFeatureAdder(BaseEstimator, TransformerMixin):\n",
    "#     def __init__(self):\n",
    "#         pass\n",
    "    \n",
    "#     def fit(self, X, y=None):\n",
    "#         return self\n",
    "    \n",
    "#     def transform(self, X):\n",
    "#         df = X.copy()\n",
    "#         df['nht_tail'] = df['Sequence'].apply(self.find_nht_tail)\n",
    "#         df['acylated_terminal'] = df['Sequence'].apply(self.find_acylated_terminal)\n",
    "#         df['cooh_terminal'] = df['Sequence'].apply(self.find_cooh_terminal)\n",
    "#         return df\n",
    "    \n",
    "#     def find_nht_tail(self, sequence):\n",
    "#         pattern = r'-NH2$'\n",
    "#         return 1 if pd.notnull(sequence) and re.search(pattern, sequence) else 0\n",
    "    \n",
    "#     def find_acylated_terminal(self, sequence):\n",
    "#         pattern = r'^(Ac-|\\(Acp\\)-)'\n",
    "#         return 1 if pd.notnull(sequence) and re.search(pattern, sequence) else 0\n",
    "    \n",
    "#     def find_cooh_terminal(self, sequence):\n",
    "#         pattern = r'^COOH-'\n",
    "#         return 1 if pd.notnull(sequence) and re.search(pattern, sequence) else 0\n",
    "\n",
    "# # Custom Transformer to clean sequences\n",
    "# class SequenceCleaner(BaseEstimator, TransformerMixin):\n",
    "#     def __init__(self):\n",
    "#         pass\n",
    "    \n",
    "#     def fit(self, X, y=None):\n",
    "#         return self\n",
    "    \n",
    "#     def transform(self, X):\n",
    "#         df = X.copy()\n",
    "#         df['cleaned_sequence'] = df['Sequence']\n",
    "#         df['cleaned_sequence'] = df['cleaned_sequence'].apply(self.clean_sequence_nh2)\n",
    "#         df['cleaned_sequence'] = df['cleaned_sequence'].apply(self.clean_sequence_mpa)\n",
    "#         df['cleaned_sequence'] = df['cleaned_sequence'].apply(self.clean_sequence_acylated)\n",
    "#         df['cleaned_sequence'] = df['cleaned_sequence'].apply(self.clean_sequence_cooh)\n",
    "#         return df\n",
    "    \n",
    "#     def clean_sequence_nh2(self, sequence):\n",
    "#         if pd.notnull(sequence) and sequence.endswith('-NH2'):\n",
    "#             return sequence[:-4]  # Remove '-NH2'\n",
    "#         return sequence\n",
    "    \n",
    "#     def clean_sequence_mpa(self, sequence):\n",
    "#         if pd.notnull(sequence) and sequence.startswith('Mpa(luc)-'):\n",
    "#             return sequence[9:]  # Remove 'Mpa(luc)-'\n",
    "#         return sequence\n",
    "    \n",
    "#     def clean_sequence_acylated(self, sequence):\n",
    "#         if pd.notnull(sequence):\n",
    "#             if sequence.startswith('Ac-'):\n",
    "#                 return sequence[3:]  # Remove 'Ac-'\n",
    "#             elif sequence.startswith('(Acp)-'):\n",
    "#                 return sequence[5:]  # Remove '(Acp)-'\n",
    "#         return sequence\n",
    "    \n",
    "#     def clean_sequence_cooh(self, sequence):\n",
    "#         if pd.notnull(sequence) and sequence.startswith('COOH-'):\n",
    "#             return sequence[5:]  # Remove 'COOH-'\n",
    "#         return sequence\n",
    "\n",
    "# # Custom Transformer to extract features\n",
    "# class FeatureExtractor(BaseEstimator, TransformerMixin):\n",
    "#     def __init__(self):\n",
    "#         pass\n",
    "    \n",
    "#     def fit(self, X, y=None):\n",
    "#         return self\n",
    "    \n",
    "#     def transform(self, X):\n",
    "#         df = X.copy()\n",
    "#         return df.drop(columns=['Sequence', 'cleaned_sequence'])\n",
    "\n",
    "# def calculate_protein_descriptors(sequence):\n",
    "#     \"\"\"Calculate descriptors for a given sequence.\"\"\"\n",
    "#     analysis = ProteinAnalysis(sequence)\n",
    "#     descriptors = {\n",
    "#         'molecular_weight': analysis.molecular_weight(),\n",
    "#         'aromaticity': analysis.aromaticity(),\n",
    "#         'instability_index': analysis.instability_index(),\n",
    "#         'isoelectric_point': analysis.isoelectric_point(),\n",
    "#         'helix_fraction': analysis.secondary_structure_fraction()[0],\n",
    "#         'turn_fraction': analysis.secondary_structure_fraction()[1],\n",
    "#         'sheet_fraction': analysis.secondary_structure_fraction()[2],\n",
    "#         'molar_extinction_coefficient_reduced': analysis.molar_extinction_coefficient()[0],\n",
    "#         'molar_extinction_coefficient_oxidized': analysis.molar_extinction_coefficient()[1],\n",
    "#         'gravy': analysis.gravy(),\n",
    "#         'sequence_len': len(sequence)\n",
    "#     }\n",
    "    \n",
    "#     # Calculate amino acid percentages\n",
    "#     aa_counts = {aa: sequence.count(aa) \/ len(sequence) * 100 for aa in AMINO_ACIDS}\n",
    "#     descriptors.update(aa_counts)\n",
    "    \n",
    "#     return pd.Series(descriptors)\n",
    "\n",
    "# class ProteinDescriptorExtractor(BaseEstimator, TransformerMixin):\n",
    "#     def __init__(self):\n",
    "#         pass\n",
    "    \n",
    "#     def fit(self, X, y=None):\n",
    "#         return self\n",
    "    \n",
    "#     def transform(self, X):\n",
    "#         df = X.copy()\n",
    "#         df = df.apply(lambda row: calculate_protein_descriptors(row['cleaned_sequence']), axis=1)\n",
    "#         return pd.DataFrame(df.tolist())\n",
    "\n",
    "# # Creating the full pipeline\n",
    "# preprocessor = Pipeline(steps=[\n",
    "#     ('categorical_feature_adder', CategoricalFeatureAdder()),\n",
    "#     ('sequence_cleaner', SequenceCleaner()),\n",
    "#     ('feature_extractor', FeatureExtractor()),\n",
    "#     ('descriptor_extractor', ProteinDescriptorExtractor())\n",
    "# ])"
   ],
   "execution_count":45,
   "outputs":[],
   "metadata":{
    "datalore":{
     "node_id":"IVuhOrggex2sW1im51Dofm",
     "type":"CODE",
     "hide_input_from_viewers":true,
     "hide_output_from_viewers":true
    }
   }
  },
  {
   "cell_type":"code",
   "source":[
    "test_df = full_binary_df_with_aa[['sequence', 'uptake_type']].copy()\n",
    "test_df['Sequence'] = full_binary_df_with_aa.sequence"
   ],
   "execution_count":52,
   "outputs":[],
   "metadata":{
    "datalore":{
     "node_id":"OESwmmS7sPeUM9zU11xIny",
     "type":"CODE",
     "hide_input_from_viewers":true,
     "hide_output_from_viewers":true
    }
   }
  },
  {
   "cell_type":"code",
   "source":[
    "# pipeline = Pipeline(steps=[\n",
    "#     ('preprocessor', preprocessor),\n",
    "#     ('classifier', CatBoostClassifier(**best_params, silent=True))\n",
    "# ])\n",
    "\n",
    "# # Process and fit the pipeline\n",
    "# X = pipeline.fit_transform(test_df)\n",
    "# print(X)"
   ],
   "execution_count":54,
   "outputs":[
    {
     "ename":"Error",
     "evalue":"Error: begin 0, end -1, length 0",
     "traceback":[
      "\u001b[0;31m---------------------------------------------------------------------------",
      "Traceback (most recent call last)",
      "Error: begin 0, end -1, length 0"
     ],
     "output_type":"error"
    }
   ],
   "metadata":{
    "datalore":{
     "node_id":"6snjWJQO8cLtdf1TAxwmr7",
     "type":"CODE",
     "hide_input_from_viewers":true,
     "hide_output_from_viewers":true
    }
   }
  },
  {
   "cell_type":"markdown",
   "source":[
    "# Regression"
   ],
   "attachments":{},
   "metadata":{
    "datalore":{
     "node_id":"4jK6n0BMGGcrIYnIp8e6FD",
     "type":"MD",
     "hide_input_from_viewers":true,
     "hide_output_from_viewers":true
    }
   }
  },
  {
   "cell_type":"code",
   "source":[
    "large_no_conc_basic_features = pd.read_csv('\/data\/notebook_files\/large_no_conc_basic_features.csv')\n",
    "large_no_conc_preprocessed = pd.read_csv('\/data\/notebook_files\/large_no_conc_preprocessed.csv')"
   ],
   "execution_count":24,
   "outputs":[],
   "metadata":{
    "datalore":{
     "node_id":"XGBgu79DRb30F3k7EbhsT5",
     "type":"CODE",
     "hide_input_from_viewers":true,
     "hide_output_from_viewers":true
    }
   }
  },
  {
   "cell_type":"code",
   "source":[
    "catboost_regresson_df = pd.concat(\n",
    "    [large_no_conc_basic_features[BIOPPYTHON_FEATURE_NAMES + ['sequence_len']],\n",
    "     large_no_conc_preprocessed.drop(columns=['Sequence']).set_index(large_no_conc_preprocessed.index)],\n",
    "    axis=1, ignore_index=False\n",
    ")\n",
    "catboost_regresson_df"
   ],
   "execution_count":25,
   "outputs":[
    {
     "data":{
      "text\/html":[
       "<div>\n",
       "<style scoped>\n",
       "    .dataframe tbody tr th:only-of-type {\n",
       "        vertical-align: middle;\n",
       "    }\n",
       "\n",
       "    .dataframe tbody tr th {\n",
       "        vertical-align: top;\n",
       "    }\n",
       "\n",
       "    .dataframe thead th {\n",
       "        text-align: right;\n",
       "    }\n",
       "<\/style>\n",
       "<table border=\"1\" class=\"dataframe\">\n",
       "  <thead>\n",
       "    <tr style=\"text-align: right;\">\n",
       "      <th><\/th>\n",
       "      <th>molecular_weight<\/th>\n",
       "      <th>aromaticity<\/th>\n",
       "      <th>instability_index<\/th>\n",
       "      <th>isoelectric_point<\/th>\n",
       "      <th>helix_fraction<\/th>\n",
       "      <th>turn_fraction<\/th>\n",
       "      <th>sheet_fraction<\/th>\n",
       "      <th>molar_extinction_coefficient_reduced<\/th>\n",
       "      <th>molar_extinction_coefficient_oxidized<\/th>\n",
       "      <th>gravy<\/th>\n",
       "      <th>...<\/th>\n",
       "      <th>Uptake<\/th>\n",
       "      <th>Units<\/th>\n",
       "      <th>Time<\/th>\n",
       "      <th>Temp.<\/th>\n",
       "      <th>Method<\/th>\n",
       "      <th>Type<\/th>\n",
       "      <th>new_uptake<\/th>\n",
       "      <th>nht_tail<\/th>\n",
       "      <th>acylated_terminal<\/th>\n",
       "      <th>cleaned_sequence<\/th>\n",
       "    <\/tr>\n",
       "  <\/thead>\n",
       "  <tbody>\n",
       "    <tr>\n",
       "      <th>0<\/th>\n",
       "      <td>1339.6033<\/td>\n",
       "      <td>0.0<\/td>\n",
       "      <td>257.444444<\/td>\n",
       "      <td>11.999968<\/td>\n",
       "      <td>0.222222<\/td>\n",
       "      <td>0.0<\/td>\n",
       "      <td>0.0<\/td>\n",
       "      <td>0<\/td>\n",
       "      <td>0<\/td>\n",
       "      <td>-4.255556<\/td>\n",
       "      <td>...<\/td>\n",
       "      <td>650<\/td>\n",
       "      <td>Mean Fluorescence intensity<\/td>\n",
       "      <td>15.0<\/td>\n",
       "      <td>23.0<\/td>\n",
       "      <td>Flow cytometry<\/td>\n",
       "      <td>Cellular uptake<\/td>\n",
       "      <td>650.00<\/td>\n",
       "      <td>0<\/td>\n",
       "      <td>0<\/td>\n",
       "      <td>RKKRRQRRR<\/td>\n",
       "    <\/tr>\n",
       "    <tr>\n",
       "      <th>1<\/th>\n",
       "      <td>1183.4176<\/td>\n",
       "      <td>0.0<\/td>\n",
       "      <td>216.775000<\/td>\n",
       "      <td>11.999968<\/td>\n",
       "      <td>0.250000<\/td>\n",
       "      <td>0.0<\/td>\n",
       "      <td>0.0<\/td>\n",
       "      <td>0<\/td>\n",
       "      <td>0<\/td>\n",
       "      <td>-4.225000<\/td>\n",
       "      <td>...<\/td>\n",
       "      <td>31.25<\/td>\n",
       "      <td>Mean Fluorescence intensity<\/td>\n",
       "      <td>10.0<\/td>\n",
       "      <td>23.0<\/td>\n",
       "      <td>Flow cytometry<\/td>\n",
       "      <td>Cellular uptake<\/td>\n",
       "      <td>31.25<\/td>\n",
       "      <td>0<\/td>\n",
       "      <td>0<\/td>\n",
       "      <td>RKKRRQRR<\/td>\n",
       "    <\/tr>\n",
       "    <tr>\n",
       "      <th>2<\/th>\n",
       "      <td>1027.2319<\/td>\n",
       "      <td>0.0<\/td>\n",
       "      <td>164.485714<\/td>\n",
       "      <td>11.999968<\/td>\n",
       "      <td>0.285714<\/td>\n",
       "      <td>0.0<\/td>\n",
       "      <td>0.0<\/td>\n",
       "      <td>0<\/td>\n",
       "      <td>0<\/td>\n",
       "      <td>-4.185714<\/td>\n",
       "      <td>...<\/td>\n",
       "      <td>10<\/td>\n",
       "      <td>Mean Fluorescence intensity<\/td>\n",
       "      <td>10.0<\/td>\n",
       "      <td>23.0<\/td>\n",
       "      <td>Flow cytometry<\/td>\n",
       "      <td>Cellular uptake<\/td>\n",
       "      <td>10.00<\/td>\n",
       "      <td>0<\/td>\n",
       "      <td>0<\/td>\n",
       "      <td>RKKRRQR<\/td>\n",
       "    <\/tr>\n",
       "    <tr>\n",
       "      <th>3<\/th>\n",
       "      <td>1183.4176<\/td>\n",
       "      <td>0.0<\/td>\n",
       "      <td>288.375000<\/td>\n",
       "      <td>11.999968<\/td>\n",
       "      <td>0.250000<\/td>\n",
       "      <td>0.0<\/td>\n",
       "      <td>0.0<\/td>\n",
       "      <td>0<\/td>\n",
       "      <td>0<\/td>\n",
       "      <td>-4.225000<\/td>\n",
       "      <td>...<\/td>\n",
       "      <td>22.5<\/td>\n",
       "      <td>Mean Fluorescence intensity<\/td>\n",
       "      <td>10.0<\/td>\n",
       "      <td>23.0<\/td>\n",
       "      <td>Flow cytometry<\/td>\n",
       "      <td>Cellular uptake<\/td>\n",
       "      <td>22.50<\/td>\n",
       "      <td>0<\/td>\n",
       "      <td>0<\/td>\n",
       "      <td>KKRRQRRR<\/td>\n",
       "    <\/tr>\n",
       "    <tr>\n",
       "      <th>4<\/th>\n",
       "      <td>1055.2453<\/td>\n",
       "      <td>0.0<\/td>\n",
       "      <td>328.142857<\/td>\n",
       "      <td>11.999968<\/td>\n",
       "      <td>0.142857<\/td>\n",
       "      <td>0.0<\/td>\n",
       "      <td>0.0<\/td>\n",
       "      <td>0<\/td>\n",
       "      <td>0<\/td>\n",
       "      <td>-4.271429<\/td>\n",
       "      <td>...<\/td>\n",
       "      <td>20<\/td>\n",
       "      <td>Mean Fluorescence intensity<\/td>\n",
       "      <td>10.0<\/td>\n",
       "      <td>23.0<\/td>\n",
       "      <td>Flow cytometry<\/td>\n",
       "      <td>Cellular uptake<\/td>\n",
       "      <td>20.00<\/td>\n",
       "      <td>0<\/td>\n",
       "      <td>0<\/td>\n",
       "      <td>KRRQRRR<\/td>\n",
       "    <\/tr>\n",
       "    <tr>\n",
       "      <th>...<\/th>\n",
       "      <td>...<\/td>\n",
       "      <td>...<\/td>\n",
       "      <td>...<\/td>\n",
       "      <td>...<\/td>\n",
       "      <td>...<\/td>\n",
       "      <td>...<\/td>\n",
       "      <td>...<\/td>\n",
       "      <td>...<\/td>\n",
       "      <td>...<\/td>\n",
       "      <td>...<\/td>\n",
       "      <td>...<\/td>\n",
       "      <td>...<\/td>\n",
       "      <td>...<\/td>\n",
       "      <td>...<\/td>\n",
       "      <td>...<\/td>\n",
       "      <td>...<\/td>\n",
       "      <td>...<\/td>\n",
       "      <td>...<\/td>\n",
       "      <td>...<\/td>\n",
       "      <td>...<\/td>\n",
       "      <td>...<\/td>\n",
       "    <\/tr>\n",
       "    <tr>\n",
       "      <th>1519<\/th>\n",
       "      <td>1503.6867<\/td>\n",
       "      <td>0.0<\/td>\n",
       "      <td>143.320000<\/td>\n",
       "      <td>11.999968<\/td>\n",
       "      <td>0.000000<\/td>\n",
       "      <td>0.0<\/td>\n",
       "      <td>0.0<\/td>\n",
       "      <td>0<\/td>\n",
       "      <td>0<\/td>\n",
       "      <td>-3.980000<\/td>\n",
       "      <td>...<\/td>\n",
       "      <td>100<\/td>\n",
       "      <td>Mean Fluorescence intensity<\/td>\n",
       "      <td>1440.0<\/td>\n",
       "      <td>37.0<\/td>\n",
       "      <td>Flow cytometry<\/td>\n",
       "      <td>Cellular internalization of oleyl<\/td>\n",
       "      <td>100.00<\/td>\n",
       "      <td>0<\/td>\n",
       "      <td>0<\/td>\n",
       "      <td>RRHRHRHRHR<\/td>\n",
       "    <\/tr>\n",
       "    <tr>\n",
       "      <th>1520<\/th>\n",
       "      <td>1659.8724<\/td>\n",
       "      <td>0.0<\/td>\n",
       "      <td>183.272727<\/td>\n",
       "      <td>11.999968<\/td>\n",
       "      <td>0.000000<\/td>\n",
       "      <td>0.0<\/td>\n",
       "      <td>0.0<\/td>\n",
       "      <td>0<\/td>\n",
       "      <td>0<\/td>\n",
       "      <td>-4.027273<\/td>\n",
       "      <td>...<\/td>\n",
       "      <td>250<\/td>\n",
       "      <td>Mean Fluorescence intensity<\/td>\n",
       "      <td>1440.0<\/td>\n",
       "      <td>37.0<\/td>\n",
       "      <td>Flow cytometry<\/td>\n",
       "      <td>Cellular internalization of oleyl<\/td>\n",
       "      <td>250.00<\/td>\n",
       "      <td>0<\/td>\n",
       "      <td>0<\/td>\n",
       "      <td>RRRHRHRHRHR<\/td>\n",
       "    <\/tr>\n",
       "    <tr>\n",
       "      <th>1521<\/th>\n",
       "      <td>1816.0581<\/td>\n",
       "      <td>0.0<\/td>\n",
       "      <td>216.566667<\/td>\n",
       "      <td>11.999968<\/td>\n",
       "      <td>0.000000<\/td>\n",
       "      <td>0.0<\/td>\n",
       "      <td>0.0<\/td>\n",
       "      <td>0<\/td>\n",
       "      <td>0<\/td>\n",
       "      <td>-4.066667<\/td>\n",
       "      <td>...<\/td>\n",
       "      <td>400<\/td>\n",
       "      <td>Mean Fluorescence intensity<\/td>\n",
       "      <td>1440.0<\/td>\n",
       "      <td>37.0<\/td>\n",
       "      <td>Flow cytometry<\/td>\n",
       "      <td>Cellular internalization of oleyl<\/td>\n",
       "      <td>400.00<\/td>\n",
       "      <td>0<\/td>\n",
       "      <td>0<\/td>\n",
       "      <td>RRRRHRHRHRHR<\/td>\n",
       "    <\/tr>\n",
       "    <tr>\n",
       "      <th>1522<\/th>\n",
       "      <td>1972.2438<\/td>\n",
       "      <td>0.0<\/td>\n",
       "      <td>244.738462<\/td>\n",
       "      <td>11.999968<\/td>\n",
       "      <td>0.000000<\/td>\n",
       "      <td>0.0<\/td>\n",
       "      <td>0.0<\/td>\n",
       "      <td>0<\/td>\n",
       "      <td>0<\/td>\n",
       "      <td>-4.100000<\/td>\n",
       "      <td>...<\/td>\n",
       "      <td>500<\/td>\n",
       "      <td>Mean Fluorescence intensity<\/td>\n",
       "      <td>1440.0<\/td>\n",
       "      <td>37.0<\/td>\n",
       "      <td>Flow cytometry<\/td>\n",
       "      <td>Cellular internalization of oleyl<\/td>\n",
       "      <td>500.00<\/td>\n",
       "      <td>0<\/td>\n",
       "      <td>0<\/td>\n",
       "      <td>RRRRRHRHRHRHR<\/td>\n",
       "    <\/tr>\n",
       "    <tr>\n",
       "      <th>1523<\/th>\n",
       "      <td>1396.7521<\/td>\n",
       "      <td>0.2<\/td>\n",
       "      <td>123.560000<\/td>\n",
       "      <td>9.898170<\/td>\n",
       "      <td>0.300000<\/td>\n",
       "      <td>0.0<\/td>\n",
       "      <td>0.2<\/td>\n",
       "      <td>11000<\/td>\n",
       "      <td>11125<\/td>\n",
       "      <td>-1.500000<\/td>\n",
       "      <td>...<\/td>\n",
       "      <td>7000<\/td>\n",
       "      <td>corr. Fluorescence<\/td>\n",
       "      <td>1080.0<\/td>\n",
       "      <td>37.0<\/td>\n",
       "      <td>Flow cytometry<\/td>\n",
       "      <td>Cellular internalization of oleyl<\/td>\n",
       "      <td>7000.00<\/td>\n",
       "      <td>0<\/td>\n",
       "      <td>0<\/td>\n",
       "      <td>CRWRWKCCKK<\/td>\n",
       "    <\/tr>\n",
       "  <\/tbody>\n",
       "<\/table>\n",
       "<p>1524 rows × 27 columns<\/p>\n",
       "<\/div>"
      ]
     },
     "metadata":{},
     "output_type":"display_data"
    }
   ],
   "metadata":{
    "datalore":{
     "node_id":"wJU4u3FTC5zAHmaC6Distu",
     "type":"CODE",
     "hide_input_from_viewers":true,
     "hide_output_from_viewers":true
    }
   }
  },
  {
   "cell_type":"code",
   "source":[
    "catboost_regresson_df.info()"
   ],
   "execution_count":26,
   "outputs":[
    {
     "name":"stdout",
     "text":[
      "<class 'pandas.core.frame.DataFrame'>\n",
      "RangeIndex: 1524 entries, 0 to 1523\n",
      "Data columns (total 27 columns):\n",
      " #   Column                                 Non-Null Count  Dtype  \n",
      "---  ------                                 --------------  -----  \n",
      " 0   molecular_weight                       1524 non-null   float64\n",
      " 1   aromaticity                            1524 non-null   float64\n",
      " 2   instability_index                      1524 non-null   float64\n",
      " 3   isoelectric_point                      1524 non-null   float64\n",
      " 4   helix_fraction                         1524 non-null   float64\n",
      " 5   turn_fraction                          1524 non-null   float64\n",
      " 6   sheet_fraction                         1524 non-null   float64\n",
      " 7   molar_extinction_coefficient_reduced   1524 non-null   int64  \n",
      " 8   molar_extinction_coefficient_oxidized  1524 non-null   int64  \n",
      " 9   gravy                                  1524 non-null   float64\n",
      " 10  charge_at_ph                           1524 non-null   float64\n",
      " 11  sequence_len                           1524 non-null   int64  \n",
      " 12  Unnamed: 0                             1524 non-null   int64  \n",
      " 13  Peptide                                1524 non-null   object \n",
      " 14  Cell line                              1524 non-null   object \n",
      " 15  Cargo                                  1524 non-null   object \n",
      " 16  PubmedID                               1524 non-null   int64  \n",
      " 17  Uptake                                 1524 non-null   object \n",
      " 18  Units                                  1524 non-null   object \n",
      " 19  Time                                   1524 non-null   float64\n",
      " 20  Temp.                                  1524 non-null   float64\n",
      " 21  Method                                 1524 non-null   object \n",
      " 22  Type                                   1524 non-null   object \n",
      " 23  new_uptake                             1524 non-null   float64\n",
      " 24  nht_tail                               1524 non-null   int64  \n",
      " 25  acylated_terminal                      1524 non-null   int64  \n",
      " 26  cleaned_sequence                       1524 non-null   object \n",
      "dtypes: float64(12), int64(7), object(8)\n",
      "memory usage: 321.6+ KB\n"
     ],
     "output_type":"stream"
    }
   ],
   "metadata":{
    "datalore":{
     "node_id":"A7T1JJu66vw36XtKXTyRgR",
     "type":"CODE",
     "hide_input_from_viewers":true,
     "hide_output_from_viewers":true
    }
   }
  },
  {
   "cell_type":"code",
   "source":[
    "catboost_regresson_df = catboost_regresson_df.drop(columns=['Peptide', 'Uptake', 'Units', 'PubmedID'])"
   ],
   "execution_count":27,
   "outputs":[],
   "metadata":{
    "datalore":{
     "node_id":"5kXhzXJ3gqUb1E285cnYDy",
     "type":"CODE",
     "hide_input_from_viewers":true,
     "hide_output_from_viewers":true
    }
   }
  },
  {
   "cell_type":"code",
   "source":[
    "catboost_regresson_df.info()"
   ],
   "execution_count":28,
   "outputs":[
    {
     "name":"stdout",
     "text":[
      "<class 'pandas.core.frame.DataFrame'>\n",
      "RangeIndex: 1524 entries, 0 to 1523\n",
      "Data columns (total 23 columns):\n",
      " #   Column                                 Non-Null Count  Dtype  \n",
      "---  ------                                 --------------  -----  \n",
      " 0   molecular_weight                       1524 non-null   float64\n",
      " 1   aromaticity                            1524 non-null   float64\n",
      " 2   instability_index                      1524 non-null   float64\n",
      " 3   isoelectric_point                      1524 non-null   float64\n",
      " 4   helix_fraction                         1524 non-null   float64\n",
      " 5   turn_fraction                          1524 non-null   float64\n",
      " 6   sheet_fraction                         1524 non-null   float64\n",
      " 7   molar_extinction_coefficient_reduced   1524 non-null   int64  \n",
      " 8   molar_extinction_coefficient_oxidized  1524 non-null   int64  \n",
      " 9   gravy                                  1524 non-null   float64\n",
      " 10  charge_at_ph                           1524 non-null   float64\n",
      " 11  sequence_len                           1524 non-null   int64  \n",
      " 12  Unnamed: 0                             1524 non-null   int64  \n",
      " 13  Cell line                              1524 non-null   object \n",
      " 14  Cargo                                  1524 non-null   object \n",
      " 15  Time                                   1524 non-null   float64\n",
      " 16  Temp.                                  1524 non-null   float64\n",
      " 17  Method                                 1524 non-null   object \n",
      " 18  Type                                   1524 non-null   object \n",
      " 19  new_uptake                             1524 non-null   float64\n",
      " 20  nht_tail                               1524 non-null   int64  \n",
      " 21  acylated_terminal                      1524 non-null   int64  \n",
      " 22  cleaned_sequence                       1524 non-null   object \n",
      "dtypes: float64(12), int64(6), object(5)\n",
      "memory usage: 274.0+ KB\n"
     ],
     "output_type":"stream"
    }
   ],
   "metadata":{
    "datalore":{
     "node_id":"yO7BwC8nUCaWbB2K4zXP71",
     "type":"CODE",
     "hide_input_from_viewers":true,
     "hide_output_from_viewers":true
    }
   }
  },
  {
   "cell_type":"code",
   "source":[
    "catboost_regresson_df['Type'].value_counts()"
   ],
   "execution_count":29,
   "outputs":[
    {
     "data":{
      "text\/html":[
       "<pre>Cellular uptake                                      867\n",
       "Uptake                                               360\n",
       "Internalization                                       91\n",
       "Penetration efficiencies                              55\n",
       "Transfection                                          48\n",
       "Translocation                                         27\n",
       "Cell-Penetration                                      11\n",
       "Transduction                                           8\n",
       "Penetration                                            8\n",
       "Cellular internalization of oleyl                      7\n",
       "Internalization efficency                              6\n",
       "CPP activity                                           6\n",
       "Association                                            5\n",
       "Internalization of fluorescently labeled peptides      4\n",
       "QD internalization                                     4\n",
       "Uptake (Endosomal escape)                              3\n",
       "Live cell peptide uptake                               3\n",
       "Cellular internalization                               2\n",
       "Drug transport                                         2\n",
       "Intracellular uptake                                   2\n",
       "Interalization                                         1\n",
       "Relative uptake                                        1\n",
       "Antigen Uptake                                         1\n",
       "Cellular uptake of LNC-(DiD)                           1\n",
       "Absorption                                             1\n",
       "Name: Type, dtype: int64<\/pre>"
      ]
     },
     "metadata":{},
     "output_type":"display_data"
    }
   ],
   "metadata":{
    "datalore":{
     "node_id":"nj3ZZ1KvczVeJD2871Q5Ej",
     "type":"CODE",
     "hide_input_from_viewers":true,
     "hide_output_from_viewers":true
    }
   }
  },
  {
   "cell_type":"code",
   "source":[
    "catboost_regresson_df['Cargo'].value_counts()"
   ],
   "execution_count":30,
   "outputs":[
    {
     "data":{
      "text\/html":[
       "<pre>FITC                  292\n",
       "Fluorescein           215\n",
       "Carboxyfluorescein    121\n",
       "QDs                    73\n",
       "TAMRA                  67\n",
       "                     ... \n",
       "CROP                    1\n",
       "SLO                     1\n",
       "CT-B                    1\n",
       "Tf                      1\n",
       "siRNA-A493              1\n",
       "Name: Cargo, Length: 133, dtype: int64<\/pre>"
      ]
     },
     "metadata":{},
     "output_type":"display_data"
    }
   ],
   "metadata":{
    "datalore":{
     "node_id":"kuVc43PyYo7sGSoQlxAVty",
     "type":"CODE",
     "hide_input_from_viewers":true,
     "hide_output_from_viewers":true
    }
   }
  },
  {
   "cell_type":"code",
   "source":[
    "catboost_regresson_df['Cell line'].value_counts()"
   ],
   "execution_count":31,
   "outputs":[
    {
     "data":{
      "text\/html":[
       "<pre>HeLa cells                     364\n",
       "MCF7 cells                      94\n",
       "A549 cells                      92\n",
       "CHO cells                       77\n",
       "HEK293T cells                   70\n",
       "                              ... \n",
       "C6 cells                         1\n",
       "ZR-75-1 human breast cancer      1\n",
       "S-180 sarcoma cells              1\n",
       "M21                              1\n",
       "MEF cells                        1\n",
       "Name: Cell line, Length: 122, dtype: int64<\/pre>"
      ]
     },
     "metadata":{},
     "output_type":"display_data"
    }
   ],
   "metadata":{
    "datalore":{
     "node_id":"pVLcUeHbm43vdhGwIXZxZP",
     "type":"CODE",
     "hide_input_from_viewers":true,
     "hide_output_from_viewers":true
    }
   }
  },
  {
   "cell_type":"code",
   "source":[
    "catboost_regresson_df = catboost_regresson_df.drop(columns=['Cargo', 'Type', 'Method', 'Unnamed: 0'])"
   ],
   "execution_count":32,
   "outputs":[],
   "metadata":{
    "datalore":{
     "node_id":"BSFI3tJsL8Q0TUq5bRHbkC",
     "type":"CODE",
     "hide_input_from_viewers":true,
     "hide_output_from_viewers":true
    }
   }
  },
  {
   "cell_type":"code",
   "source":[
    "catboost_regresson_df.info()"
   ],
   "execution_count":33,
   "outputs":[
    {
     "name":"stdout",
     "text":[
      "<class 'pandas.core.frame.DataFrame'>\n",
      "RangeIndex: 1524 entries, 0 to 1523\n",
      "Data columns (total 19 columns):\n",
      " #   Column                                 Non-Null Count  Dtype  \n",
      "---  ------                                 --------------  -----  \n",
      " 0   molecular_weight                       1524 non-null   float64\n",
      " 1   aromaticity                            1524 non-null   float64\n",
      " 2   instability_index                      1524 non-null   float64\n",
      " 3   isoelectric_point                      1524 non-null   float64\n",
      " 4   helix_fraction                         1524 non-null   float64\n",
      " 5   turn_fraction                          1524 non-null   float64\n",
      " 6   sheet_fraction                         1524 non-null   float64\n",
      " 7   molar_extinction_coefficient_reduced   1524 non-null   int64  \n",
      " 8   molar_extinction_coefficient_oxidized  1524 non-null   int64  \n",
      " 9   gravy                                  1524 non-null   float64\n",
      " 10  charge_at_ph                           1524 non-null   float64\n",
      " 11  sequence_len                           1524 non-null   int64  \n",
      " 12  Cell line                              1524 non-null   object \n",
      " 13  Time                                   1524 non-null   float64\n",
      " 14  Temp.                                  1524 non-null   float64\n",
      " 15  new_uptake                             1524 non-null   float64\n",
      " 16  nht_tail                               1524 non-null   int64  \n",
      " 17  acylated_terminal                      1524 non-null   int64  \n",
      " 18  cleaned_sequence                       1524 non-null   object \n",
      "dtypes: float64(12), int64(5), object(2)\n",
      "memory usage: 226.3+ KB\n"
     ],
     "output_type":"stream"
    }
   ],
   "metadata":{
    "datalore":{
     "node_id":"RnJS8fzUHrnE5oZ1V3ZWAG",
     "type":"CODE",
     "hide_input_from_viewers":true,
     "hide_output_from_viewers":true
    }
   }
  },
  {
   "cell_type":"code",
   "source":[
    "add_aa_percentages(catboost_regresson_df, amino_acids, 'cleaned_sequence')"
   ],
   "execution_count":34,
   "outputs":[
    {
     "data":{
      "text\/html":[
       "<div>\n",
       "<style scoped>\n",
       "    .dataframe tbody tr th:only-of-type {\n",
       "        vertical-align: middle;\n",
       "    }\n",
       "\n",
       "    .dataframe tbody tr th {\n",
       "        vertical-align: top;\n",
       "    }\n",
       "\n",
       "    .dataframe thead th {\n",
       "        text-align: right;\n",
       "    }\n",
       "<\/style>\n",
       "<table border=\"1\" class=\"dataframe\">\n",
       "  <thead>\n",
       "    <tr style=\"text-align: right;\">\n",
       "      <th><\/th>\n",
       "      <th>molecular_weight<\/th>\n",
       "      <th>aromaticity<\/th>\n",
       "      <th>instability_index<\/th>\n",
       "      <th>isoelectric_point<\/th>\n",
       "      <th>helix_fraction<\/th>\n",
       "      <th>turn_fraction<\/th>\n",
       "      <th>sheet_fraction<\/th>\n",
       "      <th>molar_extinction_coefficient_reduced<\/th>\n",
       "      <th>molar_extinction_coefficient_oxidized<\/th>\n",
       "      <th>gravy<\/th>\n",
       "      <th>...<\/th>\n",
       "      <th>Time<\/th>\n",
       "      <th>Temp.<\/th>\n",
       "      <th>new_uptake<\/th>\n",
       "      <th>nht_tail<\/th>\n",
       "      <th>acylated_terminal<\/th>\n",
       "      <th>cleaned_sequence<\/th>\n",
       "      <th>R_percentage<\/th>\n",
       "      <th>K_percentage<\/th>\n",
       "      <th>S_percentage<\/th>\n",
       "      <th>E_percentage<\/th>\n",
       "    <\/tr>\n",
       "  <\/thead>\n",
       "  <tbody>\n",
       "    <tr>\n",
       "      <th>0<\/th>\n",
       "      <td>1339.6033<\/td>\n",
       "      <td>0.0<\/td>\n",
       "      <td>257.444444<\/td>\n",
       "      <td>11.999968<\/td>\n",
       "      <td>0.222222<\/td>\n",
       "      <td>0.0<\/td>\n",
       "      <td>0.0<\/td>\n",
       "      <td>0<\/td>\n",
       "      <td>0<\/td>\n",
       "      <td>-4.255556<\/td>\n",
       "      <td>...<\/td>\n",
       "      <td>15.0<\/td>\n",
       "      <td>23.0<\/td>\n",
       "      <td>650.00<\/td>\n",
       "      <td>0<\/td>\n",
       "      <td>0<\/td>\n",
       "      <td>RKKRRQRRR<\/td>\n",
       "      <td>66.666667<\/td>\n",
       "      <td>22.222222<\/td>\n",
       "      <td>0.0<\/td>\n",
       "      <td>0.0<\/td>\n",
       "    <\/tr>\n",
       "    <tr>\n",
       "      <th>1<\/th>\n",
       "      <td>1183.4176<\/td>\n",
       "      <td>0.0<\/td>\n",
       "      <td>216.775000<\/td>\n",
       "      <td>11.999968<\/td>\n",
       "      <td>0.250000<\/td>\n",
       "      <td>0.0<\/td>\n",
       "      <td>0.0<\/td>\n",
       "      <td>0<\/td>\n",
       "      <td>0<\/td>\n",
       "      <td>-4.225000<\/td>\n",
       "      <td>...<\/td>\n",
       "      <td>10.0<\/td>\n",
       "      <td>23.0<\/td>\n",
       "      <td>31.25<\/td>\n",
       "      <td>0<\/td>\n",
       "      <td>0<\/td>\n",
       "      <td>RKKRRQRR<\/td>\n",
       "      <td>62.500000<\/td>\n",
       "      <td>25.000000<\/td>\n",
       "      <td>0.0<\/td>\n",
       "      <td>0.0<\/td>\n",
       "    <\/tr>\n",
       "    <tr>\n",
       "      <th>2<\/th>\n",
       "      <td>1027.2319<\/td>\n",
       "      <td>0.0<\/td>\n",
       "      <td>164.485714<\/td>\n",
       "      <td>11.999968<\/td>\n",
       "      <td>0.285714<\/td>\n",
       "      <td>0.0<\/td>\n",
       "      <td>0.0<\/td>\n",
       "      <td>0<\/td>\n",
       "      <td>0<\/td>\n",
       "      <td>-4.185714<\/td>\n",
       "      <td>...<\/td>\n",
       "      <td>10.0<\/td>\n",
       "      <td>23.0<\/td>\n",
       "      <td>10.00<\/td>\n",
       "      <td>0<\/td>\n",
       "      <td>0<\/td>\n",
       "      <td>RKKRRQR<\/td>\n",
       "      <td>57.142857<\/td>\n",
       "      <td>28.571429<\/td>\n",
       "      <td>0.0<\/td>\n",
       "      <td>0.0<\/td>\n",
       "    <\/tr>\n",
       "    <tr>\n",
       "      <th>3<\/th>\n",
       "      <td>1183.4176<\/td>\n",
       "      <td>0.0<\/td>\n",
       "      <td>288.375000<\/td>\n",
       "      <td>11.999968<\/td>\n",
       "      <td>0.250000<\/td>\n",
       "      <td>0.0<\/td>\n",
       "      <td>0.0<\/td>\n",
       "      <td>0<\/td>\n",
       "      <td>0<\/td>\n",
       "      <td>-4.225000<\/td>\n",
       "      <td>...<\/td>\n",
       "      <td>10.0<\/td>\n",
       "      <td>23.0<\/td>\n",
       "      <td>22.50<\/td>\n",
       "      <td>0<\/td>\n",
       "      <td>0<\/td>\n",
       "      <td>KKRRQRRR<\/td>\n",
       "      <td>62.500000<\/td>\n",
       "      <td>25.000000<\/td>\n",
       "      <td>0.0<\/td>\n",
       "      <td>0.0<\/td>\n",
       "    <\/tr>\n",
       "    <tr>\n",
       "      <th>4<\/th>\n",
       "      <td>1055.2453<\/td>\n",
       "      <td>0.0<\/td>\n",
       "      <td>328.142857<\/td>\n",
       "      <td>11.999968<\/td>\n",
       "      <td>0.142857<\/td>\n",
       "      <td>0.0<\/td>\n",
       "      <td>0.0<\/td>\n",
       "      <td>0<\/td>\n",
       "      <td>0<\/td>\n",
       "      <td>-4.271429<\/td>\n",
       "      <td>...<\/td>\n",
       "      <td>10.0<\/td>\n",
       "      <td>23.0<\/td>\n",
       "      <td>20.00<\/td>\n",
       "      <td>0<\/td>\n",
       "      <td>0<\/td>\n",
       "      <td>KRRQRRR<\/td>\n",
       "      <td>71.428571<\/td>\n",
       "      <td>14.285714<\/td>\n",
       "      <td>0.0<\/td>\n",
       "      <td>0.0<\/td>\n",
       "    <\/tr>\n",
       "    <tr>\n",
       "      <th>...<\/th>\n",
       "      <td>...<\/td>\n",
       "      <td>...<\/td>\n",
       "      <td>...<\/td>\n",
       "      <td>...<\/td>\n",
       "      <td>...<\/td>\n",
       "      <td>...<\/td>\n",
       "      <td>...<\/td>\n",
       "      <td>...<\/td>\n",
       "      <td>...<\/td>\n",
       "      <td>...<\/td>\n",
       "      <td>...<\/td>\n",
       "      <td>...<\/td>\n",
       "      <td>...<\/td>\n",
       "      <td>...<\/td>\n",
       "      <td>...<\/td>\n",
       "      <td>...<\/td>\n",
       "      <td>...<\/td>\n",
       "      <td>...<\/td>\n",
       "      <td>...<\/td>\n",
       "      <td>...<\/td>\n",
       "      <td>...<\/td>\n",
       "    <\/tr>\n",
       "    <tr>\n",
       "      <th>1519<\/th>\n",
       "      <td>1503.6867<\/td>\n",
       "      <td>0.0<\/td>\n",
       "      <td>143.320000<\/td>\n",
       "      <td>11.999968<\/td>\n",
       "      <td>0.000000<\/td>\n",
       "      <td>0.0<\/td>\n",
       "      <td>0.0<\/td>\n",
       "      <td>0<\/td>\n",
       "      <td>0<\/td>\n",
       "      <td>-3.980000<\/td>\n",
       "      <td>...<\/td>\n",
       "      <td>1440.0<\/td>\n",
       "      <td>37.0<\/td>\n",
       "      <td>100.00<\/td>\n",
       "      <td>0<\/td>\n",
       "      <td>0<\/td>\n",
       "      <td>RRHRHRHRHR<\/td>\n",
       "      <td>60.000000<\/td>\n",
       "      <td>0.000000<\/td>\n",
       "      <td>0.0<\/td>\n",
       "      <td>0.0<\/td>\n",
       "    <\/tr>\n",
       "    <tr>\n",
       "      <th>1520<\/th>\n",
       "      <td>1659.8724<\/td>\n",
       "      <td>0.0<\/td>\n",
       "      <td>183.272727<\/td>\n",
       "      <td>11.999968<\/td>\n",
       "      <td>0.000000<\/td>\n",
       "      <td>0.0<\/td>\n",
       "      <td>0.0<\/td>\n",
       "      <td>0<\/td>\n",
       "      <td>0<\/td>\n",
       "      <td>-4.027273<\/td>\n",
       "      <td>...<\/td>\n",
       "      <td>1440.0<\/td>\n",
       "      <td>37.0<\/td>\n",
       "      <td>250.00<\/td>\n",
       "      <td>0<\/td>\n",
       "      <td>0<\/td>\n",
       "      <td>RRRHRHRHRHR<\/td>\n",
       "      <td>63.636364<\/td>\n",
       "      <td>0.000000<\/td>\n",
       "      <td>0.0<\/td>\n",
       "      <td>0.0<\/td>\n",
       "    <\/tr>\n",
       "    <tr>\n",
       "      <th>1521<\/th>\n",
       "      <td>1816.0581<\/td>\n",
       "      <td>0.0<\/td>\n",
       "      <td>216.566667<\/td>\n",
       "      <td>11.999968<\/td>\n",
       "      <td>0.000000<\/td>\n",
       "      <td>0.0<\/td>\n",
       "      <td>0.0<\/td>\n",
       "      <td>0<\/td>\n",
       "      <td>0<\/td>\n",
       "      <td>-4.066667<\/td>\n",
       "      <td>...<\/td>\n",
       "      <td>1440.0<\/td>\n",
       "      <td>37.0<\/td>\n",
       "      <td>400.00<\/td>\n",
       "      <td>0<\/td>\n",
       "      <td>0<\/td>\n",
       "      <td>RRRRHRHRHRHR<\/td>\n",
       "      <td>66.666667<\/td>\n",
       "      <td>0.000000<\/td>\n",
       "      <td>0.0<\/td>\n",
       "      <td>0.0<\/td>\n",
       "    <\/tr>\n",
       "    <tr>\n",
       "      <th>1522<\/th>\n",
       "      <td>1972.2438<\/td>\n",
       "      <td>0.0<\/td>\n",
       "      <td>244.738462<\/td>\n",
       "      <td>11.999968<\/td>\n",
       "      <td>0.000000<\/td>\n",
       "      <td>0.0<\/td>\n",
       "      <td>0.0<\/td>\n",
       "      <td>0<\/td>\n",
       "      <td>0<\/td>\n",
       "      <td>-4.100000<\/td>\n",
       "      <td>...<\/td>\n",
       "      <td>1440.0<\/td>\n",
       "      <td>37.0<\/td>\n",
       "      <td>500.00<\/td>\n",
       "      <td>0<\/td>\n",
       "      <td>0<\/td>\n",
       "      <td>RRRRRHRHRHRHR<\/td>\n",
       "      <td>69.230769<\/td>\n",
       "      <td>0.000000<\/td>\n",
       "      <td>0.0<\/td>\n",
       "      <td>0.0<\/td>\n",
       "    <\/tr>\n",
       "    <tr>\n",
       "      <th>1523<\/th>\n",
       "      <td>1396.7521<\/td>\n",
       "      <td>0.2<\/td>\n",
       "      <td>123.560000<\/td>\n",
       "      <td>9.898170<\/td>\n",
       "      <td>0.300000<\/td>\n",
       "      <td>0.0<\/td>\n",
       "      <td>0.2<\/td>\n",
       "      <td>11000<\/td>\n",
       "      <td>11125<\/td>\n",
       "      <td>-1.500000<\/td>\n",
       "      <td>...<\/td>\n",
       "      <td>1080.0<\/td>\n",
       "      <td>37.0<\/td>\n",
       "      <td>7000.00<\/td>\n",
       "      <td>0<\/td>\n",
       "      <td>0<\/td>\n",
       "      <td>CRWRWKCCKK<\/td>\n",
       "      <td>20.000000<\/td>\n",
       "      <td>30.000000<\/td>\n",
       "      <td>0.0<\/td>\n",
       "      <td>0.0<\/td>\n",
       "    <\/tr>\n",
       "  <\/tbody>\n",
       "<\/table>\n",
       "<p>1524 rows × 23 columns<\/p>\n",
       "<\/div>"
      ]
     },
     "metadata":{},
     "output_type":"display_data"
    }
   ],
   "metadata":{
    "datalore":{
     "node_id":"9srUNzMpr8rxxNnLFaWE3B",
     "type":"CODE",
     "hide_input_from_viewers":true,
     "hide_output_from_viewers":true
    }
   }
  },
  {
   "cell_type":"code",
   "source":[
    "# Define the features and target\n",
    "X = catboost_regresson_df.drop(columns=['new_uptake'])\n",
    "y = catboost_regresson_df['new_uptake']\n",
    "\n",
    "# Split the data into training and test sets\n",
    "X_train, X_test, y_train, y_test = train_test_split(X, y, test_size=0.2, random_state=SEED)"
   ],
   "execution_count":35,
   "outputs":[],
   "metadata":{
    "datalore":{
     "node_id":"KCKK7NZNLM6A71Qsf4yG4Y",
     "type":"CODE",
     "hide_input_from_viewers":true,
     "hide_output_from_viewers":true
    }
   }
  },
  {
   "cell_type":"code",
   "source":[
    "# Specify columns\n",
    "sequence_col = 'cleaned_sequence'\n",
    "categorical_cols = ['Cell line']\n",
    "numerical_cols = ['molecular_weight', 'aromaticity', 'instability_index', 'isoelectric_point',\n",
    "                  'helix_fraction', 'turn_fraction', 'sheet_fraction',\n",
    "                  'molar_extinction_coefficient_reduced', 'molar_extinction_coefficient_oxidized',\n",
    "                  'gravy', 'charge_at_ph', 'sequence_len', 'Time', 'Temp.', 'nht_tail', 'acylated_terminal']"
   ],
   "execution_count":36,
   "outputs":[],
   "metadata":{
    "datalore":{
     "node_id":"7Tll8iJg7975tNySzFgwR9",
     "type":"CODE",
     "hide_input_from_viewers":true,
     "hide_output_from_viewers":true
    }
   }
  },
  {
   "cell_type":"code",
   "source":[
    "# Custom transformer to extract amino acids at each position\n",
    "class SequencePositionTransformer(BaseEstimator, TransformerMixin):\n",
    "    def __init__(self, max_len=40):\n",
    "        self.max_len = max_len\n",
    "    \n",
    "    def fit(self, X, y=None):\n",
    "        return self\n",
    "    \n",
    "    def transform(self, X):\n",
    "        X_transformed = []\n",
    "        for seq in X:\n",
    "            if len(seq) > self.max_len:\n",
    "                seq = seq[:self.max_len]  # Truncate sequences longer than max_len\n",
    "            seq_padded = seq.ljust(self.max_len, 'X')  # Pad sequences shorter than max_len with 'X'\n",
    "            X_transformed.append(list(seq_padded))\n",
    "        return X_transformed\n",
    "\n",
    "# Define the ColumnTransformer\n",
    "preprocessor = ColumnTransformer(\n",
    "    transformers=[\n",
    "        ('seq', Pipeline(steps=[\n",
    "            ('seq_pos', SequencePositionTransformer(max_len=40)),  # Adjust max_len if needed\n",
    "            ('onehot', OneHotEncoder(handle_unknown='ignore', sparse_output=False))\n",
    "        ]), sequence_col),\n",
    "        ('num', Pipeline(steps=[\n",
    "            ('scaler', StandardScaler())\n",
    "        ]), numerical_cols),\n",
    "        ('cat', Pipeline(steps=[\n",
    "            ('onehot', OneHotEncoder(handle_unknown='ignore', sparse_output=False))\n",
    "        ]), categorical_cols)\n",
    "    ],\n",
    "    remainder='passthrough'  # Pass through any columns not specified\n",
    ")"
   ],
   "execution_count":37,
   "outputs":[],
   "metadata":{
    "datalore":{
     "node_id":"lANVAsMmT0oAlVLtwZ2x13",
     "type":"CODE",
     "hide_input_from_viewers":true,
     "hide_output_from_viewers":true
    }
   }
  },
  {
   "cell_type":"code",
   "source":[
    "# Create the pipeline\n",
    "pipeline = Pipeline(steps=[\n",
    "    ('preprocessor', preprocessor),\n",
    "    ('regressor', CatBoostRegressor(silent=True))\n",
    "])"
   ],
   "execution_count":38,
   "outputs":[],
   "metadata":{
    "datalore":{
     "node_id":"azk7c9IVa1FDC3NbItNYgA",
     "type":"CODE",
     "hide_input_from_viewers":true,
     "hide_output_from_viewers":true
    }
   }
  },
  {
   "cell_type":"code",
   "source":[
    "# Fit the pipeline\n",
    "pipeline.fit(X_train, y_train)"
   ],
   "execution_count":39,
   "outputs":[
    {
     "data":{
      "text\/html":[
       "<style>#sk-container-id-1 {color: black;background-color: white;}#sk-container-id-1 pre{padding: 0;}#sk-container-id-1 div.sk-toggleable {background-color: white;}#sk-container-id-1 label.sk-toggleable__label {cursor: pointer;display: block;width: 100%;margin-bottom: 0;padding: 0.3em;box-sizing: border-box;text-align: center;}#sk-container-id-1 label.sk-toggleable__label-arrow:before {content: \"▸\";float: left;margin-right: 0.25em;color: #696969;}#sk-container-id-1 label.sk-toggleable__label-arrow:hover:before {color: black;}#sk-container-id-1 div.sk-estimator:hover label.sk-toggleable__label-arrow:before {color: black;}#sk-container-id-1 div.sk-toggleable__content {max-height: 0;max-width: 0;overflow: hidden;text-align: left;background-color: #f0f8ff;}#sk-container-id-1 div.sk-toggleable__content pre {margin: 0.2em;color: black;border-radius: 0.25em;background-color: #f0f8ff;}#sk-container-id-1 input.sk-toggleable__control:checked~div.sk-toggleable__content {max-height: 200px;max-width: 100%;overflow: auto;}#sk-container-id-1 input.sk-toggleable__control:checked~label.sk-toggleable__label-arrow:before {content: \"▾\";}#sk-container-id-1 div.sk-estimator input.sk-toggleable__control:checked~label.sk-toggleable__label {background-color: #d4ebff;}#sk-container-id-1 div.sk-label input.sk-toggleable__control:checked~label.sk-toggleable__label {background-color: #d4ebff;}#sk-container-id-1 input.sk-hidden--visually {border: 0;clip: rect(1px 1px 1px 1px);clip: rect(1px, 1px, 1px, 1px);height: 1px;margin: -1px;overflow: hidden;padding: 0;position: absolute;width: 1px;}#sk-container-id-1 div.sk-estimator {font-family: monospace;background-color: #f0f8ff;border: 1px dotted black;border-radius: 0.25em;box-sizing: border-box;margin-bottom: 0.5em;}#sk-container-id-1 div.sk-estimator:hover {background-color: #d4ebff;}#sk-container-id-1 div.sk-parallel-item::after {content: \"\";width: 100%;border-bottom: 1px solid gray;flex-grow: 1;}#sk-container-id-1 div.sk-label:hover label.sk-toggleable__label {background-color: #d4ebff;}#sk-container-id-1 div.sk-serial::before {content: \"\";position: absolute;border-left: 1px solid gray;box-sizing: border-box;top: 0;bottom: 0;left: 50%;z-index: 0;}#sk-container-id-1 div.sk-serial {display: flex;flex-direction: column;align-items: center;background-color: white;padding-right: 0.2em;padding-left: 0.2em;position: relative;}#sk-container-id-1 div.sk-item {position: relative;z-index: 1;}#sk-container-id-1 div.sk-parallel {display: flex;align-items: stretch;justify-content: center;background-color: white;position: relative;}#sk-container-id-1 div.sk-item::before, #sk-container-id-1 div.sk-parallel-item::before {content: \"\";position: absolute;border-left: 1px solid gray;box-sizing: border-box;top: 0;bottom: 0;left: 50%;z-index: -1;}#sk-container-id-1 div.sk-parallel-item {display: flex;flex-direction: column;z-index: 1;position: relative;background-color: white;}#sk-container-id-1 div.sk-parallel-item:first-child::after {align-self: flex-end;width: 50%;}#sk-container-id-1 div.sk-parallel-item:last-child::after {align-self: flex-start;width: 50%;}#sk-container-id-1 div.sk-parallel-item:only-child::after {width: 0;}#sk-container-id-1 div.sk-dashed-wrapped {border: 1px dashed gray;margin: 0 0.4em 0.5em 0.4em;box-sizing: border-box;padding-bottom: 0.4em;background-color: white;}#sk-container-id-1 div.sk-label label {font-family: monospace;font-weight: bold;display: inline-block;line-height: 1.2em;}#sk-container-id-1 div.sk-label-container {text-align: center;}#sk-container-id-1 div.sk-container {\/* jupyter's `normalize.less` sets `[hidden] { display: none; }` but bootstrap.min.css set `[hidden] { display: none !important; }` so we also need the `!important` here to be able to override the default hidden behavior on the sphinx rendered scikit-learn.org. See: https:\/\/github.com\/scikit-learn\/scikit-learn\/issues\/21755 *\/display: inline-block !important;position: relative;}#sk-container-id-1 div.sk-text-repr-fallback {display: none;}<\/style><div id=\"sk-container-id-1\" class=\"sk-top-container\"><div class=\"sk-text-repr-fallback\"><pre>Pipeline(steps=[(&#x27;preprocessor&#x27;,\n",
       "                 ColumnTransformer(remainder=&#x27;passthrough&#x27;,\n",
       "                                   transformers=[(&#x27;seq&#x27;,\n",
       "                                                  Pipeline(steps=[(&#x27;seq_pos&#x27;,\n",
       "                                                                   SequencePositionTransformer()),\n",
       "                                                                  (&#x27;onehot&#x27;,\n",
       "                                                                   OneHotEncoder(handle_unknown=&#x27;ignore&#x27;,\n",
       "                                                                                 sparse_output=False))]),\n",
       "                                                  &#x27;cleaned_sequence&#x27;),\n",
       "                                                 (&#x27;num&#x27;,\n",
       "                                                  Pipeline(steps=[(&#x27;scaler&#x27;,\n",
       "                                                                   StandardScaler())]),\n",
       "                                                  [&#x27;molecular_weight&#x27;,\n",
       "                                                   &#x27;aromaticity&#x27;,\n",
       "                                                   &#x27;instability_index...\n",
       "                                                   &#x27;sheet_fraction&#x27;,\n",
       "                                                   &#x27;molar_extinction_coefficient_reduced&#x27;,\n",
       "                                                   &#x27;molar_extinction_coefficient_oxidized&#x27;,\n",
       "                                                   &#x27;gravy&#x27;, &#x27;charge_at_ph&#x27;,\n",
       "                                                   &#x27;sequence_len&#x27;, &#x27;Time&#x27;,\n",
       "                                                   &#x27;Temp.&#x27;, &#x27;nht_tail&#x27;,\n",
       "                                                   &#x27;acylated_terminal&#x27;]),\n",
       "                                                 (&#x27;cat&#x27;,\n",
       "                                                  Pipeline(steps=[(&#x27;onehot&#x27;,\n",
       "                                                                   OneHotEncoder(handle_unknown=&#x27;ignore&#x27;,\n",
       "                                                                                 sparse_output=False))]),\n",
       "                                                  [&#x27;Cell line&#x27;])])),\n",
       "                (&#x27;regressor&#x27;,\n",
       "                 &lt;catboost.core.CatBoostRegressor object at 0x7f08bd4d60a0&gt;)])<\/pre><b>In a Jupyter environment, please rerun this cell to show the HTML representation or trust the notebook. <br \/>On GitHub, the HTML representation is unable to render, please try loading this page with nbviewer.org.<\/b><\/div><div class=\"sk-container\" hidden><div class=\"sk-item sk-dashed-wrapped\"><div class=\"sk-label-container\"><div class=\"sk-label sk-toggleable\"><input class=\"sk-toggleable__control sk-hidden--visually\" id=\"sk-estimator-id-1\" type=\"checkbox\" ><label for=\"sk-estimator-id-1\" class=\"sk-toggleable__label sk-toggleable__label-arrow\">Pipeline<\/label><div class=\"sk-toggleable__content\"><pre>Pipeline(steps=[(&#x27;preprocessor&#x27;,\n",
       "                 ColumnTransformer(remainder=&#x27;passthrough&#x27;,\n",
       "                                   transformers=[(&#x27;seq&#x27;,\n",
       "                                                  Pipeline(steps=[(&#x27;seq_pos&#x27;,\n",
       "                                                                   SequencePositionTransformer()),\n",
       "                                                                  (&#x27;onehot&#x27;,\n",
       "                                                                   OneHotEncoder(handle_unknown=&#x27;ignore&#x27;,\n",
       "                                                                                 sparse_output=False))]),\n",
       "                                                  &#x27;cleaned_sequence&#x27;),\n",
       "                                                 (&#x27;num&#x27;,\n",
       "                                                  Pipeline(steps=[(&#x27;scaler&#x27;,\n",
       "                                                                   StandardScaler())]),\n",
       "                                                  [&#x27;molecular_weight&#x27;,\n",
       "                                                   &#x27;aromaticity&#x27;,\n",
       "                                                   &#x27;instability_index...\n",
       "                                                   &#x27;sheet_fraction&#x27;,\n",
       "                                                   &#x27;molar_extinction_coefficient_reduced&#x27;,\n",
       "                                                   &#x27;molar_extinction_coefficient_oxidized&#x27;,\n",
       "                                                   &#x27;gravy&#x27;, &#x27;charge_at_ph&#x27;,\n",
       "                                                   &#x27;sequence_len&#x27;, &#x27;Time&#x27;,\n",
       "                                                   &#x27;Temp.&#x27;, &#x27;nht_tail&#x27;,\n",
       "                                                   &#x27;acylated_terminal&#x27;]),\n",
       "                                                 (&#x27;cat&#x27;,\n",
       "                                                  Pipeline(steps=[(&#x27;onehot&#x27;,\n",
       "                                                                   OneHotEncoder(handle_unknown=&#x27;ignore&#x27;,\n",
       "                                                                                 sparse_output=False))]),\n",
       "                                                  [&#x27;Cell line&#x27;])])),\n",
       "                (&#x27;regressor&#x27;,\n",
       "                 &lt;catboost.core.CatBoostRegressor object at 0x7f08bd4d60a0&gt;)])<\/pre><\/div><\/div><\/div><div class=\"sk-serial\"><div class=\"sk-item sk-dashed-wrapped\"><div class=\"sk-label-container\"><div class=\"sk-label sk-toggleable\"><input class=\"sk-toggleable__control sk-hidden--visually\" id=\"sk-estimator-id-2\" type=\"checkbox\" ><label for=\"sk-estimator-id-2\" class=\"sk-toggleable__label sk-toggleable__label-arrow\">preprocessor: ColumnTransformer<\/label><div class=\"sk-toggleable__content\"><pre>ColumnTransformer(remainder=&#x27;passthrough&#x27;,\n",
       "                  transformers=[(&#x27;seq&#x27;,\n",
       "                                 Pipeline(steps=[(&#x27;seq_pos&#x27;,\n",
       "                                                  SequencePositionTransformer()),\n",
       "                                                 (&#x27;onehot&#x27;,\n",
       "                                                  OneHotEncoder(handle_unknown=&#x27;ignore&#x27;,\n",
       "                                                                sparse_output=False))]),\n",
       "                                 &#x27;cleaned_sequence&#x27;),\n",
       "                                (&#x27;num&#x27;,\n",
       "                                 Pipeline(steps=[(&#x27;scaler&#x27;, StandardScaler())]),\n",
       "                                 [&#x27;molecular_weight&#x27;, &#x27;aromaticity&#x27;,\n",
       "                                  &#x27;instability_index&#x27;, &#x27;isoelectric_point&#x27;,\n",
       "                                  &#x27;helix_fraction&#x27;, &#x27;turn_fraction&#x27;,\n",
       "                                  &#x27;sheet_fraction&#x27;,\n",
       "                                  &#x27;molar_extinction_coefficient_reduced&#x27;,\n",
       "                                  &#x27;molar_extinction_coefficient_oxidized&#x27;,\n",
       "                                  &#x27;gravy&#x27;, &#x27;charge_at_ph&#x27;, &#x27;sequence_len&#x27;,\n",
       "                                  &#x27;Time&#x27;, &#x27;Temp.&#x27;, &#x27;nht_tail&#x27;,\n",
       "                                  &#x27;acylated_terminal&#x27;]),\n",
       "                                (&#x27;cat&#x27;,\n",
       "                                 Pipeline(steps=[(&#x27;onehot&#x27;,\n",
       "                                                  OneHotEncoder(handle_unknown=&#x27;ignore&#x27;,\n",
       "                                                                sparse_output=False))]),\n",
       "                                 [&#x27;Cell line&#x27;])])<\/pre><\/div><\/div><\/div><div class=\"sk-parallel\"><div class=\"sk-parallel-item\"><div class=\"sk-item\"><div class=\"sk-label-container\"><div class=\"sk-label sk-toggleable\"><input class=\"sk-toggleable__control sk-hidden--visually\" id=\"sk-estimator-id-3\" type=\"checkbox\" ><label for=\"sk-estimator-id-3\" class=\"sk-toggleable__label sk-toggleable__label-arrow\">seq<\/label><div class=\"sk-toggleable__content\"><pre>cleaned_sequence<\/pre><\/div><\/div><\/div><div class=\"sk-serial\"><div class=\"sk-item\"><div class=\"sk-serial\"><div class=\"sk-item\"><div class=\"sk-estimator sk-toggleable\"><input class=\"sk-toggleable__control sk-hidden--visually\" id=\"sk-estimator-id-4\" type=\"checkbox\" ><label for=\"sk-estimator-id-4\" class=\"sk-toggleable__label sk-toggleable__label-arrow\">SequencePositionTransformer<\/label><div class=\"sk-toggleable__content\"><pre>SequencePositionTransformer()<\/pre><\/div><\/div><\/div><div class=\"sk-item\"><div class=\"sk-estimator sk-toggleable\"><input class=\"sk-toggleable__control sk-hidden--visually\" id=\"sk-estimator-id-5\" type=\"checkbox\" ><label for=\"sk-estimator-id-5\" class=\"sk-toggleable__label sk-toggleable__label-arrow\">OneHotEncoder<\/label><div class=\"sk-toggleable__content\"><pre>OneHotEncoder(handle_unknown=&#x27;ignore&#x27;, sparse_output=False)<\/pre><\/div><\/div><\/div><\/div><\/div><\/div><\/div><\/div><div class=\"sk-parallel-item\"><div class=\"sk-item\"><div class=\"sk-label-container\"><div class=\"sk-label sk-toggleable\"><input class=\"sk-toggleable__control sk-hidden--visually\" id=\"sk-estimator-id-6\" type=\"checkbox\" ><label for=\"sk-estimator-id-6\" class=\"sk-toggleable__label sk-toggleable__label-arrow\">num<\/label><div class=\"sk-toggleable__content\"><pre>[&#x27;molecular_weight&#x27;, &#x27;aromaticity&#x27;, &#x27;instability_index&#x27;, &#x27;isoelectric_point&#x27;, &#x27;helix_fraction&#x27;, &#x27;turn_fraction&#x27;, &#x27;sheet_fraction&#x27;, &#x27;molar_extinction_coefficient_reduced&#x27;, &#x27;molar_extinction_coefficient_oxidized&#x27;, &#x27;gravy&#x27;, &#x27;charge_at_ph&#x27;, &#x27;sequence_len&#x27;, &#x27;Time&#x27;, &#x27;Temp.&#x27;, &#x27;nht_tail&#x27;, &#x27;acylated_terminal&#x27;]<\/pre><\/div><\/div><\/div><div class=\"sk-serial\"><div class=\"sk-item\"><div class=\"sk-serial\"><div class=\"sk-item\"><div class=\"sk-estimator sk-toggleable\"><input class=\"sk-toggleable__control sk-hidden--visually\" id=\"sk-estimator-id-7\" type=\"checkbox\" ><label for=\"sk-estimator-id-7\" class=\"sk-toggleable__label sk-toggleable__label-arrow\">StandardScaler<\/label><div class=\"sk-toggleable__content\"><pre>StandardScaler()<\/pre><\/div><\/div><\/div><\/div><\/div><\/div><\/div><\/div><div class=\"sk-parallel-item\"><div class=\"sk-item\"><div class=\"sk-label-container\"><div class=\"sk-label sk-toggleable\"><input class=\"sk-toggleable__control sk-hidden--visually\" id=\"sk-estimator-id-8\" type=\"checkbox\" ><label for=\"sk-estimator-id-8\" class=\"sk-toggleable__label sk-toggleable__label-arrow\">cat<\/label><div class=\"sk-toggleable__content\"><pre>[&#x27;Cell line&#x27;]<\/pre><\/div><\/div><\/div><div class=\"sk-serial\"><div class=\"sk-item\"><div class=\"sk-serial\"><div class=\"sk-item\"><div class=\"sk-estimator sk-toggleable\"><input class=\"sk-toggleable__control sk-hidden--visually\" id=\"sk-estimator-id-9\" type=\"checkbox\" ><label for=\"sk-estimator-id-9\" class=\"sk-toggleable__label sk-toggleable__label-arrow\">OneHotEncoder<\/label><div class=\"sk-toggleable__content\"><pre>OneHotEncoder(handle_unknown=&#x27;ignore&#x27;, sparse_output=False)<\/pre><\/div><\/div><\/div><\/div><\/div><\/div><\/div><\/div><div class=\"sk-parallel-item\"><div class=\"sk-item\"><div class=\"sk-label-container\"><div class=\"sk-label sk-toggleable\"><input class=\"sk-toggleable__control sk-hidden--visually\" id=\"sk-estimator-id-10\" type=\"checkbox\" ><label for=\"sk-estimator-id-10\" class=\"sk-toggleable__label sk-toggleable__label-arrow\">remainder<\/label><div class=\"sk-toggleable__content\"><pre>[&#x27;R_percentage&#x27;, &#x27;K_percentage&#x27;, &#x27;S_percentage&#x27;, &#x27;E_percentage&#x27;]<\/pre><\/div><\/div><\/div><div class=\"sk-serial\"><div class=\"sk-item\"><div class=\"sk-estimator sk-toggleable\"><input class=\"sk-toggleable__control sk-hidden--visually\" id=\"sk-estimator-id-11\" type=\"checkbox\" ><label for=\"sk-estimator-id-11\" class=\"sk-toggleable__label sk-toggleable__label-arrow\">passthrough<\/label><div class=\"sk-toggleable__content\"><pre>passthrough<\/pre><\/div><\/div><\/div><\/div><\/div><\/div><\/div><\/div><div class=\"sk-item\"><div class=\"sk-estimator sk-toggleable\"><input class=\"sk-toggleable__control sk-hidden--visually\" id=\"sk-estimator-id-12\" type=\"checkbox\" ><label for=\"sk-estimator-id-12\" class=\"sk-toggleable__label sk-toggleable__label-arrow\">CatBoostRegressor<\/label><div class=\"sk-toggleable__content\"><pre>&lt;catboost.core.CatBoostRegressor object at 0x7f08bd4d60a0&gt;<\/pre><\/div><\/div><\/div><\/div><\/div><\/div><\/div>"
      ]
     },
     "metadata":{},
     "output_type":"display_data"
    }
   ],
   "metadata":{
    "datalore":{
     "node_id":"SotvgoElH2C4la0jx7QH8m",
     "type":"CODE",
     "hide_input_from_viewers":true,
     "hide_output_from_viewers":true
    }
   }
  },
  {
   "cell_type":"code",
   "source":[
    "from sklearn.metrics import mean_absolute_error, r2_score\n",
    "\n",
    "# Predict on test set\n",
    "y_pred = pipeline.predict(X_test)\n",
    "\n",
    "# Evaluate the model\n",
    "mae = mean_absolute_error(y_test, y_pred)\n",
    "r2 = r2_score(y_test, y_pred)\n",
    "\n",
    "print(f\"Mean Absolute Error: {mae}\")\n",
    "print(f\"R^2 Score: {r2}\")"
   ],
   "execution_count":42,
   "outputs":[
    {
     "name":"stdout",
     "text":[
      "Mean Absolute Error: 5601.735005273304\n",
      "R^2 Score: 0.8211294810575696\n"
     ],
     "output_type":"stream"
    }
   ],
   "metadata":{
    "datalore":{
     "node_id":"IyLWjA5uzPlF80a6tmCqJy",
     "type":"CODE",
     "hide_input_from_viewers":true,
     "hide_output_from_viewers":true
    }
   }
  },
  {
   "cell_type":"code",
   "source":[
    "# Plotting predicted vs actual values\n",
    "plt.figure(figsize=(10, 6))\n",
    "plt.scatter(y_test, y_pred, alpha=0.5, edgecolors='w', linewidth=0.5)\n",
    "plt.plot([min(y_test), max(y_test)], [min(y_test), max(y_test)], color='red', linestyle='--', linewidth=2)\n",
    "plt.xlabel('Actual Values')\n",
    "plt.ylabel('Predicted Values')\n",
    "plt.title('Actual vs Predicted Values')\n",
    "plt.grid(True)\n",
    "plt.show()"
   ],
   "execution_count":43,
   "outputs":[
    {
     "data":{
      "image\/png":"[encoded data removed]"
     },
     "metadata":{
      "image\/png":{}
     },
     "output_type":"display_data"
    }
   ],
   "metadata":{
    "datalore":{
     "node_id":"NNsCiiKJKPXLAoFCwB01Fw",
     "type":"CODE",
     "hide_input_from_viewers":true,
     "hide_output_from_viewers":true
    }
   }
  },
  {
   "cell_type":"code",
   "source":[
    "# Combine actual and predicted values into a DataFrame\n",
    "results_df = pd.DataFrame({'Actual': y_test, 'Predicted': y_pred})\n",
    "\n",
    "# Identify the 2 highest actual values\n",
    "top_2_highest_actuals = results_df['Actual'].nlargest(2)\n",
    "\n",
    "# Filter out the rows with these highest actual values\n",
    "filtered_results_df = results_df[~results_df['Actual'].isin(top_2_highest_actuals)]\n",
    "\n",
    "# Plotting predicted vs actual values without the outliers\n",
    "plt.figure(figsize=(10, 6))\n",
    "plt.scatter(filtered_results_df['Actual'], filtered_results_df['Predicted'], alpha=0.5, edgecolors='w', linewidth=0.5)\n",
    "plt.plot([min(filtered_results_df['Actual']), max(filtered_results_df['Actual'])],\n",
    "         [min(filtered_results_df['Actual']), max(filtered_results_df['Actual'])], color='red', linestyle='--', linewidth=2)\n",
    "plt.xlabel('Actual Values')\n",
    "plt.ylabel('Predicted Values')\n",
    "plt.title('Actual vs Predicted Values (Without Top 2 Highest Actual Values)')\n",
    "plt.grid(True)\n",
    "plt.show()"
   ],
   "execution_count":44,
   "outputs":[
    {
     "data":{
      "image\/png":"[encoded data removed]"
     },
     "metadata":{
      "image\/png":{}
     },
     "output_type":"display_data"
    }
   ],
   "metadata":{
    "datalore":{
     "node_id":"hhjvn50wwwhSHnSomo5Kq6",
     "type":"CODE",
     "hide_input_from_viewers":true,
     "hide_output_from_viewers":true
    }
   }
  },
  {
   "cell_type":"code",
   "source":[
    "from typing import Optional, Tuple\n",
    "\n",
    "def snake_to_title(col_name: str) -> str:\n",
    "    return col_name.replace('_', ' ').capitalize()\n",
    "\n",
    "\n",
    "def kde_boxen_qq(\n",
    "    dataframe: pd.DataFrame, col_name: str,\n",
    "    title: Optional[str] = None,\n",
    "    figsize: Optional[Tuple[str, str]] = None\n",
    "    # It's not good practice to \"inherit\" figsize without actual inheritance or composition\n",
    ") -> None:\n",
    "\n",
    "    if title is None:\n",
    "        title = snake_to_title(col_name)\n",
    "\n",
    "    fig, axes = plt.subplot_mosaic([['up', 'right'],['down', 'right']],\n",
    "                                    constrained_layout=True, figsize=(10,6),\n",
    "                                    gridspec_kw={\n",
    "                                        'height_ratios': (0.3, 0.7),\n",
    "                                        'width_ratios': (0.6, 0.4)\n",
    "                                    })\n",
    "    \n",
    "    fig.suptitle(title, fontsize='xx-large')\n",
    "\n",
    "    sns.histplot(data=dataframe, x=col_name, ax=axes['down'], kde=True)\n",
    "\n",
    "    sns.boxenplot(data=dataframe, x=col_name, ax=axes['up'])\n",
    "    axes['up'].set_xlabel('')\n",
    "    axes['up'].set_xticklabels('')\n",
    "\n",
    "    sm.qqplot(dataframe[col_name], fit=True, line='45', alpha=0.2, ax=axes['right'])\n",
    "    axes['right'].set_title('QQ plot')\n",
    "\n",
    "    if figsize:\n",
    "        x, y = figsize\n",
    "        fig.set_figwidth(x)\n",
    "        fig.set_figheight(y)\n",
    "\n",
    "    sns.despine()\n",
    "    plt.show()"
   ],
   "execution_count":45,
   "outputs":[],
   "metadata":{
    "datalore":{
     "node_id":"FzBQCBKIZALrSUjmFfcXIc",
     "type":"CODE",
     "hide_input_from_viewers":true,
     "hide_output_from_viewers":true
    }
   }
  },
  {
   "cell_type":"code",
   "source":[
    "kde_boxen_qq(catboost_regresson_df, 'new_uptake')"
   ],
   "execution_count":46,
   "outputs":[
    {
     "data":{
      "image\/png":"[encoded data removed]"
     },
     "metadata":{
      "image\/png":{}
     },
     "output_type":"display_data"
    }
   ],
   "metadata":{
    "datalore":{
     "node_id":"2Swhy7EPgrCB7ybPrdKFHG",
     "type":"CODE",
     "hide_input_from_viewers":true,
     "hide_output_from_viewers":true
    }
   }
  },
  {
   "cell_type":"code",
   "source":[
    "sns.kdeplot(catboost_regresson_df, x='new_uptake')"
   ],
   "execution_count":47,
   "outputs":[
    {
     "data":{
      "text\/plain":[
       "<Axes: xlabel='new_uptake', ylabel='Density'>"
      ]
     },
     "metadata":{},
     "output_type":"display_data"
    },
    {
     "data":{
      "image\/png":"[encoded data removed]"
     },
     "metadata":{
      "image\/png":{}
     },
     "output_type":"display_data"
    }
   ],
   "metadata":{
    "datalore":{
     "node_id":"oHKt70mMBtwICJja6417n6",
     "type":"CODE",
     "hide_input_from_viewers":true,
     "hide_output_from_viewers":true
    }
   }
  },
  {
   "cell_type":"code",
   "source":[
    "threshold = 0.25 * 1e6\n",
    "(catboost_regresson_df['new_uptake'] > threshold).sum()"
   ],
   "execution_count":48,
   "outputs":[
    {
     "data":{
      "text\/plain":[
       "8"
      ]
     },
     "metadata":{},
     "output_type":"display_data"
    }
   ],
   "metadata":{
    "datalore":{
     "node_id":"3GVZG8oaEDs2tD0kIiIJi0",
     "type":"CODE",
     "hide_input_from_viewers":true,
     "hide_output_from_viewers":true
    }
   }
  },
  {
   "cell_type":"markdown",
   "source":[
    "# Regression without outliers"
   ],
   "attachments":{},
   "metadata":{
    "datalore":{
     "node_id":"FzcfvmVPS4C5WD1BLMhDXA",
     "type":"MD",
     "hide_input_from_viewers":true,
     "hide_output_from_viewers":true
    }
   }
  },
  {
   "cell_type":"code",
   "source":[
    "def remove_rows_above_threshold(df, column_name, threshold):\n",
    "    \"\"\"\n",
    "    Removes rows from the DataFrame where the values in the specified column are higher than the given threshold.\n",
    "\n",
    "    Parameters:\n",
    "    df (pd.DataFrame): The DataFrame to filter.\n",
    "    column_name (str): The name of the column to check.\n",
    "    threshold (float): The threshold value.\n",
    "\n",
    "    Returns:\n",
    "    pd.DataFrame: A DataFrame with rows removed where values exceed the threshold.\n",
    "    \"\"\"\n",
    "    # Ensure the column exists in the DataFrame\n",
    "    if column_name not in df.columns:\n",
    "        raise ValueError(f\"Column '{column_name}' not found in DataFrame\")\n",
    "\n",
    "    # Remove rows where values in the specified column are higher than the threshold\n",
    "    filtered_df = df[df[column_name] <= threshold]\n",
    "    \n",
    "    return filtered_df"
   ],
   "execution_count":49,
   "outputs":[],
   "metadata":{
    "datalore":{
     "node_id":"jhLmjvVws5mCLtrtXxS0LN",
     "type":"CODE",
     "hide_input_from_viewers":true,
     "hide_output_from_viewers":true
    }
   }
  },
  {
   "cell_type":"code",
   "source":[
    "catboost_regresson_df = remove_rows_above_threshold(catboost_regresson_df, 'new_uptake', 0.25 * 1e6)"
   ],
   "execution_count":50,
   "outputs":[],
   "metadata":{
    "datalore":{
     "node_id":"BZXW4YeSbCjxd8lH1vADYH",
     "type":"CODE",
     "hide_input_from_viewers":true,
     "hide_output_from_viewers":true
    }
   }
  },
  {
   "cell_type":"code",
   "source":[
    "# Define the features and target\n",
    "X = catboost_regresson_df.drop(columns=['new_uptake'])\n",
    "y = catboost_regresson_df['new_uptake']\n",
    "\n",
    "# Split the data into training and test sets\n",
    "X_train, X_test, y_train, y_test = train_test_split(X, y, test_size=0.2, random_state=SEED)"
   ],
   "execution_count":51,
   "outputs":[],
   "metadata":{
    "datalore":{
     "node_id":"rCT7xFN51bzhh6MIZvQmuT",
     "type":"CODE",
     "hide_input_from_viewers":true,
     "hide_output_from_viewers":true
    }
   }
  },
  {
   "cell_type":"code",
   "source":[
    "# Custom transformer to extract amino acids at each position\n",
    "class SequencePositionTransformer(BaseEstimator, TransformerMixin):\n",
    "    def __init__(self, max_len=40):\n",
    "        self.max_len = max_len\n",
    "    \n",
    "    def fit(self, X, y=None):\n",
    "        return self\n",
    "    \n",
    "    def transform(self, X):\n",
    "        X_transformed = []\n",
    "        for seq in X:\n",
    "            if len(seq) > self.max_len:\n",
    "                seq = seq[:self.max_len]  # Truncate sequences longer than max_len\n",
    "            seq_padded = seq.ljust(self.max_len, 'X')  # Pad sequences shorter than max_len with 'X'\n",
    "            X_transformed.append(list(seq_padded))\n",
    "        return X_transformed\n",
    "\n",
    "# Define the ColumnTransformer\n",
    "preprocessor = ColumnTransformer(\n",
    "    transformers=[\n",
    "        ('seq', Pipeline(steps=[\n",
    "            ('seq_pos', SequencePositionTransformer(max_len=40)),  # Adjust max_len if needed\n",
    "            ('onehot', OneHotEncoder(handle_unknown='ignore', sparse_output=False))\n",
    "        ]), sequence_col),\n",
    "        ('num', Pipeline(steps=[\n",
    "            ('scaler', StandardScaler())\n",
    "        ]), numerical_cols),\n",
    "        ('cat', Pipeline(steps=[\n",
    "            ('onehot', OneHotEncoder(handle_unknown='ignore', sparse_output=False))\n",
    "        ]), categorical_cols)\n",
    "    ],\n",
    "    remainder='passthrough'  # Pass through any columns not specified\n",
    ")"
   ],
   "execution_count":52,
   "outputs":[],
   "metadata":{
    "datalore":{
     "node_id":"gr1P74TtuUxzXUfHR9K2Wr",
     "type":"CODE",
     "hide_input_from_viewers":true,
     "hide_output_from_viewers":true
    }
   }
  },
  {
   "cell_type":"code",
   "source":[
    "# Create the pipeline\n",
    "pipeline = Pipeline(steps=[\n",
    "    ('preprocessor', preprocessor),\n",
    "    ('regressor', CatBoostRegressor(silent=True))\n",
    "])"
   ],
   "execution_count":53,
   "outputs":[],
   "metadata":{
    "datalore":{
     "node_id":"MfVLIAiC9FHqu3fgI1dEqm",
     "type":"CODE",
     "hide_input_from_viewers":true,
     "hide_output_from_viewers":true
    }
   }
  },
  {
   "cell_type":"code",
   "source":[
    "# Fit the pipeline\n",
    "pipeline.fit(X_train, y_train)"
   ],
   "execution_count":54,
   "outputs":[
    {
     "data":{
      "text\/html":[
       "<style>#sk-container-id-2 {color: black;background-color: white;}#sk-container-id-2 pre{padding: 0;}#sk-container-id-2 div.sk-toggleable {background-color: white;}#sk-container-id-2 label.sk-toggleable__label {cursor: pointer;display: block;width: 100%;margin-bottom: 0;padding: 0.3em;box-sizing: border-box;text-align: center;}#sk-container-id-2 label.sk-toggleable__label-arrow:before {content: \"▸\";float: left;margin-right: 0.25em;color: #696969;}#sk-container-id-2 label.sk-toggleable__label-arrow:hover:before {color: black;}#sk-container-id-2 div.sk-estimator:hover label.sk-toggleable__label-arrow:before {color: black;}#sk-container-id-2 div.sk-toggleable__content {max-height: 0;max-width: 0;overflow: hidden;text-align: left;background-color: #f0f8ff;}#sk-container-id-2 div.sk-toggleable__content pre {margin: 0.2em;color: black;border-radius: 0.25em;background-color: #f0f8ff;}#sk-container-id-2 input.sk-toggleable__control:checked~div.sk-toggleable__content {max-height: 200px;max-width: 100%;overflow: auto;}#sk-container-id-2 input.sk-toggleable__control:checked~label.sk-toggleable__label-arrow:before {content: \"▾\";}#sk-container-id-2 div.sk-estimator input.sk-toggleable__control:checked~label.sk-toggleable__label {background-color: #d4ebff;}#sk-container-id-2 div.sk-label input.sk-toggleable__control:checked~label.sk-toggleable__label {background-color: #d4ebff;}#sk-container-id-2 input.sk-hidden--visually {border: 0;clip: rect(1px 1px 1px 1px);clip: rect(1px, 1px, 1px, 1px);height: 1px;margin: -1px;overflow: hidden;padding: 0;position: absolute;width: 1px;}#sk-container-id-2 div.sk-estimator {font-family: monospace;background-color: #f0f8ff;border: 1px dotted black;border-radius: 0.25em;box-sizing: border-box;margin-bottom: 0.5em;}#sk-container-id-2 div.sk-estimator:hover {background-color: #d4ebff;}#sk-container-id-2 div.sk-parallel-item::after {content: \"\";width: 100%;border-bottom: 1px solid gray;flex-grow: 1;}#sk-container-id-2 div.sk-label:hover label.sk-toggleable__label {background-color: #d4ebff;}#sk-container-id-2 div.sk-serial::before {content: \"\";position: absolute;border-left: 1px solid gray;box-sizing: border-box;top: 0;bottom: 0;left: 50%;z-index: 0;}#sk-container-id-2 div.sk-serial {display: flex;flex-direction: column;align-items: center;background-color: white;padding-right: 0.2em;padding-left: 0.2em;position: relative;}#sk-container-id-2 div.sk-item {position: relative;z-index: 1;}#sk-container-id-2 div.sk-parallel {display: flex;align-items: stretch;justify-content: center;background-color: white;position: relative;}#sk-container-id-2 div.sk-item::before, #sk-container-id-2 div.sk-parallel-item::before {content: \"\";position: absolute;border-left: 1px solid gray;box-sizing: border-box;top: 0;bottom: 0;left: 50%;z-index: -1;}#sk-container-id-2 div.sk-parallel-item {display: flex;flex-direction: column;z-index: 1;position: relative;background-color: white;}#sk-container-id-2 div.sk-parallel-item:first-child::after {align-self: flex-end;width: 50%;}#sk-container-id-2 div.sk-parallel-item:last-child::after {align-self: flex-start;width: 50%;}#sk-container-id-2 div.sk-parallel-item:only-child::after {width: 0;}#sk-container-id-2 div.sk-dashed-wrapped {border: 1px dashed gray;margin: 0 0.4em 0.5em 0.4em;box-sizing: border-box;padding-bottom: 0.4em;background-color: white;}#sk-container-id-2 div.sk-label label {font-family: monospace;font-weight: bold;display: inline-block;line-height: 1.2em;}#sk-container-id-2 div.sk-label-container {text-align: center;}#sk-container-id-2 div.sk-container {\/* jupyter's `normalize.less` sets `[hidden] { display: none; }` but bootstrap.min.css set `[hidden] { display: none !important; }` so we also need the `!important` here to be able to override the default hidden behavior on the sphinx rendered scikit-learn.org. See: https:\/\/github.com\/scikit-learn\/scikit-learn\/issues\/21755 *\/display: inline-block !important;position: relative;}#sk-container-id-2 div.sk-text-repr-fallback {display: none;}<\/style><div id=\"sk-container-id-2\" class=\"sk-top-container\"><div class=\"sk-text-repr-fallback\"><pre>Pipeline(steps=[(&#x27;preprocessor&#x27;,\n",
       "                 ColumnTransformer(remainder=&#x27;passthrough&#x27;,\n",
       "                                   transformers=[(&#x27;seq&#x27;,\n",
       "                                                  Pipeline(steps=[(&#x27;seq_pos&#x27;,\n",
       "                                                                   SequencePositionTransformer()),\n",
       "                                                                  (&#x27;onehot&#x27;,\n",
       "                                                                   OneHotEncoder(handle_unknown=&#x27;ignore&#x27;,\n",
       "                                                                                 sparse_output=False))]),\n",
       "                                                  &#x27;cleaned_sequence&#x27;),\n",
       "                                                 (&#x27;num&#x27;,\n",
       "                                                  Pipeline(steps=[(&#x27;scaler&#x27;,\n",
       "                                                                   StandardScaler())]),\n",
       "                                                  [&#x27;molecular_weight&#x27;,\n",
       "                                                   &#x27;aromaticity&#x27;,\n",
       "                                                   &#x27;instability_index...\n",
       "                                                   &#x27;sheet_fraction&#x27;,\n",
       "                                                   &#x27;molar_extinction_coefficient_reduced&#x27;,\n",
       "                                                   &#x27;molar_extinction_coefficient_oxidized&#x27;,\n",
       "                                                   &#x27;gravy&#x27;, &#x27;charge_at_ph&#x27;,\n",
       "                                                   &#x27;sequence_len&#x27;, &#x27;Time&#x27;,\n",
       "                                                   &#x27;Temp.&#x27;, &#x27;nht_tail&#x27;,\n",
       "                                                   &#x27;acylated_terminal&#x27;]),\n",
       "                                                 (&#x27;cat&#x27;,\n",
       "                                                  Pipeline(steps=[(&#x27;onehot&#x27;,\n",
       "                                                                   OneHotEncoder(handle_unknown=&#x27;ignore&#x27;,\n",
       "                                                                                 sparse_output=False))]),\n",
       "                                                  [&#x27;Cell line&#x27;])])),\n",
       "                (&#x27;regressor&#x27;,\n",
       "                 &lt;catboost.core.CatBoostRegressor object at 0x7f08bcafc1f0&gt;)])<\/pre><b>In a Jupyter environment, please rerun this cell to show the HTML representation or trust the notebook. <br \/>On GitHub, the HTML representation is unable to render, please try loading this page with nbviewer.org.<\/b><\/div><div class=\"sk-container\" hidden><div class=\"sk-item sk-dashed-wrapped\"><div class=\"sk-label-container\"><div class=\"sk-label sk-toggleable\"><input class=\"sk-toggleable__control sk-hidden--visually\" id=\"sk-estimator-id-13\" type=\"checkbox\" ><label for=\"sk-estimator-id-13\" class=\"sk-toggleable__label sk-toggleable__label-arrow\">Pipeline<\/label><div class=\"sk-toggleable__content\"><pre>Pipeline(steps=[(&#x27;preprocessor&#x27;,\n",
       "                 ColumnTransformer(remainder=&#x27;passthrough&#x27;,\n",
       "                                   transformers=[(&#x27;seq&#x27;,\n",
       "                                                  Pipeline(steps=[(&#x27;seq_pos&#x27;,\n",
       "                                                                   SequencePositionTransformer()),\n",
       "                                                                  (&#x27;onehot&#x27;,\n",
       "                                                                   OneHotEncoder(handle_unknown=&#x27;ignore&#x27;,\n",
       "                                                                                 sparse_output=False))]),\n",
       "                                                  &#x27;cleaned_sequence&#x27;),\n",
       "                                                 (&#x27;num&#x27;,\n",
       "                                                  Pipeline(steps=[(&#x27;scaler&#x27;,\n",
       "                                                                   StandardScaler())]),\n",
       "                                                  [&#x27;molecular_weight&#x27;,\n",
       "                                                   &#x27;aromaticity&#x27;,\n",
       "                                                   &#x27;instability_index...\n",
       "                                                   &#x27;sheet_fraction&#x27;,\n",
       "                                                   &#x27;molar_extinction_coefficient_reduced&#x27;,\n",
       "                                                   &#x27;molar_extinction_coefficient_oxidized&#x27;,\n",
       "                                                   &#x27;gravy&#x27;, &#x27;charge_at_ph&#x27;,\n",
       "                                                   &#x27;sequence_len&#x27;, &#x27;Time&#x27;,\n",
       "                                                   &#x27;Temp.&#x27;, &#x27;nht_tail&#x27;,\n",
       "                                                   &#x27;acylated_terminal&#x27;]),\n",
       "                                                 (&#x27;cat&#x27;,\n",
       "                                                  Pipeline(steps=[(&#x27;onehot&#x27;,\n",
       "                                                                   OneHotEncoder(handle_unknown=&#x27;ignore&#x27;,\n",
       "                                                                                 sparse_output=False))]),\n",
       "                                                  [&#x27;Cell line&#x27;])])),\n",
       "                (&#x27;regressor&#x27;,\n",
       "                 &lt;catboost.core.CatBoostRegressor object at 0x7f08bcafc1f0&gt;)])<\/pre><\/div><\/div><\/div><div class=\"sk-serial\"><div class=\"sk-item sk-dashed-wrapped\"><div class=\"sk-label-container\"><div class=\"sk-label sk-toggleable\"><input class=\"sk-toggleable__control sk-hidden--visually\" id=\"sk-estimator-id-14\" type=\"checkbox\" ><label for=\"sk-estimator-id-14\" class=\"sk-toggleable__label sk-toggleable__label-arrow\">preprocessor: ColumnTransformer<\/label><div class=\"sk-toggleable__content\"><pre>ColumnTransformer(remainder=&#x27;passthrough&#x27;,\n",
       "                  transformers=[(&#x27;seq&#x27;,\n",
       "                                 Pipeline(steps=[(&#x27;seq_pos&#x27;,\n",
       "                                                  SequencePositionTransformer()),\n",
       "                                                 (&#x27;onehot&#x27;,\n",
       "                                                  OneHotEncoder(handle_unknown=&#x27;ignore&#x27;,\n",
       "                                                                sparse_output=False))]),\n",
       "                                 &#x27;cleaned_sequence&#x27;),\n",
       "                                (&#x27;num&#x27;,\n",
       "                                 Pipeline(steps=[(&#x27;scaler&#x27;, StandardScaler())]),\n",
       "                                 [&#x27;molecular_weight&#x27;, &#x27;aromaticity&#x27;,\n",
       "                                  &#x27;instability_index&#x27;, &#x27;isoelectric_point&#x27;,\n",
       "                                  &#x27;helix_fraction&#x27;, &#x27;turn_fraction&#x27;,\n",
       "                                  &#x27;sheet_fraction&#x27;,\n",
       "                                  &#x27;molar_extinction_coefficient_reduced&#x27;,\n",
       "                                  &#x27;molar_extinction_coefficient_oxidized&#x27;,\n",
       "                                  &#x27;gravy&#x27;, &#x27;charge_at_ph&#x27;, &#x27;sequence_len&#x27;,\n",
       "                                  &#x27;Time&#x27;, &#x27;Temp.&#x27;, &#x27;nht_tail&#x27;,\n",
       "                                  &#x27;acylated_terminal&#x27;]),\n",
       "                                (&#x27;cat&#x27;,\n",
       "                                 Pipeline(steps=[(&#x27;onehot&#x27;,\n",
       "                                                  OneHotEncoder(handle_unknown=&#x27;ignore&#x27;,\n",
       "                                                                sparse_output=False))]),\n",
       "                                 [&#x27;Cell line&#x27;])])<\/pre><\/div><\/div><\/div><div class=\"sk-parallel\"><div class=\"sk-parallel-item\"><div class=\"sk-item\"><div class=\"sk-label-container\"><div class=\"sk-label sk-toggleable\"><input class=\"sk-toggleable__control sk-hidden--visually\" id=\"sk-estimator-id-15\" type=\"checkbox\" ><label for=\"sk-estimator-id-15\" class=\"sk-toggleable__label sk-toggleable__label-arrow\">seq<\/label><div class=\"sk-toggleable__content\"><pre>cleaned_sequence<\/pre><\/div><\/div><\/div><div class=\"sk-serial\"><div class=\"sk-item\"><div class=\"sk-serial\"><div class=\"sk-item\"><div class=\"sk-estimator sk-toggleable\"><input class=\"sk-toggleable__control sk-hidden--visually\" id=\"sk-estimator-id-16\" type=\"checkbox\" ><label for=\"sk-estimator-id-16\" class=\"sk-toggleable__label sk-toggleable__label-arrow\">SequencePositionTransformer<\/label><div class=\"sk-toggleable__content\"><pre>SequencePositionTransformer()<\/pre><\/div><\/div><\/div><div class=\"sk-item\"><div class=\"sk-estimator sk-toggleable\"><input class=\"sk-toggleable__control sk-hidden--visually\" id=\"sk-estimator-id-17\" type=\"checkbox\" ><label for=\"sk-estimator-id-17\" class=\"sk-toggleable__label sk-toggleable__label-arrow\">OneHotEncoder<\/label><div class=\"sk-toggleable__content\"><pre>OneHotEncoder(handle_unknown=&#x27;ignore&#x27;, sparse_output=False)<\/pre><\/div><\/div><\/div><\/div><\/div><\/div><\/div><\/div><div class=\"sk-parallel-item\"><div class=\"sk-item\"><div class=\"sk-label-container\"><div class=\"sk-label sk-toggleable\"><input class=\"sk-toggleable__control sk-hidden--visually\" id=\"sk-estimator-id-18\" type=\"checkbox\" ><label for=\"sk-estimator-id-18\" class=\"sk-toggleable__label sk-toggleable__label-arrow\">num<\/label><div class=\"sk-toggleable__content\"><pre>[&#x27;molecular_weight&#x27;, &#x27;aromaticity&#x27;, &#x27;instability_index&#x27;, &#x27;isoelectric_point&#x27;, &#x27;helix_fraction&#x27;, &#x27;turn_fraction&#x27;, &#x27;sheet_fraction&#x27;, &#x27;molar_extinction_coefficient_reduced&#x27;, &#x27;molar_extinction_coefficient_oxidized&#x27;, &#x27;gravy&#x27;, &#x27;charge_at_ph&#x27;, &#x27;sequence_len&#x27;, &#x27;Time&#x27;, &#x27;Temp.&#x27;, &#x27;nht_tail&#x27;, &#x27;acylated_terminal&#x27;]<\/pre><\/div><\/div><\/div><div class=\"sk-serial\"><div class=\"sk-item\"><div class=\"sk-serial\"><div class=\"sk-item\"><div class=\"sk-estimator sk-toggleable\"><input class=\"sk-toggleable__control sk-hidden--visually\" id=\"sk-estimator-id-19\" type=\"checkbox\" ><label for=\"sk-estimator-id-19\" class=\"sk-toggleable__label sk-toggleable__label-arrow\">StandardScaler<\/label><div class=\"sk-toggleable__content\"><pre>StandardScaler()<\/pre><\/div><\/div><\/div><\/div><\/div><\/div><\/div><\/div><div class=\"sk-parallel-item\"><div class=\"sk-item\"><div class=\"sk-label-container\"><div class=\"sk-label sk-toggleable\"><input class=\"sk-toggleable__control sk-hidden--visually\" id=\"sk-estimator-id-20\" type=\"checkbox\" ><label for=\"sk-estimator-id-20\" class=\"sk-toggleable__label sk-toggleable__label-arrow\">cat<\/label><div class=\"sk-toggleable__content\"><pre>[&#x27;Cell line&#x27;]<\/pre><\/div><\/div><\/div><div class=\"sk-serial\"><div class=\"sk-item\"><div class=\"sk-serial\"><div class=\"sk-item\"><div class=\"sk-estimator sk-toggleable\"><input class=\"sk-toggleable__control sk-hidden--visually\" id=\"sk-estimator-id-21\" type=\"checkbox\" ><label for=\"sk-estimator-id-21\" class=\"sk-toggleable__label sk-toggleable__label-arrow\">OneHotEncoder<\/label><div class=\"sk-toggleable__content\"><pre>OneHotEncoder(handle_unknown=&#x27;ignore&#x27;, sparse_output=False)<\/pre><\/div><\/div><\/div><\/div><\/div><\/div><\/div><\/div><div class=\"sk-parallel-item\"><div class=\"sk-item\"><div class=\"sk-label-container\"><div class=\"sk-label sk-toggleable\"><input class=\"sk-toggleable__control sk-hidden--visually\" id=\"sk-estimator-id-22\" type=\"checkbox\" ><label for=\"sk-estimator-id-22\" class=\"sk-toggleable__label sk-toggleable__label-arrow\">remainder<\/label><div class=\"sk-toggleable__content\"><pre>[&#x27;R_percentage&#x27;, &#x27;K_percentage&#x27;, &#x27;S_percentage&#x27;, &#x27;E_percentage&#x27;]<\/pre><\/div><\/div><\/div><div class=\"sk-serial\"><div class=\"sk-item\"><div class=\"sk-estimator sk-toggleable\"><input class=\"sk-toggleable__control sk-hidden--visually\" id=\"sk-estimator-id-23\" type=\"checkbox\" ><label for=\"sk-estimator-id-23\" class=\"sk-toggleable__label sk-toggleable__label-arrow\">passthrough<\/label><div class=\"sk-toggleable__content\"><pre>passthrough<\/pre><\/div><\/div><\/div><\/div><\/div><\/div><\/div><\/div><div class=\"sk-item\"><div class=\"sk-estimator sk-toggleable\"><input class=\"sk-toggleable__control sk-hidden--visually\" id=\"sk-estimator-id-24\" type=\"checkbox\" ><label for=\"sk-estimator-id-24\" class=\"sk-toggleable__label sk-toggleable__label-arrow\">CatBoostRegressor<\/label><div class=\"sk-toggleable__content\"><pre>&lt;catboost.core.CatBoostRegressor object at 0x7f08bcafc1f0&gt;<\/pre><\/div><\/div><\/div><\/div><\/div><\/div><\/div>"
      ]
     },
     "metadata":{},
     "output_type":"display_data"
    }
   ],
   "metadata":{
    "datalore":{
     "node_id":"Kk2cSy0pyoc86hmrWvotL6",
     "type":"CODE",
     "hide_input_from_viewers":true,
     "hide_output_from_viewers":true
    }
   }
  },
  {
   "cell_type":"code",
   "source":[
    "# Predict on test set\n",
    "y_pred = pipeline.predict(X_test)\n",
    "\n",
    "# Evaluate the model\n",
    "mae = mean_absolute_error(y_test, y_pred)\n",
    "r2 = r2_score(y_test, y_pred)\n",
    "\n",
    "print(f\"Mean Absolute Error: {mae}\")\n",
    "print(f\"R^2 Score: {r2}\")"
   ],
   "execution_count":55,
   "outputs":[
    {
     "name":"stdout",
     "text":[
      "Mean Absolute Error: 1716.3595039737743\n",
      "R^2 Score: 0.28865958933539326\n"
     ],
     "output_type":"stream"
    }
   ],
   "metadata":{
    "datalore":{
     "node_id":"B3MTsKhPFnvCkJ48Sbyg3x",
     "type":"CODE",
     "hide_input_from_viewers":true,
     "hide_output_from_viewers":true
    }
   }
  },
  {
   "cell_type":"code",
   "source":[
    "def objective(trial):\n",
    "    # Define hyperparameters to tune\n",
    "    params = {\n",
    "        \"iterations\": 500,\n",
    "        \"learning_rate\": trial.suggest_float(\"learning_rate\", 1e-3, 0.1, log=True),\n",
    "        \"depth\": trial.suggest_int(\"depth\", 1, 10),\n",
    "        \"subsample\": trial.suggest_float(\"subsample\", 0.05, 1.0),\n",
    "        \"colsample_bylevel\": trial.suggest_float(\"colsample_bylevel\", 0.05, 1.0),\n",
    "        \"min_data_in_leaf\": trial.suggest_int(\"min_data_in_leaf\", 1, 100),\n",
    "    }\n",
    "\n",
    "    # Create the pipeline with tuned CatBoostRegressor\n",
    "    pipeline = Pipeline(steps=[\n",
    "        ('preprocessor', preprocessor),\n",
    "        ('regressor', CatBoostRegressor(**params, silent=True))\n",
    "    ])\n",
    "\n",
    "    # Cross-validation\n",
    "    cv = KFold(n_splits=5, shuffle=True, random_state=42)\n",
    "    # Use 'neg_mean_squared_error' for regression\n",
    "    mse_scores = cross_val_score(pipeline, X, y, cv=cv, scoring='neg_mean_squared_error')\n",
    "\n",
    "    # Return the negative of the mean MSE across all folds (since cross_val_score returns negative MSE)\n",
    "    return -np.mean(mse_scores)"
   ],
   "execution_count":56,
   "outputs":[],
   "metadata":{
    "datalore":{
     "node_id":"LzSNJ8kOJRlhgoPjhjALdr",
     "type":"CODE",
     "hide_input_from_viewers":true,
     "hide_output_from_viewers":true
    }
   }
  },
  {
   "cell_type":"code",
   "source":[
    "# Run the optimization\n",
    "study = optuna.create_study(direction='minimize')\n",
    "study.optimize(objective, n_trials=20)\n",
    "\n",
    "# Print the best parameters found\n",
    "print('Best parameters:', study.best_params)\n",
    "print('Best value (negative MSE):', study.best_value)"
   ],
   "execution_count":58,
   "outputs":[
    {
     "name":"stdout",
     "text":[
      "Best parameters: {'learning_rate': 0.037696935007989374, 'depth': 7, 'subsample': 0.268992969369074, 'colsample_bylevel': 0.09392782600152243, 'min_data_in_leaf': 26}\n",
      "Best value (negative MSE): 109712840.93210241\n"
     ],
     "output_type":"stream"
    },
    {
     "name":"stderr",
     "text":[
      "[I 2024-07-22 20:46:54,534] A new study created in memory with name: no-name-8aaf691f-4853-4d2e-8ea3-40a2b1626d48\n",
      "[I 2024-07-22 20:47:08,746] Trial 0 finished with value: 109712840.93210241 and parameters: {'learning_rate': 0.037696935007989374, 'depth': 7, 'subsample': 0.268992969369074, 'colsample_bylevel': 0.09392782600152243, 'min_data_in_leaf': 26}. Best is trial 0 with value: 109712840.93210241.\n",
      "[I 2024-07-22 20:47:18,515] Trial 1 finished with value: 117984727.54868142 and parameters: {'learning_rate': 0.02031031311568346, 'depth': 6, 'subsample': 0.8931076032846623, 'colsample_bylevel': 0.0961463541493828, 'min_data_in_leaf': 85}. Best is trial 0 with value: 109712840.93210241.\n",
      "[I 2024-07-22 20:47:40,585] Trial 2 finished with value: 116008709.69492054 and parameters: {'learning_rate': 0.06128689148602604, 'depth': 8, 'subsample': 0.7600123693442699, 'colsample_bylevel': 0.40663494732299826, 'min_data_in_leaf': 46}. Best is trial 0 with value: 109712840.93210241.\n",
      "[I 2024-07-22 20:47:48,636] Trial 3 finished with value: 165289263.235372 and parameters: {'learning_rate': 0.00526416297581899, 'depth': 5, 'subsample': 0.0714383172392936, 'colsample_bylevel': 0.07820309792503476, 'min_data_in_leaf': 76}. Best is trial 0 with value: 109712840.93210241.\n",
      "[I 2024-07-22 20:47:59,962] Trial 4 finished with value: 114529718.61181803 and parameters: {'learning_rate': 0.03184832774184077, 'depth': 6, 'subsample': 0.79082331000389, 'colsample_bylevel': 0.4248305213361083, 'min_data_in_leaf': 98}. Best is trial 0 with value: 109712840.93210241.\n",
      "[I 2024-07-22 20:48:06,972] Trial 5 finished with value: 120276338.25510344 and parameters: {'learning_rate': 0.04282866585595475, 'depth': 3, 'subsample': 0.10625250658478652, 'colsample_bylevel': 0.3107067788503, 'min_data_in_leaf': 14}. Best is trial 0 with value: 109712840.93210241.\n",
      "[I 2024-07-22 20:48:13,731] Trial 6 finished with value: 140052953.800954 and parameters: {'learning_rate': 0.013996900809573108, 'depth': 2, 'subsample': 0.37815085063467474, 'colsample_bylevel': 0.9894895166340965, 'min_data_in_leaf': 42}. Best is trial 0 with value: 109712840.93210241.\n",
      "[I 2024-07-22 20:48:42,133] Trial 7 finished with value: 177913983.0821206 and parameters: {'learning_rate': 0.0011108400914222871, 'depth': 10, 'subsample': 0.20630146864499888, 'colsample_bylevel': 0.07387860036536585, 'min_data_in_leaf': 87}. Best is trial 0 with value: 109712840.93210241.\n",
      "[I 2024-07-22 20:48:49,473] Trial 8 finished with value: 144977710.62706542 and parameters: {'learning_rate': 0.007943989283887506, 'depth': 3, 'subsample': 0.8639954090660084, 'colsample_bylevel': 0.48978109295711714, 'min_data_in_leaf': 94}. Best is trial 0 with value: 109712840.93210241.\n",
      "[I 2024-07-22 20:49:06,349] Trial 9 finished with value: 114684987.77629256 and parameters: {'learning_rate': 0.02151862007625845, 'depth': 7, 'subsample': 0.425668527897735, 'colsample_bylevel': 0.9714154590966589, 'min_data_in_leaf': 59}. Best is trial 0 with value: 109712840.93210241.\n",
      "[I 2024-07-22 20:50:13,632] Trial 10 finished with value: 118148990.22168593 and parameters: {'learning_rate': 0.07980662773128343, 'depth': 10, 'subsample': 0.6202466783464495, 'colsample_bylevel': 0.710458197038975, 'min_data_in_leaf': 12}. Best is trial 0 with value: 109712840.93210241.\n",
      "[I 2024-07-22 20:50:22,639] Trial 11 finished with value: 113124356.45765047 and parameters: {'learning_rate': 0.03430522726314537, 'depth': 5, 'subsample': 0.6700663178873901, 'colsample_bylevel': 0.2653254827804353, 'min_data_in_leaf': 28}. Best is trial 0 with value: 109712840.93210241.\n",
      "[I 2024-07-22 20:50:30,544] Trial 12 finished with value: 160607377.9500811 and parameters: {'learning_rate': 0.003736044067055587, 'depth': 4, 'subsample': 0.598775059058867, 'colsample_bylevel': 0.24602932265657174, 'min_data_in_leaf': 25}. Best is trial 0 with value: 109712840.93210241.\n",
      "[I 2024-07-22 20:50:49,399] Trial 13 finished with value: 113124571.56697293 and parameters: {'learning_rate': 0.0833326435548414, 'depth': 8, 'subsample': 0.301942095471215, 'colsample_bylevel': 0.24372417597753754, 'min_data_in_leaf': 30}. Best is trial 0 with value: 109712840.93210241.\n",
      "[I 2024-07-22 20:50:59,308] Trial 14 finished with value: 116454813.03494327 and parameters: {'learning_rate': 0.03983002812985079, 'depth': 5, 'subsample': 0.501508942012876, 'colsample_bylevel': 0.6160355887815543, 'min_data_in_leaf': 31}. Best is trial 0 with value: 109712840.93210241.\n",
      "[I 2024-07-22 20:51:05,002] Trial 15 finished with value: 160168102.00910786 and parameters: {'learning_rate': 0.011318811689671296, 'depth': 1, 'subsample': 0.9917139387151862, 'colsample_bylevel': 0.18667629754160844, 'min_data_in_leaf': 67}. Best is trial 0 with value: 109712840.93210241.\n",
      "[I 2024-07-22 20:51:29,280] Trial 16 finished with value: 111320059.98118615 and parameters: {'learning_rate': 0.0260704296297674, 'depth': 8, 'subsample': 0.640741850901558, 'colsample_bylevel': 0.33323682348625505, 'min_data_in_leaf': 5}. Best is trial 0 with value: 109712840.93210241.\n",
      "[I 2024-07-22 20:53:09,719] Trial 17 finished with value: 162509963.61182064 and parameters: {'learning_rate': 0.0024315598881069103, 'depth': 8, 'subsample': 0.2351786677651495, 'colsample_bylevel': 0.3600779695651098, 'min_data_in_leaf': 3}. Best is trial 0 with value: 109712840.93210241.\n",
      "[I 2024-07-22 20:55:43,356] Trial 18 finished with value: 113448625.1835391 and parameters: {'learning_rate': 0.018804083139170095, 'depth': 9, 'subsample': 0.4952166549263918, 'colsample_bylevel': 0.6372384136786684, 'min_data_in_leaf': 2}. Best is trial 0 with value: 109712840.93210241.\n",
      "[I 2024-07-22 20:56:06,986] Trial 19 finished with value: 137682080.13446262 and parameters: {'learning_rate': 0.008113369210241854, 'depth': 7, 'subsample': 0.36117909724216907, 'colsample_bylevel': 0.159704354766604, 'min_data_in_leaf': 17}. Best is trial 0 with value: 109712840.93210241.\n"
     ],
     "output_type":"stream"
    }
   ],
   "metadata":{
    "datalore":{
     "node_id":"pdN6nRiPbvbmuHdVVcEL61",
     "type":"CODE",
     "hide_input_from_viewers":true,
     "hide_output_from_viewers":true
    }
   }
  },
  {
   "cell_type":"code",
   "source":[
    "BEST_REGRESSION_PARAMS = {\n",
    "    'learning_rate': 0.037696935007989374,\n",
    "    'depth': 7,\n",
    "    # 'subsample': 0.268992969369074,\n",
    "    'colsample_bylevel': 0.09392782600152243,\n",
    "    'min_data_in_leaf': 26\n",
    "}"
   ],
   "execution_count":42,
   "outputs":[],
   "metadata":{
    "datalore":{
     "node_id":"axAHubyeblP63VIPwFx23y",
     "type":"CODE",
     "hide_input_from_viewers":true,
     "hide_output_from_viewers":true
    }
   }
  },
  {
   "cell_type":"code",
   "source":[
    "from sklearn.metrics import mean_absolute_error, r2_score\n",
    "\n",
    "best_params = BEST_REGRESSION_PARAMS\n",
    "final_model = Pipeline(steps=[\n",
    "    ('preprocessor', preprocessor),\n",
    "    ('classifier', CatBoostRegressor(**best_params, silent=True))\n",
    "])\n",
    "final_model.fit(X_train, y_train)\n",
    "\n",
    "# Predict on test set\n",
    "y_pred = pipeline.predict(X_test)\n",
    "\n",
    "# Evaluate the model\n",
    "mae = mean_absolute_error(y_test, y_pred)\n",
    "r2 = r2_score(y_test, y_pred)\n",
    "\n",
    "print(f\"Mean Absolute Error: {mae}\")\n",
    "print(f\"R^2 Score: {r2}\")"
   ],
   "execution_count":43,
   "outputs":[
    {
     "name":"stdout",
     "text":[
      "Mean Absolute Error: 0.1024\n",
      "R^2 Score: 0.587654371894522\n"
     ],
     "output_type":"stream"
    }
   ],
   "metadata":{
    "datalore":{
     "node_id":"Rk1Q5cD4vMrrCrh7K3Dkmn",
     "type":"CODE",
     "hide_input_from_viewers":true,
     "hide_output_from_viewers":true
    }
   }
  },
  {
   "cell_type":"code",
   "source":[],
   "execution_count":null,
   "outputs":[],
   "metadata":{
    "datalore":{
     "node_id":"3bvTRKE5LIQnSpzoH0vzCI",
     "type":"CODE",
     "hide_input_from_viewers":true,
     "hide_output_from_viewers":true
    }
   }
  }
 ],
 "metadata":{
  "kernelspec":{
   "display_name":"Python",
   "language":"python",
   "name":"python"
  },
  "datalore":{
   "computation_mode":"JUPYTER",
   "package_manager":"pip",
   "base_environment":"default",
   "packages":[],
   "report_row_ids":[],
   "version":3
  }
 },
 "nbformat":4,
 "nbformat_minor":4
}